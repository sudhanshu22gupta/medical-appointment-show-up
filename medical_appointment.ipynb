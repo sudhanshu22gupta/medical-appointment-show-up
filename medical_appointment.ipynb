{
 "cells": [
  {
   "cell_type": "code",
   "execution_count": 1,
   "id": "d607f7a4",
   "metadata": {
    "ExecuteTime": {
     "end_time": "2023-09-01T22:35:05.107505Z",
     "start_time": "2023-09-01T22:35:05.102899Z"
    },
    "scrolled": false
   },
   "outputs": [
    {
     "data": {
      "text/html": [
       "<style>.container { width:100% !important; }</style>"
      ],
      "text/plain": [
       "<IPython.core.display.HTML object>"
      ]
     },
     "metadata": {},
     "output_type": "display_data"
    }
   ],
   "source": [
    "display_width = 100 # in percentage\n",
    "\n",
    "from IPython.display import display, HTML\n",
    "display(HTML(\"<style>.container { width:\"+str(display_width)+\"% !important; }</style>\"))"
   ]
  },
  {
   "cell_type": "code",
   "execution_count": 2,
   "id": "cbe1c9b5",
   "metadata": {
    "ExecuteTime": {
     "end_time": "2023-09-01T22:35:05.394359Z",
     "start_time": "2023-09-01T22:35:05.380197Z"
    }
   },
   "outputs": [],
   "source": [
    "%reload_ext autoreload\n",
    "%autoreload 2"
   ]
  },
  {
   "cell_type": "code",
   "execution_count": 3,
   "id": "c0453da0",
   "metadata": {
    "ExecuteTime": {
     "end_time": "2023-09-01T22:35:06.044360Z",
     "start_time": "2023-09-01T22:35:06.036941Z"
    }
   },
   "outputs": [],
   "source": [
    "import sys\n",
    "sys.path.append(\"/Users/sudhanshugupta/Library/Python/3.9/lib/python/site-packages\")"
   ]
  },
  {
   "cell_type": "code",
   "execution_count": 4,
   "id": "ee4bf502",
   "metadata": {
    "ExecuteTime": {
     "end_time": "2023-09-01T22:35:07.345721Z",
     "start_time": "2023-09-01T22:35:06.667073Z"
    }
   },
   "outputs": [],
   "source": [
    "import pandas as pd\n",
    "import numpy as np\n",
    "\n",
    "import os\n",
    "\n",
    "import matplotlib.pyplot as plt\n",
    "%matplotlib inline"
   ]
  },
  {
   "cell_type": "code",
   "execution_count": 5,
   "id": "c67dd2a1",
   "metadata": {
    "ExecuteTime": {
     "end_time": "2023-09-01T22:35:11.149612Z",
     "start_time": "2023-09-01T22:35:08.062755Z"
    }
   },
   "outputs": [
    {
     "name": "stderr",
     "output_type": "stream",
     "text": [
      "/Users/sudhanshugupta/Library/Python/3.9/lib/python/site-packages/tqdm/auto.py:21: TqdmWarning: IProgress not found. Please update jupyter and ipywidgets. See https://ipywidgets.readthedocs.io/en/stable/user_install.html\n",
      "  from .autonotebook import tqdm as notebook_tqdm\n"
     ]
    }
   ],
   "source": [
    "from EDA import EDA_medical_appointment\n",
    "from preprocessing import preprocMedicalAppointment\n",
    "from feature_extraction import featuresMedicalAppointment, feature_selection_permutation_importance, feature_selection_hierarchical_clustering\n",
    "from classification import LogisticRegressionClf, RandomForestClf, MLPClf, XGBClf\n",
    "from utils import train_val_test_split, compare_performances_across_classifiers"
   ]
  },
  {
   "cell_type": "markdown",
   "id": "09de5e3e",
   "metadata": {},
   "source": [
    "# Read Data"
   ]
  },
  {
   "cell_type": "code",
   "execution_count": 6,
   "id": "488ac9e0",
   "metadata": {
    "ExecuteTime": {
     "end_time": "2023-09-01T22:35:13.580090Z",
     "start_time": "2023-09-01T22:35:13.377920Z"
    },
    "scrolled": true
   },
   "outputs": [
    {
     "data": {
      "text/html": [
       "<div>\n",
       "<style scoped>\n",
       "    .dataframe tbody tr th:only-of-type {\n",
       "        vertical-align: middle;\n",
       "    }\n",
       "\n",
       "    .dataframe tbody tr th {\n",
       "        vertical-align: top;\n",
       "    }\n",
       "\n",
       "    .dataframe thead th {\n",
       "        text-align: right;\n",
       "    }\n",
       "</style>\n",
       "<table border=\"1\" class=\"dataframe\">\n",
       "  <thead>\n",
       "    <tr style=\"text-align: right;\">\n",
       "      <th></th>\n",
       "      <th>PatientID</th>\n",
       "      <th>AppointmentID</th>\n",
       "      <th>Gender</th>\n",
       "      <th>ScheduledDay</th>\n",
       "      <th>AppointmentDay</th>\n",
       "      <th>Age</th>\n",
       "      <th>Neighbourhood</th>\n",
       "      <th>Scholarship</th>\n",
       "      <th>Hypertension</th>\n",
       "      <th>Diabetes</th>\n",
       "      <th>Alcoholism</th>\n",
       "      <th>Handicap</th>\n",
       "      <th>SMS_received</th>\n",
       "      <th>no_show</th>\n",
       "    </tr>\n",
       "  </thead>\n",
       "  <tbody>\n",
       "    <tr>\n",
       "      <th>20025</th>\n",
       "      <td>3.175593e+13</td>\n",
       "      <td>5665611</td>\n",
       "      <td>M</td>\n",
       "      <td>2016-05-05T14:55:28Z</td>\n",
       "      <td>2016-05-05T00:00:00Z</td>\n",
       "      <td>2</td>\n",
       "      <td>BELA VISTA</td>\n",
       "      <td>0</td>\n",
       "      <td>0</td>\n",
       "      <td>0</td>\n",
       "      <td>0</td>\n",
       "      <td>0</td>\n",
       "      <td>0</td>\n",
       "      <td>0</td>\n",
       "    </tr>\n",
       "    <tr>\n",
       "      <th>14073</th>\n",
       "      <td>8.765665e+10</td>\n",
       "      <td>5660744</td>\n",
       "      <td>M</td>\n",
       "      <td>2016-05-04T18:20:28Z</td>\n",
       "      <td>2016-05-13T00:00:00Z</td>\n",
       "      <td>56</td>\n",
       "      <td>MARUÍPE</td>\n",
       "      <td>0</td>\n",
       "      <td>0</td>\n",
       "      <td>0</td>\n",
       "      <td>0</td>\n",
       "      <td>0</td>\n",
       "      <td>0</td>\n",
       "      <td>0</td>\n",
       "    </tr>\n",
       "    <tr>\n",
       "      <th>83229</th>\n",
       "      <td>8.466818e+13</td>\n",
       "      <td>5706608</td>\n",
       "      <td>F</td>\n",
       "      <td>2016-05-17T08:34:13Z</td>\n",
       "      <td>2016-05-17T00:00:00Z</td>\n",
       "      <td>53</td>\n",
       "      <td>ITARARÉ</td>\n",
       "      <td>0</td>\n",
       "      <td>1</td>\n",
       "      <td>0</td>\n",
       "      <td>0</td>\n",
       "      <td>0</td>\n",
       "      <td>0</td>\n",
       "      <td>0</td>\n",
       "    </tr>\n",
       "    <tr>\n",
       "      <th>46978</th>\n",
       "      <td>4.373719e+13</td>\n",
       "      <td>5602541</td>\n",
       "      <td>M</td>\n",
       "      <td>2016-04-19T15:08:08Z</td>\n",
       "      <td>2016-05-18T00:00:00Z</td>\n",
       "      <td>20</td>\n",
       "      <td>ANTÔNIO HONÓRIO</td>\n",
       "      <td>0</td>\n",
       "      <td>0</td>\n",
       "      <td>0</td>\n",
       "      <td>0</td>\n",
       "      <td>0</td>\n",
       "      <td>0</td>\n",
       "      <td>1</td>\n",
       "    </tr>\n",
       "    <tr>\n",
       "      <th>68267</th>\n",
       "      <td>1.416561e+13</td>\n",
       "      <td>5546257</td>\n",
       "      <td>M</td>\n",
       "      <td>2016-04-05T15:45:23Z</td>\n",
       "      <td>2016-05-06T00:00:00Z</td>\n",
       "      <td>54</td>\n",
       "      <td>ANDORINHAS</td>\n",
       "      <td>0</td>\n",
       "      <td>0</td>\n",
       "      <td>0</td>\n",
       "      <td>0</td>\n",
       "      <td>0</td>\n",
       "      <td>0</td>\n",
       "      <td>0</td>\n",
       "    </tr>\n",
       "    <tr>\n",
       "      <th>52136</th>\n",
       "      <td>5.985752e+12</td>\n",
       "      <td>5720237</td>\n",
       "      <td>F</td>\n",
       "      <td>2016-05-19T13:30:56Z</td>\n",
       "      <td>2016-05-24T00:00:00Z</td>\n",
       "      <td>36</td>\n",
       "      <td>CRUZAMENTO</td>\n",
       "      <td>0</td>\n",
       "      <td>0</td>\n",
       "      <td>0</td>\n",
       "      <td>0</td>\n",
       "      <td>0</td>\n",
       "      <td>1</td>\n",
       "      <td>0</td>\n",
       "    </tr>\n",
       "    <tr>\n",
       "      <th>1161</th>\n",
       "      <td>8.938212e+11</td>\n",
       "      <td>5638594</td>\n",
       "      <td>F</td>\n",
       "      <td>2016-04-29T08:11:46Z</td>\n",
       "      <td>2016-04-29T00:00:00Z</td>\n",
       "      <td>16</td>\n",
       "      <td>GRANDE VITÓRIA</td>\n",
       "      <td>0</td>\n",
       "      <td>0</td>\n",
       "      <td>0</td>\n",
       "      <td>0</td>\n",
       "      <td>0</td>\n",
       "      <td>0</td>\n",
       "      <td>0</td>\n",
       "    </tr>\n",
       "    <tr>\n",
       "      <th>68533</th>\n",
       "      <td>4.197380e+11</td>\n",
       "      <td>5729121</td>\n",
       "      <td>M</td>\n",
       "      <td>2016-05-24T07:14:24Z</td>\n",
       "      <td>2016-05-24T00:00:00Z</td>\n",
       "      <td>39</td>\n",
       "      <td>MARIA ORTIZ</td>\n",
       "      <td>0</td>\n",
       "      <td>0</td>\n",
       "      <td>0</td>\n",
       "      <td>0</td>\n",
       "      <td>0</td>\n",
       "      <td>0</td>\n",
       "      <td>0</td>\n",
       "    </tr>\n",
       "    <tr>\n",
       "      <th>71123</th>\n",
       "      <td>7.253564e+13</td>\n",
       "      <td>5478099</td>\n",
       "      <td>M</td>\n",
       "      <td>2016-03-16T14:09:39Z</td>\n",
       "      <td>2016-05-25T00:00:00Z</td>\n",
       "      <td>66</td>\n",
       "      <td>FONTE GRANDE</td>\n",
       "      <td>0</td>\n",
       "      <td>1</td>\n",
       "      <td>0</td>\n",
       "      <td>1</td>\n",
       "      <td>0</td>\n",
       "      <td>1</td>\n",
       "      <td>1</td>\n",
       "    </tr>\n",
       "    <tr>\n",
       "      <th>77306</th>\n",
       "      <td>1.159426e+13</td>\n",
       "      <td>5662972</td>\n",
       "      <td>M</td>\n",
       "      <td>2016-05-05T09:18:01Z</td>\n",
       "      <td>2016-05-05T00:00:00Z</td>\n",
       "      <td>41</td>\n",
       "      <td>SANTO ANTÔNIO</td>\n",
       "      <td>0</td>\n",
       "      <td>1</td>\n",
       "      <td>0</td>\n",
       "      <td>0</td>\n",
       "      <td>0</td>\n",
       "      <td>0</td>\n",
       "      <td>0</td>\n",
       "    </tr>\n",
       "  </tbody>\n",
       "</table>\n",
       "</div>"
      ],
      "text/plain": [
       "          PatientID  AppointmentID Gender          ScheduledDay  \\\n",
       "20025  3.175593e+13        5665611      M  2016-05-05T14:55:28Z   \n",
       "14073  8.765665e+10        5660744      M  2016-05-04T18:20:28Z   \n",
       "83229  8.466818e+13        5706608      F  2016-05-17T08:34:13Z   \n",
       "46978  4.373719e+13        5602541      M  2016-04-19T15:08:08Z   \n",
       "68267  1.416561e+13        5546257      M  2016-04-05T15:45:23Z   \n",
       "52136  5.985752e+12        5720237      F  2016-05-19T13:30:56Z   \n",
       "1161   8.938212e+11        5638594      F  2016-04-29T08:11:46Z   \n",
       "68533  4.197380e+11        5729121      M  2016-05-24T07:14:24Z   \n",
       "71123  7.253564e+13        5478099      M  2016-03-16T14:09:39Z   \n",
       "77306  1.159426e+13        5662972      M  2016-05-05T09:18:01Z   \n",
       "\n",
       "             AppointmentDay  Age    Neighbourhood  Scholarship  Hypertension  \\\n",
       "20025  2016-05-05T00:00:00Z    2       BELA VISTA            0             0   \n",
       "14073  2016-05-13T00:00:00Z   56          MARUÍPE            0             0   \n",
       "83229  2016-05-17T00:00:00Z   53          ITARARÉ            0             1   \n",
       "46978  2016-05-18T00:00:00Z   20  ANTÔNIO HONÓRIO            0             0   \n",
       "68267  2016-05-06T00:00:00Z   54       ANDORINHAS            0             0   \n",
       "52136  2016-05-24T00:00:00Z   36       CRUZAMENTO            0             0   \n",
       "1161   2016-04-29T00:00:00Z   16   GRANDE VITÓRIA            0             0   \n",
       "68533  2016-05-24T00:00:00Z   39      MARIA ORTIZ            0             0   \n",
       "71123  2016-05-25T00:00:00Z   66     FONTE GRANDE            0             1   \n",
       "77306  2016-05-05T00:00:00Z   41    SANTO ANTÔNIO            0             1   \n",
       "\n",
       "       Diabetes  Alcoholism  Handicap  SMS_received  no_show  \n",
       "20025         0           0         0             0        0  \n",
       "14073         0           0         0             0        0  \n",
       "83229         0           0         0             0        0  \n",
       "46978         0           0         0             0        1  \n",
       "68267         0           0         0             0        0  \n",
       "52136         0           0         0             1        0  \n",
       "1161          0           0         0             0        0  \n",
       "68533         0           0         0             0        0  \n",
       "71123         0           1         0             1        1  \n",
       "77306         0           0         0             0        0  "
      ]
     },
     "execution_count": 6,
     "metadata": {},
     "output_type": "execute_result"
    }
   ],
   "source": [
    "df_medical_appointment = pd.read_csv(\"./data/medical_appointment_train.csv\")\n",
    "df_medical_appointment.rename(columns={\"No-show\": \"no_show\"}, inplace=True)\n",
    "df_medical_appointment['no_show'].replace({\"No\": 0, \"Yes\": 1}, inplace=True)\n",
    "feature_cols = [\n",
    "    'PatientID', 'AppointmentID', 'Gender', 'ScheduledDay',\n",
    "    'AppointmentDay', 'Age', 'Neighbourhood', 'Scholarship', 'Hypertension',\n",
    "    'Diabetes', 'Alcoholism', 'Handicap', 'SMS_received',\n",
    "]\n",
    "df_medical_appointment.sample(10)"
   ]
  },
  {
   "cell_type": "markdown",
   "id": "e5ad6c93",
   "metadata": {
    "heading_collapsed": true
   },
   "source": [
    "# Exploratory Data Analysis"
   ]
  },
  {
   "cell_type": "code",
   "execution_count": 7,
   "id": "bd9ed47d",
   "metadata": {
    "ExecuteTime": {
     "end_time": "2023-09-01T22:15:12.487822Z",
     "start_time": "2023-09-01T22:15:12.481163Z"
    },
    "hidden": true
   },
   "outputs": [],
   "source": [
    "eda = EDA_medical_appointment(df_medical_appointment[feature_cols], df_medical_appointment['no_show'])"
   ]
  },
  {
   "cell_type": "code",
   "execution_count": 8,
   "id": "2844d669",
   "metadata": {
    "ExecuteTime": {
     "end_time": "2023-09-01T22:15:13.780154Z",
     "start_time": "2023-09-01T22:15:13.092064Z"
    },
    "hidden": true,
    "scrolled": true
   },
   "outputs": [
    {
     "name": "stdout",
     "output_type": "stream",
     "text": [
      "--------------------------------------------------\n",
      "Checking feature datatypes and null values\n",
      "--------------------------------------------------\n",
      "\n",
      "<class 'pandas.core.frame.DataFrame'>\n",
      "RangeIndex: 110527 entries, 0 to 110526\n",
      "Data columns (total 13 columns):\n",
      " #   Column          Non-Null Count   Dtype  \n",
      "---  ------          --------------   -----  \n",
      " 0   PatientID       110527 non-null  float64\n",
      " 1   AppointmentID   110527 non-null  int64  \n",
      " 2   Gender          110527 non-null  object \n",
      " 3   ScheduledDay    110527 non-null  object \n",
      " 4   AppointmentDay  110527 non-null  object \n",
      " 5   Age             110527 non-null  int64  \n",
      " 6   Neighbourhood   110527 non-null  object \n",
      " 7   Scholarship     110527 non-null  int64  \n",
      " 8   Hypertension    110527 non-null  int64  \n",
      " 9   Diabetes        110527 non-null  int64  \n",
      " 10  Alcoholism      110527 non-null  int64  \n",
      " 11  Handicap        110527 non-null  int64  \n",
      " 12  SMS_received    110527 non-null  int64  \n",
      "dtypes: float64(1), int64(8), object(4)\n",
      "memory usage: 11.0+ MB\n"
     ]
    },
    {
     "data": {
      "text/plain": [
       "None"
      ]
     },
     "metadata": {},
     "output_type": "display_data"
    },
    {
     "name": "stdout",
     "output_type": "stream",
     "text": [
      "--------------------------------------------------\n",
      "Describe continuous numerical features\n",
      "--------------------------------------------------\n"
     ]
    },
    {
     "data": {
      "text/html": [
       "<div>\n",
       "<style scoped>\n",
       "    .dataframe tbody tr th:only-of-type {\n",
       "        vertical-align: middle;\n",
       "    }\n",
       "\n",
       "    .dataframe tbody tr th {\n",
       "        vertical-align: top;\n",
       "    }\n",
       "\n",
       "    .dataframe thead th {\n",
       "        text-align: right;\n",
       "    }\n",
       "</style>\n",
       "<table border=\"1\" class=\"dataframe\">\n",
       "  <thead>\n",
       "    <tr style=\"text-align: right;\">\n",
       "      <th></th>\n",
       "      <th>Age</th>\n",
       "    </tr>\n",
       "  </thead>\n",
       "  <tbody>\n",
       "    <tr>\n",
       "      <th>count</th>\n",
       "      <td>110527.000000</td>\n",
       "    </tr>\n",
       "    <tr>\n",
       "      <th>mean</th>\n",
       "      <td>37.088874</td>\n",
       "    </tr>\n",
       "    <tr>\n",
       "      <th>std</th>\n",
       "      <td>23.110205</td>\n",
       "    </tr>\n",
       "    <tr>\n",
       "      <th>min</th>\n",
       "      <td>-1.000000</td>\n",
       "    </tr>\n",
       "    <tr>\n",
       "      <th>25%</th>\n",
       "      <td>18.000000</td>\n",
       "    </tr>\n",
       "    <tr>\n",
       "      <th>50%</th>\n",
       "      <td>37.000000</td>\n",
       "    </tr>\n",
       "    <tr>\n",
       "      <th>75%</th>\n",
       "      <td>55.000000</td>\n",
       "    </tr>\n",
       "    <tr>\n",
       "      <th>max</th>\n",
       "      <td>115.000000</td>\n",
       "    </tr>\n",
       "  </tbody>\n",
       "</table>\n",
       "</div>"
      ],
      "text/plain": [
       "                 Age\n",
       "count  110527.000000\n",
       "mean       37.088874\n",
       "std        23.110205\n",
       "min        -1.000000\n",
       "25%        18.000000\n",
       "50%        37.000000\n",
       "75%        55.000000\n",
       "max       115.000000"
      ]
     },
     "metadata": {},
     "output_type": "display_data"
    },
    {
     "data": {
      "image/png": "[encoded data removed]",
      "text/plain": [
       "<Figure size 640x480 with 1 Axes>"
      ]
     },
     "metadata": {},
     "output_type": "display_data"
    },
    {
     "name": "stdout",
     "output_type": "stream",
     "text": [
      "--------------------------------------------------\n",
      "categorical features Probabilities\n",
      "--------------------------------------------------\n"
     ]
    },
    {
     "data": {
      "image/png": "[encoded data removed]",
      "text/plain": [
       "<Figure size 1600x500 with 8 Axes>"
      ]
     },
     "metadata": {},
     "output_type": "display_data"
    }
   ],
   "source": [
    "eda.describe_general_stats()"
   ]
  },
  {
   "cell_type": "markdown",
   "id": "cf432958",
   "metadata": {
    "hidden": true
   },
   "source": [
    "Min age < 0 in some cases. These are incorrect entries and for overall performance, it is desirable to remove these values from the dataset."
   ]
  },
  {
   "cell_type": "code",
   "execution_count": 9,
   "id": "b29afd54",
   "metadata": {
    "ExecuteTime": {
     "end_time": "2023-09-01T22:15:15.112552Z",
     "start_time": "2023-09-01T22:15:14.302459Z"
    },
    "hidden": true,
    "scrolled": true
   },
   "outputs": [
    {
     "data": {
      "image/png": "[encoded data removed]",
      "text/plain": [
       "<Figure size 640x480 with 1 Axes>"
      ]
     },
     "metadata": {},
     "output_type": "display_data"
    },
    {
     "name": "stdout",
     "output_type": "stream",
     "text": [
      "--------------------------------------------------\n",
      "--------------------------------------------------\n",
      "n_unique_patients = 62299\n",
      "n_patients_less_than_3_visits = 51815\n",
      "percent_patients_less_than_3_visits = 83%\n",
      "--------------------------------------------------\n",
      "--------------------------------------------------\n"
     ]
    },
    {
     "data": {
      "image/png": "[encoded data removed]",
      "text/plain": [
       "<Figure size 1600x500 with 8 Axes>"
      ]
     },
     "metadata": {},
     "output_type": "display_data"
    }
   ],
   "source": [
    "eda.stats_per_unique_patient()"
   ]
  },
  {
   "cell_type": "markdown",
   "id": "6c4a4887",
   "metadata": {
    "hidden": true
   },
   "source": [
    "Since, 83% of the patients visit less than 3 times, building the model primarily as a sequence classification problem is not desirable. However, a second level of sequence classification can be added to the repeat patients. This is however, not explored in this analysis.\n",
    "\n",
    "**Conclusion:** Frame the problem as a binary classification per patient"
   ]
  },
  {
   "cell_type": "code",
   "execution_count": 10,
   "id": "2cf67d61",
   "metadata": {
    "ExecuteTime": {
     "end_time": "2023-09-01T22:15:15.743052Z",
     "start_time": "2023-09-01T22:15:15.676113Z"
    },
    "hidden": true
   },
   "outputs": [
    {
     "data": {
      "image/png": "[encoded data removed]",
      "text/plain": [
       "<Figure size 640x480 with 1 Axes>"
      ]
     },
     "metadata": {},
     "output_type": "display_data"
    }
   ],
   "source": [
    "eda.visulaize_class_distribution()"
   ]
  },
  {
   "cell_type": "markdown",
   "id": "dadcc8bd",
   "metadata": {
    "hidden": true
   },
   "source": [
    "***Conclusion***\n",
    "\n",
    "**This is an imbalanced classification problem and techniques such as:**\n",
    "1. oversampling\n",
    "2. assigning class weights when performing classification\n",
    "3. creating synthetic data of the imbalanced class using techniques such as SMOTE"
   ]
  },
  {
   "cell_type": "code",
   "execution_count": 11,
   "id": "806cd810",
   "metadata": {
    "ExecuteTime": {
     "end_time": "2023-09-01T22:15:16.741304Z",
     "start_time": "2023-09-01T22:15:16.325329Z"
    },
    "hidden": true
   },
   "outputs": [
    {
     "data": {
      "image/png": "[encoded data removed]",
      "text/plain": [
       "<Figure size 1400x500 with 7 Axes>"
      ]
     },
     "metadata": {},
     "output_type": "display_data"
    }
   ],
   "source": [
    "eda.visulaize_no_show_prob_per_variable()"
   ]
  },
  {
   "cell_type": "markdown",
   "id": "fd352241",
   "metadata": {
    "hidden": true
   },
   "source": [
    "***Conclusion***\n",
    "\n",
    "**For most variables, the independent and conditional probabilities are very similar. This implies that a person not showing up for an appointment is almost independent of these categorical variables. This means that knowing one of these variables or not doesn't substantially alter the probability of a person not showing up for an appointment. However, joint probabilities are not explored in this section, and a combination of these variables occurring together may impact the outcome.**"
   ]
  },
  {
   "cell_type": "markdown",
   "id": "22a110ab",
   "metadata": {},
   "source": [
    "# Preprocessing"
   ]
  },
  {
   "cell_type": "code",
   "execution_count": 12,
   "id": "c487f3cb",
   "metadata": {
    "ExecuteTime": {
     "end_time": "2023-09-01T22:35:16.205815Z",
     "start_time": "2023-09-01T22:35:16.170767Z"
    }
   },
   "outputs": [],
   "source": [
    "preprocessor = preprocMedicalAppointment()"
   ]
  },
  {
   "cell_type": "code",
   "execution_count": 13,
   "id": "ff5ea6e4",
   "metadata": {
    "ExecuteTime": {
     "end_time": "2023-09-01T22:35:18.835030Z",
     "start_time": "2023-09-01T22:35:18.794087Z"
    }
   },
   "outputs": [
    {
     "name": "stdout",
     "output_type": "stream",
     "text": [
      "before (110527, 14)\n",
      "after (110519, 14)\n"
     ]
    }
   ],
   "source": [
    "print(\"before\", df_medical_appointment.shape)\n",
    "df_medical_appointment = preprocessor.remove_outliers_age(df_medical_appointment)\n",
    "print(\"after\", df_medical_appointment.shape)"
   ]
  },
  {
   "cell_type": "code",
   "execution_count": 14,
   "id": "3e95994d",
   "metadata": {
    "ExecuteTime": {
     "end_time": "2023-09-01T22:35:21.532603Z",
     "start_time": "2023-09-01T22:35:21.470754Z"
    },
    "scrolled": true
   },
   "outputs": [],
   "source": [
    "X_train, y_train, X_test, y_test, X_val, y_val = train_val_test_split(df_medical_appointment, feature_cols=feature_cols, target_col='no_show', test_percent=20)"
   ]
  },
  {
   "cell_type": "markdown",
   "id": "fc75fd2b",
   "metadata": {},
   "source": [
    "# Feature Extraction"
   ]
  },
  {
   "cell_type": "code",
   "execution_count": 15,
   "id": "4e1d04ef",
   "metadata": {
    "ExecuteTime": {
     "end_time": "2023-09-01T22:35:24.700959Z",
     "start_time": "2023-09-01T22:35:24.666611Z"
    }
   },
   "outputs": [],
   "source": [
    "feature_extractor = featuresMedicalAppointment()"
   ]
  },
  {
   "cell_type": "code",
   "execution_count": 16,
   "id": "c01e4163",
   "metadata": {
    "ExecuteTime": {
     "end_time": "2023-09-01T22:35:27.850785Z",
     "start_time": "2023-09-01T22:35:27.813418Z"
    }
   },
   "outputs": [
    {
     "data": {
      "text/plain": [
       "(88415, 13)"
      ]
     },
     "execution_count": 16,
     "metadata": {},
     "output_type": "execute_result"
    }
   ],
   "source": [
    "X_train.shape"
   ]
  },
  {
   "cell_type": "code",
   "execution_count": 17,
   "id": "e0002b36",
   "metadata": {
    "ExecuteTime": {
     "end_time": "2023-09-01T22:35:31.712764Z",
     "start_time": "2023-09-01T22:35:30.973271Z"
    }
   },
   "outputs": [
    {
     "data": {
      "text/plain": [
       "((57602, 14), (57602,))"
      ]
     },
     "execution_count": 17,
     "metadata": {},
     "output_type": "execute_result"
    }
   ],
   "source": [
    "scheduled_after_appointment_strategy = 'drop' # numeric or 'drop'\n",
    "X_train, y_train = feature_extractor.feat_n_hours_scheduled_before(X_train, y_train, scheduled_after_appointment_strategy=scheduled_after_appointment_strategy)\n",
    "X_train.shape, y_train.shape"
   ]
  },
  {
   "cell_type": "code",
   "execution_count": 18,
   "id": "73336c64",
   "metadata": {
    "ExecuteTime": {
     "end_time": "2023-09-01T22:35:34.953200Z",
     "start_time": "2023-09-01T22:35:34.896765Z"
    }
   },
   "outputs": [
    {
     "data": {
      "text/plain": [
       "(57602, 16)"
      ]
     },
     "execution_count": 18,
     "metadata": {},
     "output_type": "execute_result"
    }
   ],
   "source": [
    "X_train = feature_extractor.feat_appointment_date(X_train)\n",
    "X_train.shape"
   ]
  },
  {
   "cell_type": "code",
   "execution_count": 19,
   "id": "6c463e24",
   "metadata": {
    "ExecuteTime": {
     "end_time": "2023-09-01T22:35:38.363337Z",
     "start_time": "2023-09-01T22:35:38.178471Z"
    },
    "scrolled": true
   },
   "outputs": [
    {
     "name": "stdout",
     "output_type": "stream",
     "text": [
      "Gender -> n_unique: 2\n",
      "Neighbourhood -> n_unique: 71\n",
      "day_of_week -> n_unique: 6\n"
     ]
    },
    {
     "data": {
      "text/plain": [
       "(57602, 92)"
      ]
     },
     "execution_count": 19,
     "metadata": {},
     "output_type": "execute_result"
    }
   ],
   "source": [
    "infrequent_threshold = 100\n",
    "X_train = feature_extractor.feat_categorical_to_one_hot_encoding_train(X_train, infrequent_threshold=infrequent_threshold)\n",
    "X_train.shape"
   ]
  },
  {
   "cell_type": "code",
   "execution_count": 20,
   "id": "676168da",
   "metadata": {
    "ExecuteTime": {
     "end_time": "2023-09-01T22:35:42.162642Z",
     "start_time": "2023-09-01T22:35:42.115983Z"
    },
    "scrolled": true
   },
   "outputs": [
    {
     "data": {
      "text/plain": [
       "(57602, 92)"
      ]
     },
     "execution_count": 20,
     "metadata": {},
     "output_type": "execute_result"
    }
   ],
   "source": [
    "columns_to_scale = ['Age']\n",
    "X_train = feature_extractor.feat_minmax_norm_train(X_train, columns_to_scale)\n",
    "X_train.shape"
   ]
  },
  {
   "cell_type": "code",
   "execution_count": 21,
   "id": "f27cdbda",
   "metadata": {
    "ExecuteTime": {
     "end_time": "2023-09-01T22:35:45.991246Z",
     "start_time": "2023-09-01T22:35:45.932538Z"
    }
   },
   "outputs": [
    {
     "data": {
      "text/plain": [
       "(57602, 88)"
      ]
     },
     "execution_count": 21,
     "metadata": {},
     "output_type": "execute_result"
    }
   ],
   "source": [
    "X_train.drop(columns=['PatientID', 'AppointmentID', 'ScheduledDay', 'AppointmentDay'], inplace=True)\n",
    "X_train.shape"
   ]
  },
  {
   "cell_type": "code",
   "execution_count": 22,
   "id": "2ec5f11a",
   "metadata": {
    "ExecuteTime": {
     "end_time": "2023-09-01T22:35:49.512300Z",
     "start_time": "2023-09-01T22:35:49.464879Z"
    },
    "scrolled": true
   },
   "outputs": [
    {
     "name": "stdout",
     "output_type": "stream",
     "text": [
      "<class 'pandas.core.frame.DataFrame'>\n",
      "RangeIndex: 57602 entries, 0 to 57601\n",
      "Data columns (total 88 columns):\n",
      " #   Column                             Non-Null Count  Dtype  \n",
      "---  ------                             --------------  -----  \n",
      " 0   Age                                57602 non-null  float64\n",
      " 1   Scholarship                        57602 non-null  int64  \n",
      " 2   Hypertension                       57602 non-null  int64  \n",
      " 3   Diabetes                           57602 non-null  int64  \n",
      " 4   Alcoholism                         57602 non-null  int64  \n",
      " 5   Handicap                           57602 non-null  int64  \n",
      " 6   SMS_received                       57602 non-null  int64  \n",
      " 7   n_hours_scheduled_before           57602 non-null  int64  \n",
      " 8   day_of_month                       57602 non-null  int32  \n",
      " 9   Gender_F                           57602 non-null  int64  \n",
      " 10  Gender_M                           57602 non-null  int64  \n",
      " 11  Neighbourhood_ANDORINHAS           57602 non-null  int64  \n",
      " 12  Neighbourhood_ANTÔNIO HONÓRIO      57602 non-null  int64  \n",
      " 13  Neighbourhood_ARIOVALDO FAVALESSA  57602 non-null  int64  \n",
      " 14  Neighbourhood_BARRO VERMELHO       57602 non-null  int64  \n",
      " 15  Neighbourhood_BELA VISTA           57602 non-null  int64  \n",
      " 16  Neighbourhood_BENTO FERREIRA       57602 non-null  int64  \n",
      " 17  Neighbourhood_BOA VISTA            57602 non-null  int64  \n",
      " 18  Neighbourhood_BONFIM               57602 non-null  int64  \n",
      " 19  Neighbourhood_CARATOÍRA            57602 non-null  int64  \n",
      " 20  Neighbourhood_CENTRO               57602 non-null  int64  \n",
      " 21  Neighbourhood_COMDUSA              57602 non-null  int64  \n",
      " 22  Neighbourhood_CONQUISTA            57602 non-null  int64  \n",
      " 23  Neighbourhood_CONSOLAÇÃO           57602 non-null  int64  \n",
      " 24  Neighbourhood_CRUZAMENTO           57602 non-null  int64  \n",
      " 25  Neighbourhood_DA PENHA             57602 non-null  int64  \n",
      " 26  Neighbourhood_DE LOURDES           57602 non-null  int64  \n",
      " 27  Neighbourhood_DO CABRAL            57602 non-null  int64  \n",
      " 28  Neighbourhood_DO MOSCOSO           57602 non-null  int64  \n",
      " 29  Neighbourhood_DO QUADRO            57602 non-null  int64  \n",
      " 30  Neighbourhood_ENSEADA DO SUÁ       57602 non-null  int64  \n",
      " 31  Neighbourhood_ESTRELINHA           57602 non-null  int64  \n",
      " 32  Neighbourhood_FONTE GRANDE         57602 non-null  int64  \n",
      " 33  Neighbourhood_FORTE SÃO JOÃO       57602 non-null  int64  \n",
      " 34  Neighbourhood_FRADINHOS            57602 non-null  int64  \n",
      " 35  Neighbourhood_GOIABEIRAS           57602 non-null  int64  \n",
      " 36  Neighbourhood_GRANDE VITÓRIA       57602 non-null  int64  \n",
      " 37  Neighbourhood_GURIGICA             57602 non-null  int64  \n",
      " 38  Neighbourhood_ILHA DAS CAIEIRAS    57602 non-null  int64  \n",
      " 39  Neighbourhood_ILHA DE SANTA MARIA  57602 non-null  int64  \n",
      " 40  Neighbourhood_ILHA DO PRÍNCIPE     57602 non-null  int64  \n",
      " 41  Neighbourhood_INFREQUENT           57602 non-null  int64  \n",
      " 42  Neighbourhood_INHANGUETÁ           57602 non-null  int64  \n",
      " 43  Neighbourhood_ITARARÉ              57602 non-null  int64  \n",
      " 44  Neighbourhood_JABOUR               57602 non-null  int64  \n",
      " 45  Neighbourhood_JARDIM CAMBURI       57602 non-null  int64  \n",
      " 46  Neighbourhood_JARDIM DA PENHA      57602 non-null  int64  \n",
      " 47  Neighbourhood_JESUS DE NAZARETH    57602 non-null  int64  \n",
      " 48  Neighbourhood_JOANA D´ARC          57602 non-null  int64  \n",
      " 49  Neighbourhood_JUCUTUQUARA          57602 non-null  int64  \n",
      " 50  Neighbourhood_MARIA ORTIZ          57602 non-null  int64  \n",
      " 51  Neighbourhood_MARUÍPE              57602 non-null  int64  \n",
      " 52  Neighbourhood_MATA DA PRAIA        57602 non-null  int64  \n",
      " 53  Neighbourhood_MONTE BELO           57602 non-null  int64  \n",
      " 54  Neighbourhood_MÁRIO CYPRESTE       57602 non-null  int64  \n",
      " 55  Neighbourhood_NOVA PALESTINA       57602 non-null  int64  \n",
      " 56  Neighbourhood_PARQUE MOSCOSO       57602 non-null  int64  \n",
      " 57  Neighbourhood_PIEDADE              57602 non-null  int64  \n",
      " 58  Neighbourhood_PRAIA DO CANTO       57602 non-null  int64  \n",
      " 59  Neighbourhood_PRAIA DO SUÁ         57602 non-null  int64  \n",
      " 60  Neighbourhood_REDENÇÃO             57602 non-null  int64  \n",
      " 61  Neighbourhood_REPÚBLICA            57602 non-null  int64  \n",
      " 62  Neighbourhood_RESISTÊNCIA          57602 non-null  int64  \n",
      " 63  Neighbourhood_ROMÃO                57602 non-null  int64  \n",
      " 64  Neighbourhood_SANTA CECÍLIA        57602 non-null  int64  \n",
      " 65  Neighbourhood_SANTA CLARA          57602 non-null  int64  \n",
      " 66  Neighbourhood_SANTA HELENA         57602 non-null  int64  \n",
      " 67  Neighbourhood_SANTA LUÍZA          57602 non-null  int64  \n",
      " 68  Neighbourhood_SANTA LÚCIA          57602 non-null  int64  \n",
      " 69  Neighbourhood_SANTA MARTHA         57602 non-null  int64  \n",
      " 70  Neighbourhood_SANTA TEREZA         57602 non-null  int64  \n",
      " 71  Neighbourhood_SANTO ANDRÉ          57602 non-null  int64  \n",
      " 72  Neighbourhood_SANTO ANTÔNIO        57602 non-null  int64  \n",
      " 73  Neighbourhood_SANTOS DUMONT        57602 non-null  int64  \n",
      " 74  Neighbourhood_SANTOS REIS          57602 non-null  int64  \n",
      " 75  Neighbourhood_SOLON BORGES         57602 non-null  int64  \n",
      " 76  Neighbourhood_SÃO BENEDITO         57602 non-null  int64  \n",
      " 77  Neighbourhood_SÃO CRISTÓVÃO        57602 non-null  int64  \n",
      " 78  Neighbourhood_SÃO JOSÉ             57602 non-null  int64  \n",
      " 79  Neighbourhood_SÃO PEDRO            57602 non-null  int64  \n",
      " 80  Neighbourhood_TABUAZEIRO           57602 non-null  int64  \n",
      " 81  Neighbourhood_VILA RUBIM           57602 non-null  int64  \n",
      " 82  day_of_week_Friday                 57602 non-null  int64  \n",
      " 83  day_of_week_INFREQUENT             57602 non-null  int64  \n",
      " 84  day_of_week_Monday                 57602 non-null  int64  \n",
      " 85  day_of_week_Thursday               57602 non-null  int64  \n",
      " 86  day_of_week_Tuesday                57602 non-null  int64  \n",
      " 87  day_of_week_Wednesday              57602 non-null  int64  \n",
      "dtypes: float64(1), int32(1), int64(86)\n",
      "memory usage: 38.5 MB\n"
     ]
    }
   ],
   "source": [
    "X_train.info()"
   ]
  },
  {
   "cell_type": "markdown",
   "id": "bc02ecc0",
   "metadata": {
    "heading_collapsed": true
   },
   "source": [
    "# Feature Selection"
   ]
  },
  {
   "cell_type": "markdown",
   "id": "1b32a753",
   "metadata": {
    "hidden": true
   },
   "source": [
    ">**Permutation Importance**\n",
    "\n",
    "    One of the most basic questions we might ask of a model is: \n",
    "    What features have the biggest impact on predictions? This concept is called feature importance.\n",
    "\n",
    "    In this notebook we use permutation importance. Compared to most other approaches, permutation importance is:\n",
    "           - fast to calculate,\n",
    "           - widely used and understood, and\n",
    "           - consistent with properties we would want a feature importance measure to have.\n",
    "    The basic question it answers is: If I randomly shuffle a single column of the validation data, leaving the target and all other columns in place, how would that affect the accuracy of predictions in that now-shuffled data? Randomly re-ordering a single column should cause less accurate predictions, since the resulting data no longer corresponds to anything observed in the real world. Model accuracy especially suffers if we shuffle a column that the model relied on heavily for predictions."
   ]
  },
  {
   "cell_type": "markdown",
   "id": "84b7f68d",
   "metadata": {
    "hidden": true
   },
   "source": [
    ">**Hierarchical clustering**\n",
    "\n",
    "    In hierarchical clustering, we look at every pair of objects and say which two objects are the closest. We then take the closest pair, delete them, and replace them with the midpoint of the two. Then repeat that again and again. Since we are removing points and replacing them with their averages, we are gradually reducing a number of points by pairwise combining. Rather than looking at points, we look at variables and see which two variables are the most similar. In a resulting dendrogram, the vertical axis here is how similar are the two points that are being compared. If they are closer to 0, that means that they are very similar. In this case, (1 - Spearman’s R) is used. So correlation is almost exactly the same as the R², but it’s between two variables rather than a variable and its prediction."
   ]
  },
  {
   "cell_type": "markdown",
   "id": "270fdc73",
   "metadata": {
    "hidden": true
   },
   "source": [
    "## Feature Selection Method 1: Permutation Importance + Hierarchical Clustering"
   ]
  },
  {
   "cell_type": "markdown",
   "id": "973abd6a",
   "metadata": {
    "hidden": true
   },
   "source": [
    "### Permutation Importance 1"
   ]
  },
  {
   "cell_type": "code",
   "execution_count": 24,
   "id": "d55d2179",
   "metadata": {
    "ExecuteTime": {
     "end_time": "2023-09-01T22:15:37.273192Z",
     "start_time": "2023-09-01T22:15:33.459714Z"
    },
    "hidden": true,
    "scrolled": true
   },
   "outputs": [
    {
     "name": "stderr",
     "output_type": "stream",
     "text": [
      "/Users/sudhanshugupta/Library/Python/3.9/lib/python/site-packages/joblib/externals/loky/backend/resource_tracker.py:113: UserWarning: resource_tracker: process died unexpectedly, relaunching.  Some folders/sempahores might leak.\n",
      "  warnings.warn(\n",
      "Traceback (most recent call last):\n",
      "  File \"<string>\", line 1, in <module>\n",
      "ModuleNotFoundError: No module named 'joblib'\n",
      "Traceback (most recent call last):\n",
      "  File \"<string>\", line 1, in <module>\n",
      "ModuleNotFoundError: No module named 'joblib'\n",
      "Traceback (most recent call last):\n",
      "  File \"<string>\", line 1, in <module>\n",
      "ModuleNotFoundError: No module named 'joblib'\n",
      "Traceback (most recent call last):\n",
      "  File \"<string>\", line 1, in <module>\n",
      "ModuleNotFoundError: No module named 'joblib'\n",
      "/Users/sudhanshugupta/Library/Python/3.9/lib/python/site-packages/joblib/externals/loky/backend/resource_tracker.py:113: UserWarning: resource_tracker: process died unexpectedly, relaunching.  Some folders/sempahores might leak.\n",
      "  warnings.warn(\n",
      "Traceback (most recent call last):\n",
      "  File \"<string>\", line 1, in <module>\n",
      "ModuleNotFoundError: No module named 'joblib'\n",
      "Traceback (most recent call last):\n",
      "  File \"<string>\", line 1, in <module>\n",
      "ModuleNotFoundError: No module named 'joblib'\n"
     ]
    },
    {
     "ename": "BrokenPipeError",
     "evalue": "[Errno 32] Broken pipe",
     "output_type": "error",
     "traceback": [
      "\u001b[0;31m---------------------------------------------------------------------------\u001b[0m",
      "\u001b[0;31mKeyboardInterrupt\u001b[0m                         Traceback (most recent call last)",
      "File \u001b[0;32m~/Library/Python/3.9/lib/python/site-packages/joblib/parallel.py:1595\u001b[0m, in \u001b[0;36mParallel._get_outputs\u001b[0;34m(self, iterator, pre_dispatch)\u001b[0m\n\u001b[1;32m   1594\u001b[0m     \u001b[39mwith\u001b[39;00m \u001b[39mself\u001b[39m\u001b[39m.\u001b[39m_backend\u001b[39m.\u001b[39mretrieval_context():\n\u001b[0;32m-> 1595\u001b[0m         \u001b[39myield from\u001b[39;00m \u001b[39mself\u001b[39m\u001b[39m.\u001b[39m_retrieve()\n\u001b[1;32m   1597\u001b[0m \u001b[39mexcept\u001b[39;00m \u001b[39mGeneratorExit\u001b[39;00m:\n\u001b[1;32m   1598\u001b[0m     \u001b[39m# The generator has been garbage collected before being fully\u001b[39;00m\n\u001b[1;32m   1599\u001b[0m     \u001b[39m# consumed. This aborts the remaining tasks if possible and warn\u001b[39;00m\n\u001b[1;32m   1600\u001b[0m     \u001b[39m# the user if necessary.\u001b[39;00m\n",
      "File \u001b[0;32m~/Library/Python/3.9/lib/python/site-packages/joblib/parallel.py:1707\u001b[0m, in \u001b[0;36mParallel._retrieve\u001b[0;34m(self)\u001b[0m\n\u001b[1;32m   1704\u001b[0m \u001b[39mif\u001b[39;00m ((\u001b[39mlen\u001b[39m(\u001b[39mself\u001b[39m\u001b[39m.\u001b[39m_jobs) \u001b[39m==\u001b[39m \u001b[39m0\u001b[39m) \u001b[39mor\u001b[39;00m\n\u001b[1;32m   1705\u001b[0m     (\u001b[39mself\u001b[39m\u001b[39m.\u001b[39m_jobs[\u001b[39m0\u001b[39m]\u001b[39m.\u001b[39mget_status(\n\u001b[1;32m   1706\u001b[0m         timeout\u001b[39m=\u001b[39m\u001b[39mself\u001b[39m\u001b[39m.\u001b[39mtimeout) \u001b[39m==\u001b[39m TASK_PENDING)):\n\u001b[0;32m-> 1707\u001b[0m     time\u001b[39m.\u001b[39;49msleep(\u001b[39m0.01\u001b[39;49m)\n\u001b[1;32m   1708\u001b[0m     \u001b[39mcontinue\u001b[39;00m\n",
      "\u001b[0;31mKeyboardInterrupt\u001b[0m: ",
      "\nDuring handling of the above exception, another exception occurred:\n",
      "\u001b[0;31mBrokenPipeError\u001b[0m                           Traceback (most recent call last)",
      "File \u001b[0;32m~/Library/Python/3.9/lib/python/site-packages/joblib/parallel.py:1648\u001b[0m, in \u001b[0;36mParallel._get_outputs\u001b[0;34m(self, iterator, pre_dispatch)\u001b[0m\n\u001b[1;32m   1647\u001b[0m \u001b[39mself\u001b[39m\u001b[39m.\u001b[39m_exception \u001b[39m=\u001b[39m \u001b[39mTrue\u001b[39;00m\n\u001b[0;32m-> 1648\u001b[0m \u001b[39mself\u001b[39;49m\u001b[39m.\u001b[39;49m_abort()\n\u001b[1;32m   1649\u001b[0m \u001b[39mraise\u001b[39;00m\n",
      "File \u001b[0;32m~/Library/Python/3.9/lib/python/site-packages/joblib/parallel.py:1559\u001b[0m, in \u001b[0;36mParallel._abort\u001b[0;34m(self)\u001b[0m\n\u001b[1;32m   1558\u001b[0m     ensure_ready \u001b[39m=\u001b[39m \u001b[39mself\u001b[39m\u001b[39m.\u001b[39m_managed_backend\n\u001b[0;32m-> 1559\u001b[0m     backend\u001b[39m.\u001b[39;49mabort_everything(ensure_ready\u001b[39m=\u001b[39;49mensure_ready)\n\u001b[1;32m   1560\u001b[0m \u001b[39mself\u001b[39m\u001b[39m.\u001b[39m_aborted \u001b[39m=\u001b[39m \u001b[39mTrue\u001b[39;00m\n",
      "File \u001b[0;32m~/Library/Python/3.9/lib/python/site-packages/joblib/_parallel_backends.py:298\u001b[0m, in \u001b[0;36mPoolManagerMixin.abort_everything\u001b[0;34m(self, ensure_ready)\u001b[0m\n\u001b[1;32m    297\u001b[0m \u001b[39m\u001b[39m\u001b[39m\"\"\"Shutdown the pool and restart a new one with the same parameters\"\"\"\u001b[39;00m\n\u001b[0;32m--> 298\u001b[0m \u001b[39mself\u001b[39;49m\u001b[39m.\u001b[39;49mterminate()\n\u001b[1;32m    299\u001b[0m \u001b[39mif\u001b[39;00m ensure_ready:\n",
      "File \u001b[0;32m~/Library/Python/3.9/lib/python/site-packages/joblib/_parallel_backends.py:532\u001b[0m, in \u001b[0;36mMultiprocessingBackend.terminate\u001b[0;34m(self)\u001b[0m\n\u001b[1;32m    531\u001b[0m \u001b[39m\u001b[39m\u001b[39m\"\"\"Shutdown the process or thread pool\"\"\"\u001b[39;00m\n\u001b[0;32m--> 532\u001b[0m \u001b[39msuper\u001b[39;49m(MultiprocessingBackend, \u001b[39mself\u001b[39;49m)\u001b[39m.\u001b[39;49mterminate()\n\u001b[1;32m    533\u001b[0m \u001b[39mself\u001b[39m\u001b[39m.\u001b[39mreset_batch_stats()\n",
      "File \u001b[0;32m~/Library/Python/3.9/lib/python/site-packages/joblib/_parallel_backends.py:262\u001b[0m, in \u001b[0;36mPoolManagerMixin.terminate\u001b[0;34m(self)\u001b[0m\n\u001b[1;32m    261\u001b[0m \u001b[39mself\u001b[39m\u001b[39m.\u001b[39m_pool\u001b[39m.\u001b[39mclose()\n\u001b[0;32m--> 262\u001b[0m \u001b[39mself\u001b[39;49m\u001b[39m.\u001b[39;49m_pool\u001b[39m.\u001b[39;49mterminate()  \u001b[39m# terminate does a join()\u001b[39;00m\n\u001b[1;32m    263\u001b[0m \u001b[39mself\u001b[39m\u001b[39m.\u001b[39m_pool \u001b[39m=\u001b[39m \u001b[39mNone\u001b[39;00m\n",
      "File \u001b[0;32m~/Library/Python/3.9/lib/python/site-packages/joblib/pool.py:341\u001b[0m, in \u001b[0;36mMemmappingPool.terminate\u001b[0;34m(self)\u001b[0m\n\u001b[1;32m    340\u001b[0m \u001b[39m# Clean up the temporary resources as the workers should now be off.\u001b[39;00m\n\u001b[0;32m--> 341\u001b[0m \u001b[39mself\u001b[39;49m\u001b[39m.\u001b[39;49m_temp_folder_manager\u001b[39m.\u001b[39;49m_clean_temporary_resources()\n",
      "File \u001b[0;32m~/Library/Python/3.9/lib/python/site-packages/joblib/_memmapping_reducer.py:610\u001b[0m, in \u001b[0;36mTemporaryResourcesManager._clean_temporary_resources\u001b[0;34m(self, context_id, force, allow_non_empty)\u001b[0m\n\u001b[1;32m    609\u001b[0m     \u001b[39mfor\u001b[39;00m context_id \u001b[39min\u001b[39;00m \u001b[39mlist\u001b[39m(\u001b[39mself\u001b[39m\u001b[39m.\u001b[39m_cached_temp_folders):\n\u001b[0;32m--> 610\u001b[0m         \u001b[39mself\u001b[39;49m\u001b[39m.\u001b[39;49m_clean_temporary_resources(\n\u001b[1;32m    611\u001b[0m             context_id, force\u001b[39m=\u001b[39;49mforce, allow_non_empty\u001b[39m=\u001b[39;49mallow_non_empty\n\u001b[1;32m    612\u001b[0m         )\n\u001b[1;32m    613\u001b[0m \u001b[39melse\u001b[39;00m:\n",
      "File \u001b[0;32m~/Library/Python/3.9/lib/python/site-packages/joblib/_memmapping_reducer.py:625\u001b[0m, in \u001b[0;36mTemporaryResourcesManager._clean_temporary_resources\u001b[0;34m(self, context_id, force, allow_non_empty)\u001b[0m\n\u001b[1;32m    624\u001b[0m     \u001b[39melse\u001b[39;00m:\n\u001b[0;32m--> 625\u001b[0m         resource_tracker\u001b[39m.\u001b[39;49mmaybe_unlink(\n\u001b[1;32m    626\u001b[0m             os\u001b[39m.\u001b[39;49mpath\u001b[39m.\u001b[39;49mjoin(temp_folder, filename), \u001b[39m\"\u001b[39;49m\u001b[39mfile\u001b[39;49m\u001b[39m\"\u001b[39;49m\n\u001b[1;32m    627\u001b[0m         )\n\u001b[1;32m    629\u001b[0m \u001b[39m# When forcing clean-up, try to delete the folder even if some\u001b[39;00m\n\u001b[1;32m    630\u001b[0m \u001b[39m# files are still in it. Otherwise, try to delete the folder\u001b[39;00m\n",
      "File \u001b[0;32m~/Library/Python/3.9/lib/python/site-packages/joblib/externals/loky/backend/resource_tracker.py:189\u001b[0m, in \u001b[0;36mResourceTracker.maybe_unlink\u001b[0;34m(self, name, rtype)\u001b[0m\n\u001b[1;32m    188\u001b[0m \u001b[39mself\u001b[39m\u001b[39m.\u001b[39mensure_running()\n\u001b[0;32m--> 189\u001b[0m \u001b[39mself\u001b[39;49m\u001b[39m.\u001b[39;49m_send(\u001b[39m\"\u001b[39;49m\u001b[39mMAYBE_UNLINK\u001b[39;49m\u001b[39m\"\u001b[39;49m, name, rtype)\n",
      "File \u001b[0;32m~/Library/Python/3.9/lib/python/site-packages/joblib/externals/loky/backend/resource_tracker.py:197\u001b[0m, in \u001b[0;36mResourceTracker._send\u001b[0;34m(self, cmd, name, rtype)\u001b[0m\n\u001b[1;32m    196\u001b[0m msg \u001b[39m=\u001b[39m \u001b[39mf\u001b[39m\u001b[39m\"\u001b[39m\u001b[39m{\u001b[39;00mcmd\u001b[39m}\u001b[39;00m\u001b[39m:\u001b[39m\u001b[39m{\u001b[39;00mname\u001b[39m}\u001b[39;00m\u001b[39m:\u001b[39m\u001b[39m{\u001b[39;00mrtype\u001b[39m}\u001b[39;00m\u001b[39m\\n\u001b[39;00m\u001b[39m\"\u001b[39m\u001b[39m.\u001b[39mencode(\u001b[39m\"\u001b[39m\u001b[39mascii\u001b[39m\u001b[39m\"\u001b[39m)\n\u001b[0;32m--> 197\u001b[0m nbytes \u001b[39m=\u001b[39m os\u001b[39m.\u001b[39;49mwrite(\u001b[39mself\u001b[39;49m\u001b[39m.\u001b[39;49m_fd, msg)\n\u001b[1;32m    198\u001b[0m \u001b[39massert\u001b[39;00m nbytes \u001b[39m==\u001b[39m \u001b[39mlen\u001b[39m(msg)\n",
      "\u001b[0;31mBrokenPipeError\u001b[0m: [Errno 32] Broken pipe",
      "\nDuring handling of the above exception, another exception occurred:\n",
      "\u001b[0;31mBrokenPipeError\u001b[0m                           Traceback (most recent call last)",
      "Cell \u001b[0;32mIn[24], line 1\u001b[0m\n\u001b[0;32m----> 1\u001b[0m df_feature_importances \u001b[38;5;241m=\u001b[39m \u001b[43mfeature_selection_permutation_importance\u001b[49m\u001b[43m(\u001b[49m\n\u001b[1;32m      2\u001b[0m \u001b[43m    \u001b[49m\u001b[43mX_train\u001b[49m\u001b[43m,\u001b[49m\u001b[43m \u001b[49m\n\u001b[1;32m      3\u001b[0m \u001b[43m    \u001b[49m\u001b[43my_train\u001b[49m\u001b[43m,\u001b[49m\u001b[43m \u001b[49m\n\u001b[1;32m      4\u001b[0m \u001b[43m    \u001b[49m\u001b[43mn_jobs\u001b[49m\u001b[38;5;241;43m=\u001b[39;49m\u001b[38;5;241;43m4\u001b[39;49m\u001b[43m,\u001b[49m\u001b[43m \u001b[49m\n\u001b[1;32m      5\u001b[0m \u001b[43m    \u001b[49m\u001b[43mn_repeats\u001b[49m\u001b[38;5;241;43m=\u001b[39;49m\u001b[38;5;241;43m4\u001b[39;49m\u001b[43m,\u001b[49m\n\u001b[1;32m      6\u001b[0m \u001b[43m    \u001b[49m\u001b[43mplot\u001b[49m\u001b[38;5;241;43m=\u001b[39;49m\u001b[38;5;28;43;01mTrue\u001b[39;49;00m\u001b[43m,\u001b[49m\n\u001b[1;32m      7\u001b[0m \u001b[43m)\u001b[49m\n",
      "File \u001b[0;32m~/Documents/python_projects/cluepoints-case/feature_extraction.py:318\u001b[0m, in \u001b[0;36mfeature_selection_permutation_importance\u001b[0;34m(df_features, target, n_repeats, n_jobs, plot)\u001b[0m\n\u001b[1;32m    316\u001b[0m clf\u001b[39m.\u001b[39mfit(df_features, target)\n\u001b[1;32m    317\u001b[0m \u001b[39mwith\u001b[39;00m parallel_backend(\u001b[39m'\u001b[39m\u001b[39mmultiprocessing\u001b[39m\u001b[39m'\u001b[39m, n_jobs\u001b[39m=\u001b[39mn_jobs):\n\u001b[0;32m--> 318\u001b[0m     perm_imp \u001b[39m=\u001b[39m permutation_importance(\n\u001b[1;32m    319\u001b[0m         estimator \u001b[39m=\u001b[39;49m clf,\n\u001b[1;32m    320\u001b[0m         X \u001b[39m=\u001b[39;49m df_features, \n\u001b[1;32m    321\u001b[0m         y \u001b[39m=\u001b[39;49m target, \n\u001b[1;32m    322\u001b[0m         n_repeats \u001b[39m=\u001b[39;49m n_repeats,\n\u001b[1;32m    323\u001b[0m         n_jobs \u001b[39m=\u001b[39;49m n_jobs,\n\u001b[1;32m    324\u001b[0m     )\n\u001b[1;32m    326\u001b[0m df_feature_importances \u001b[39m=\u001b[39m pd\u001b[39m.\u001b[39mDataFrame(\u001b[39mlist\u001b[39m(\u001b[39mzip\u001b[39m(perm_imp\u001b[39m.\u001b[39mimportances_mean, df_features\u001b[39m.\u001b[39mcolumns)), columns\u001b[39m=\u001b[39m[\u001b[39m'\u001b[39m\u001b[39mcoef\u001b[39m\u001b[39m'\u001b[39m,\u001b[39m'\u001b[39m\u001b[39mfeature\u001b[39m\u001b[39m'\u001b[39m])\n\u001b[1;32m    327\u001b[0m df_feature_importances \u001b[39m=\u001b[39m df_feature_importances\u001b[39m.\u001b[39msort_values(by\u001b[39m=\u001b[39m\u001b[39m'\u001b[39m\u001b[39mcoef\u001b[39m\u001b[39m'\u001b[39m, ascending\u001b[39m=\u001b[39m\u001b[39mFalse\u001b[39;00m)\n",
      "File \u001b[0;32m~/Library/Python/3.9/lib/python/site-packages/sklearn/inspection/_permutation_importance.py:259\u001b[0m, in \u001b[0;36mpermutation_importance\u001b[0;34m(estimator, X, y, scoring, n_repeats, n_jobs, random_state, sample_weight, max_samples)\u001b[0m\n\u001b[1;32m    255\u001b[0m     scorer \u001b[39m=\u001b[39m _MultimetricScorer(\u001b[39m*\u001b[39m\u001b[39m*\u001b[39mscorers_dict)\n\u001b[1;32m    257\u001b[0m baseline_score \u001b[39m=\u001b[39m _weights_scorer(scorer, estimator, X, y, sample_weight)\n\u001b[0;32m--> 259\u001b[0m scores \u001b[39m=\u001b[39m Parallel(n_jobs\u001b[39m=\u001b[39;49mn_jobs)(\n\u001b[1;32m    260\u001b[0m     delayed(_calculate_permutation_scores)(\n\u001b[1;32m    261\u001b[0m         estimator,\n\u001b[1;32m    262\u001b[0m         X,\n\u001b[1;32m    263\u001b[0m         y,\n\u001b[1;32m    264\u001b[0m         sample_weight,\n\u001b[1;32m    265\u001b[0m         col_idx,\n\u001b[1;32m    266\u001b[0m         random_seed,\n\u001b[1;32m    267\u001b[0m         n_repeats,\n\u001b[1;32m    268\u001b[0m         scorer,\n\u001b[1;32m    269\u001b[0m         max_samples,\n\u001b[1;32m    270\u001b[0m     )\n\u001b[1;32m    271\u001b[0m     \u001b[39mfor\u001b[39;49;00m col_idx \u001b[39min\u001b[39;49;00m \u001b[39mrange\u001b[39;49m(X\u001b[39m.\u001b[39;49mshape[\u001b[39m1\u001b[39;49m])\n\u001b[1;32m    272\u001b[0m )\n\u001b[1;32m    274\u001b[0m \u001b[39mif\u001b[39;00m \u001b[39misinstance\u001b[39m(baseline_score, \u001b[39mdict\u001b[39m):\n\u001b[1;32m    275\u001b[0m     \u001b[39mreturn\u001b[39;00m {\n\u001b[1;32m    276\u001b[0m         name: _create_importances_bunch(\n\u001b[1;32m    277\u001b[0m             baseline_score[name],\n\u001b[0;32m   (...)\u001b[0m\n\u001b[1;32m    281\u001b[0m         \u001b[39mfor\u001b[39;00m name \u001b[39min\u001b[39;00m baseline_score\n\u001b[1;32m    282\u001b[0m     }\n",
      "File \u001b[0;32m~/Library/Python/3.9/lib/python/site-packages/joblib/parallel.py:1952\u001b[0m, in \u001b[0;36mParallel.__call__\u001b[0;34m(self, iterable)\u001b[0m\n\u001b[1;32m   1946\u001b[0m \u001b[39m# The first item from the output is blank, but it makes the interpreter\u001b[39;00m\n\u001b[1;32m   1947\u001b[0m \u001b[39m# progress until it enters the Try/Except block of the generator and\u001b[39;00m\n\u001b[1;32m   1948\u001b[0m \u001b[39m# reach the first `yield` statement. This starts the aynchronous\u001b[39;00m\n\u001b[1;32m   1949\u001b[0m \u001b[39m# dispatch of the tasks to the workers.\u001b[39;00m\n\u001b[1;32m   1950\u001b[0m \u001b[39mnext\u001b[39m(output)\n\u001b[0;32m-> 1952\u001b[0m \u001b[39mreturn\u001b[39;00m output \u001b[39mif\u001b[39;00m \u001b[39mself\u001b[39m\u001b[39m.\u001b[39mreturn_generator \u001b[39melse\u001b[39;00m \u001b[39mlist\u001b[39;49m(output)\n",
      "File \u001b[0;32m~/Library/Python/3.9/lib/python/site-packages/joblib/parallel.py:1656\u001b[0m, in \u001b[0;36mParallel._get_outputs\u001b[0;34m(self, iterator, pre_dispatch)\u001b[0m\n\u001b[1;32m   1654\u001b[0m     \u001b[39mself\u001b[39m\u001b[39m.\u001b[39m_running \u001b[39m=\u001b[39m \u001b[39mFalse\u001b[39;00m\n\u001b[1;32m   1655\u001b[0m     \u001b[39mif\u001b[39;00m \u001b[39mnot\u001b[39;00m detach_generator_exit:\n\u001b[0;32m-> 1656\u001b[0m         \u001b[39mself\u001b[39;49m\u001b[39m.\u001b[39;49m_terminate_and_reset()\n\u001b[1;32m   1658\u001b[0m \u001b[39mwhile\u001b[39;00m \u001b[39mlen\u001b[39m(_remaining_outputs) \u001b[39m>\u001b[39m \u001b[39m0\u001b[39m:\n\u001b[1;32m   1659\u001b[0m     batched_results \u001b[39m=\u001b[39m _remaining_outputs\u001b[39m.\u001b[39mpopleft()\n",
      "File \u001b[0;32m~/Library/Python/3.9/lib/python/site-packages/joblib/parallel.py:1359\u001b[0m, in \u001b[0;36mParallel._terminate_and_reset\u001b[0;34m(self)\u001b[0m\n\u001b[1;32m   1357\u001b[0m \u001b[39mself\u001b[39m\u001b[39m.\u001b[39m_calling \u001b[39m=\u001b[39m \u001b[39mFalse\u001b[39;00m\n\u001b[1;32m   1358\u001b[0m \u001b[39mif\u001b[39;00m \u001b[39mnot\u001b[39;00m \u001b[39mself\u001b[39m\u001b[39m.\u001b[39m_managed_backend:\n\u001b[0;32m-> 1359\u001b[0m     \u001b[39mself\u001b[39;49m\u001b[39m.\u001b[39;49m_backend\u001b[39m.\u001b[39;49mterminate()\n",
      "File \u001b[0;32m~/Library/Python/3.9/lib/python/site-packages/joblib/_parallel_backends.py:532\u001b[0m, in \u001b[0;36mMultiprocessingBackend.terminate\u001b[0;34m(self)\u001b[0m\n\u001b[1;32m    530\u001b[0m \u001b[39mdef\u001b[39;00m \u001b[39mterminate\u001b[39m(\u001b[39mself\u001b[39m):\n\u001b[1;32m    531\u001b[0m \u001b[39m    \u001b[39m\u001b[39m\"\"\"Shutdown the process or thread pool\"\"\"\u001b[39;00m\n\u001b[0;32m--> 532\u001b[0m     \u001b[39msuper\u001b[39;49m(MultiprocessingBackend, \u001b[39mself\u001b[39;49m)\u001b[39m.\u001b[39;49mterminate()\n\u001b[1;32m    533\u001b[0m     \u001b[39mself\u001b[39m\u001b[39m.\u001b[39mreset_batch_stats()\n",
      "File \u001b[0;32m~/Library/Python/3.9/lib/python/site-packages/joblib/_parallel_backends.py:262\u001b[0m, in \u001b[0;36mPoolManagerMixin.terminate\u001b[0;34m(self)\u001b[0m\n\u001b[1;32m    260\u001b[0m \u001b[39mif\u001b[39;00m \u001b[39mself\u001b[39m\u001b[39m.\u001b[39m_pool \u001b[39mis\u001b[39;00m \u001b[39mnot\u001b[39;00m \u001b[39mNone\u001b[39;00m:\n\u001b[1;32m    261\u001b[0m     \u001b[39mself\u001b[39m\u001b[39m.\u001b[39m_pool\u001b[39m.\u001b[39mclose()\n\u001b[0;32m--> 262\u001b[0m     \u001b[39mself\u001b[39;49m\u001b[39m.\u001b[39;49m_pool\u001b[39m.\u001b[39;49mterminate()  \u001b[39m# terminate does a join()\u001b[39;00m\n\u001b[1;32m    263\u001b[0m     \u001b[39mself\u001b[39m\u001b[39m.\u001b[39m_pool \u001b[39m=\u001b[39m \u001b[39mNone\u001b[39;00m\n",
      "File \u001b[0;32m~/Library/Python/3.9/lib/python/site-packages/joblib/pool.py:341\u001b[0m, in \u001b[0;36mMemmappingPool.terminate\u001b[0;34m(self)\u001b[0m\n\u001b[1;32m    337\u001b[0m                 warnings\u001b[39m.\u001b[39mwarn(\u001b[39m\"\u001b[39m\u001b[39mFailed to terminate worker processes in\u001b[39m\u001b[39m\"\u001b[39m\n\u001b[1;32m    338\u001b[0m                               \u001b[39m\"\u001b[39m\u001b[39m multiprocessing pool: \u001b[39m\u001b[39m%r\u001b[39;00m\u001b[39m\"\u001b[39m \u001b[39m%\u001b[39m e)\n\u001b[1;32m    340\u001b[0m \u001b[39m# Clean up the temporary resources as the workers should now be off.\u001b[39;00m\n\u001b[0;32m--> 341\u001b[0m \u001b[39mself\u001b[39;49m\u001b[39m.\u001b[39;49m_temp_folder_manager\u001b[39m.\u001b[39;49m_clean_temporary_resources()\n",
      "File \u001b[0;32m~/Library/Python/3.9/lib/python/site-packages/joblib/_memmapping_reducer.py:610\u001b[0m, in \u001b[0;36mTemporaryResourcesManager._clean_temporary_resources\u001b[0;34m(self, context_id, force, allow_non_empty)\u001b[0m\n\u001b[1;32m    606\u001b[0m \u001b[39mif\u001b[39;00m context_id \u001b[39mis\u001b[39;00m \u001b[39mNone\u001b[39;00m:\n\u001b[1;32m    607\u001b[0m     \u001b[39m# Iterates over a copy of the cache keys to avoid Error due to\u001b[39;00m\n\u001b[1;32m    608\u001b[0m     \u001b[39m# iterating over a changing size dictionary.\u001b[39;00m\n\u001b[1;32m    609\u001b[0m     \u001b[39mfor\u001b[39;00m context_id \u001b[39min\u001b[39;00m \u001b[39mlist\u001b[39m(\u001b[39mself\u001b[39m\u001b[39m.\u001b[39m_cached_temp_folders):\n\u001b[0;32m--> 610\u001b[0m         \u001b[39mself\u001b[39;49m\u001b[39m.\u001b[39;49m_clean_temporary_resources(\n\u001b[1;32m    611\u001b[0m             context_id, force\u001b[39m=\u001b[39;49mforce, allow_non_empty\u001b[39m=\u001b[39;49mallow_non_empty\n\u001b[1;32m    612\u001b[0m         )\n\u001b[1;32m    613\u001b[0m \u001b[39melse\u001b[39;00m:\n\u001b[1;32m    614\u001b[0m     temp_folder \u001b[39m=\u001b[39m \u001b[39mself\u001b[39m\u001b[39m.\u001b[39m_cached_temp_folders\u001b[39m.\u001b[39mget(context_id)\n",
      "File \u001b[0;32m~/Library/Python/3.9/lib/python/site-packages/joblib/_memmapping_reducer.py:625\u001b[0m, in \u001b[0;36mTemporaryResourcesManager._clean_temporary_resources\u001b[0;34m(self, context_id, force, allow_non_empty)\u001b[0m\n\u001b[1;32m    621\u001b[0m         resource_tracker\u001b[39m.\u001b[39munregister(\n\u001b[1;32m    622\u001b[0m             os\u001b[39m.\u001b[39mpath\u001b[39m.\u001b[39mjoin(temp_folder, filename), \u001b[39m\"\u001b[39m\u001b[39mfile\u001b[39m\u001b[39m\"\u001b[39m\n\u001b[1;32m    623\u001b[0m         )\n\u001b[1;32m    624\u001b[0m     \u001b[39melse\u001b[39;00m:\n\u001b[0;32m--> 625\u001b[0m         resource_tracker\u001b[39m.\u001b[39;49mmaybe_unlink(\n\u001b[1;32m    626\u001b[0m             os\u001b[39m.\u001b[39;49mpath\u001b[39m.\u001b[39;49mjoin(temp_folder, filename), \u001b[39m\"\u001b[39;49m\u001b[39mfile\u001b[39;49m\u001b[39m\"\u001b[39;49m\n\u001b[1;32m    627\u001b[0m         )\n\u001b[1;32m    629\u001b[0m \u001b[39m# When forcing clean-up, try to delete the folder even if some\u001b[39;00m\n\u001b[1;32m    630\u001b[0m \u001b[39m# files are still in it. Otherwise, try to delete the folder\u001b[39;00m\n\u001b[1;32m    631\u001b[0m allow_non_empty \u001b[39m|\u001b[39m\u001b[39m=\u001b[39m force\n",
      "File \u001b[0;32m~/Library/Python/3.9/lib/python/site-packages/joblib/externals/loky/backend/resource_tracker.py:189\u001b[0m, in \u001b[0;36mResourceTracker.maybe_unlink\u001b[0;34m(self, name, rtype)\u001b[0m\n\u001b[1;32m    187\u001b[0m \u001b[39m\u001b[39m\u001b[39m\"\"\"Decrement the refcount of a resource, and delete it if it hits 0\"\"\"\u001b[39;00m\n\u001b[1;32m    188\u001b[0m \u001b[39mself\u001b[39m\u001b[39m.\u001b[39mensure_running()\n\u001b[0;32m--> 189\u001b[0m \u001b[39mself\u001b[39;49m\u001b[39m.\u001b[39;49m_send(\u001b[39m\"\u001b[39;49m\u001b[39mMAYBE_UNLINK\u001b[39;49m\u001b[39m\"\u001b[39;49m, name, rtype)\n",
      "File \u001b[0;32m~/Library/Python/3.9/lib/python/site-packages/joblib/externals/loky/backend/resource_tracker.py:197\u001b[0m, in \u001b[0;36mResourceTracker._send\u001b[0;34m(self, cmd, name, rtype)\u001b[0m\n\u001b[1;32m    195\u001b[0m     \u001b[39mraise\u001b[39;00m \u001b[39mValueError\u001b[39;00m(\u001b[39m\"\u001b[39m\u001b[39mname too long\u001b[39m\u001b[39m\"\u001b[39m)\n\u001b[1;32m    196\u001b[0m msg \u001b[39m=\u001b[39m \u001b[39mf\u001b[39m\u001b[39m\"\u001b[39m\u001b[39m{\u001b[39;00mcmd\u001b[39m}\u001b[39;00m\u001b[39m:\u001b[39m\u001b[39m{\u001b[39;00mname\u001b[39m}\u001b[39;00m\u001b[39m:\u001b[39m\u001b[39m{\u001b[39;00mrtype\u001b[39m}\u001b[39;00m\u001b[39m\\n\u001b[39;00m\u001b[39m\"\u001b[39m\u001b[39m.\u001b[39mencode(\u001b[39m\"\u001b[39m\u001b[39mascii\u001b[39m\u001b[39m\"\u001b[39m)\n\u001b[0;32m--> 197\u001b[0m nbytes \u001b[39m=\u001b[39m os\u001b[39m.\u001b[39;49mwrite(\u001b[39mself\u001b[39;49m\u001b[39m.\u001b[39;49m_fd, msg)\n\u001b[1;32m    198\u001b[0m \u001b[39massert\u001b[39;00m nbytes \u001b[39m==\u001b[39m \u001b[39mlen\u001b[39m(msg)\n",
      "\u001b[0;31mBrokenPipeError\u001b[0m: [Errno 32] Broken pipe"
     ]
    }
   ],
   "source": [
    "df_feature_importances = feature_selection_permutation_importance(\n",
    "    X_train, \n",
    "    y_train, \n",
    "    n_jobs=4, \n",
    "    n_repeats=4,\n",
    "    plot=True,\n",
    ")"
   ]
  },
  {
   "cell_type": "markdown",
   "id": "b87ab64f",
   "metadata": {
    "hidden": true
   },
   "source": [
    "### Hierarchical Clustering 1"
   ]
  },
  {
   "cell_type": "code",
   "execution_count": null,
   "id": "bb29a0b8",
   "metadata": {
    "ExecuteTime": {
     "end_time": "2023-09-01T22:15:38.735784Z",
     "start_time": "2023-09-01T22:15:38.733268Z"
    },
    "hidden": true
   },
   "outputs": [],
   "source": [
    "THRESHOLD_CLUSTERING = 0.75\n",
    "THRESHOLD_IMPORTANCE = None # Set to None in first iteration"
   ]
  },
  {
   "cell_type": "code",
   "execution_count": null,
   "id": "d2788254",
   "metadata": {
    "ExecuteTime": {
     "end_time": "2023-09-01T22:15:42.636365Z",
     "start_time": "2023-09-01T22:15:40.174618Z"
    },
    "hidden": true,
    "scrolled": true
   },
   "outputs": [],
   "source": [
    "df_selected_features = feature_selection_hierarchical_clustering(\n",
    "    X_train, \n",
    "    threshold_clustering=THRESHOLD_CLUSTERING, \n",
    "    threshold_importance=THRESHOLD_IMPORTANCE, \n",
    "    df_feature_importances=df_feature_importances, \n",
    "    plot=True,\n",
    ")\n",
    "\n",
    "display(df_selected_features)"
   ]
  },
  {
   "cell_type": "code",
   "execution_count": null,
   "id": "a05fcd9f",
   "metadata": {
    "ExecuteTime": {
     "end_time": "2023-09-01T22:15:44.189990Z",
     "start_time": "2023-09-01T22:15:44.187427Z"
    },
    "hidden": true,
    "scrolled": true
   },
   "outputs": [],
   "source": [
    "FEATURES_PERMUTATION_IMPORTANCE_2 = df_selected_features['feature'].to_list()"
   ]
  },
  {
   "cell_type": "markdown",
   "id": "03bef94f",
   "metadata": {
    "hidden": true
   },
   "source": [
    "### Permutation Importance 2"
   ]
  },
  {
   "cell_type": "code",
   "execution_count": null,
   "id": "5b9dc38e",
   "metadata": {
    "ExecuteTime": {
     "end_time": "2023-09-01T22:15:49.591785Z",
     "start_time": "2023-09-01T22:15:45.750497Z"
    },
    "hidden": true,
    "scrolled": true
   },
   "outputs": [],
   "source": [
    "df_feature_importances = feature_selection_permutation_importance(\n",
    "    X_train[FEATURES_PERMUTATION_IMPORTANCE_2],\n",
    "    y_train,\n",
    "    n_jobs=4,\n",
    "    n_repeats=4,\n",
    "    plot=True,\n",
    ")"
   ]
  },
  {
   "cell_type": "markdown",
   "id": "9047b40c",
   "metadata": {
    "hidden": true
   },
   "source": [
    "### Hierarchical Clustering 2"
   ]
  },
  {
   "cell_type": "code",
   "execution_count": null,
   "id": "f3ce6d36",
   "metadata": {
    "ExecuteTime": {
     "end_time": "2023-09-01T22:15:51.151563Z",
     "start_time": "2023-09-01T22:15:51.148818Z"
    },
    "hidden": true
   },
   "outputs": [],
   "source": [
    "THRESHOLD_CLUSTERING = 0.75 #0.055\n",
    "THRESHOLD_IMPORTANCE = 0.005"
   ]
  },
  {
   "cell_type": "code",
   "execution_count": null,
   "id": "12810694",
   "metadata": {
    "ExecuteTime": {
     "end_time": "2023-09-01T22:15:55.093336Z",
     "start_time": "2023-09-01T22:15:52.690193Z"
    },
    "hidden": true,
    "scrolled": true
   },
   "outputs": [],
   "source": [
    "df_selected_features = feature_selection_hierarchical_clustering(\n",
    "    X_train[FEATURES_PERMUTATION_IMPORTANCE_2], \n",
    "    threshold_clustering=THRESHOLD_CLUSTERING, \n",
    "    threshold_importance=THRESHOLD_IMPORTANCE, \n",
    "    df_feature_importances=df_feature_importances, \n",
    "    plot=True,\n",
    ")\n",
    "\n",
    "display(df_selected_features)"
   ]
  },
  {
   "cell_type": "code",
   "execution_count": null,
   "id": "2f4f301f",
   "metadata": {
    "ExecuteTime": {
     "end_time": "2023-09-01T22:15:56.618532Z",
     "start_time": "2023-09-01T22:15:56.614131Z"
    },
    "hidden": true
   },
   "outputs": [],
   "source": [
    "FEATURES_LIST_PI_HC = df_selected_features['feature'].to_list()\n",
    "len(FEATURES_LIST_PI_HC)"
   ]
  },
  {
   "cell_type": "markdown",
   "id": "693f8170",
   "metadata": {
    "heading_collapsed": true,
    "hidden": true
   },
   "source": [
    "## Feature Selection Method 2: Principal Components Analysis"
   ]
  },
  {
   "cell_type": "code",
   "execution_count": null,
   "id": "6359e422",
   "metadata": {
    "ExecuteTime": {
     "end_time": "2023-09-01T21:49:36.127631Z",
     "start_time": "2023-09-01T21:49:08.226623Z"
    },
    "hidden": true,
    "scrolled": true
   },
   "outputs": [],
   "source": [
    "feature_extractor.plot_optimal_PCA_components(X_train)"
   ]
  },
  {
   "cell_type": "code",
   "execution_count": null,
   "id": "8abe9a5e",
   "metadata": {
    "ExecuteTime": {
     "end_time": "2023-09-01T21:01:47.898313Z",
     "start_time": "2023-09-01T21:01:47.734817Z"
    },
    "hidden": true
   },
   "outputs": [],
   "source": [
    "# feature_extractor.feat_PCA_train(X_train, n_components=10)"
   ]
  },
  {
   "cell_type": "markdown",
   "id": "794e12cd",
   "metadata": {
    "ExecuteTime": {
     "end_time": "2023-09-01T22:07:25.670168Z",
     "start_time": "2023-09-01T22:07:25.630886Z"
    },
    "hidden": true
   },
   "source": [
    "The fact that one principal component explains all the variance suggests that the original features are not providing distinct and independent information. Instead, they are highly correlated or redundant with each other.\n",
    "\n",
    "This method is not used in this analysis further."
   ]
  },
  {
   "cell_type": "markdown",
   "id": "22037bf2",
   "metadata": {
    "hidden": true
   },
   "source": [
    "## Select the desired feature list"
   ]
  },
  {
   "cell_type": "code",
   "execution_count": 25,
   "id": "d864a31f",
   "metadata": {
    "ExecuteTime": {
     "end_time": "2023-09-01T22:15:58.157394Z",
     "start_time": "2023-09-01T22:15:58.155108Z"
    },
    "hidden": true
   },
   "outputs": [
    {
     "name": "stdout",
     "output_type": "stream",
     "text": [
      "88\n"
     ]
    }
   ],
   "source": [
    "FEATURES_LIST_SELECTED = list(X_train.columns) # FEATURES_LIST_PI_HC / list(X_train.columns)\n",
    "print(len(FEATURES_LIST_SELECTED))"
   ]
  },
  {
   "cell_type": "markdown",
   "id": "54894340",
   "metadata": {},
   "source": [
    "# Classification"
   ]
  },
  {
   "cell_type": "markdown",
   "id": "b3b384e4",
   "metadata": {
    "ExecuteTime": {
     "end_time": "2023-09-01T14:13:52.204749Z",
     "start_time": "2023-09-01T14:13:52.157022Z"
    }
   },
   "source": [
    "add calibration"
   ]
  },
  {
   "cell_type": "markdown",
   "id": "a1995536",
   "metadata": {},
   "source": [
    "force infrequent neighborhood classes in test to be same as train\n",
    "\n",
    "or knoiw the infrequent alreaDY AND FORCE IN BOTH TESTR AND TRAIN"
   ]
  },
  {
   "cell_type": "code",
   "execution_count": 26,
   "id": "b2e6d05a",
   "metadata": {},
   "outputs": [],
   "source": [
    "df_metrics = pd.DataFrame()"
   ]
  },
  {
   "cell_type": "code",
   "execution_count": 27,
   "id": "082f6f4a",
   "metadata": {
    "ExecuteTime": {
     "end_time": "2023-09-01T22:35:53.197643Z",
     "start_time": "2023-09-01T22:35:52.973354Z"
    },
    "scrolled": true
   },
   "outputs": [
    {
     "name": "stdout",
     "output_type": "stream",
     "text": [
      "Gender -> n_unique: 2\n",
      "Neighbourhood -> n_unique: 71\n",
      "day_of_week -> n_unique: 6\n"
     ]
    },
    {
     "data": {
      "text/plain": [
       "(14352, 88)"
      ]
     },
     "execution_count": 27,
     "metadata": {},
     "output_type": "execute_result"
    }
   ],
   "source": [
    "X_test, y_test = feature_extractor.feat_n_hours_scheduled_before(X_test, y_test, scheduled_after_appointment_strategy=scheduled_after_appointment_strategy)\n",
    "X_test = feature_extractor.feat_appointment_date(X_test)\n",
    "X_test = feature_extractor.feat_categorical_to_one_hot_encoding_test(X_test)\n",
    "X_test = feature_extractor.feat_minmax_norm_test(X_test, columns_to_scale)\n",
    "X_test.drop(columns=['PatientID', 'AppointmentID', 'ScheduledDay', 'AppointmentDay'], inplace=True)\n",
    "X_test.shape"
   ]
  },
  {
   "cell_type": "markdown",
   "id": "092ec868",
   "metadata": {},
   "source": [
    "## Logistic Regression Classifier"
   ]
  },
  {
   "cell_type": "code",
   "execution_count": null,
   "id": "c2a49571",
   "metadata": {
    "ExecuteTime": {
     "end_time": "2023-09-01T22:36:26.087443Z",
     "start_time": "2023-09-01T22:36:25.594261Z"
    },
    "scrolled": true
   },
   "outputs": [],
   "source": [
    "clf_logistic_regression = LogisticRegressionClf()\n",
    "clf_logistic_regression.set_class_weights()\n",
    "clf_logistic_regression.fit_classifier(X_train[FEATURES_LIST_SELECTED], y_train)"
   ]
  },
  {
   "cell_type": "code",
   "execution_count": null,
   "id": "7d245f21",
   "metadata": {
    "ExecuteTime": {
     "end_time": "2023-09-01T22:36:26.516657Z",
     "start_time": "2023-09-01T22:36:26.465144Z"
    },
    "scrolled": true
   },
   "outputs": [],
   "source": [
    "y_pred = clf_logistic_regression.predict_classifier(X_test[FEATURES_LIST_SELECTED])\n",
    "precision_lr, recall_lr, f1_lr, accuracy_lr = clf_logistic_regression.evaluate_classifier(y_test, y_pred)"
   ]
  },
  {
   "cell_type": "code",
   "execution_count": null,
   "id": "4705cda1",
   "metadata": {},
   "outputs": [],
   "source": [
    "df_metrics = pd.concat([\n",
    "    df_metrics,\n",
    "    pd.DataFrame({\n",
    "        \"classifier\": \"logistic_regression\",\n",
    "        \"precision\": precision_lr,\n",
    "        \"recall\": recall_lr,\n",
    "        \"f1\": f1_lr,\n",
    "        \"accuracy\": accuracy_lr,\n",
    "    }, index=[0])\n",
    "])\n",
    "df_metrics"
   ]
  },
  {
   "cell_type": "markdown",
   "id": "ad10bbee",
   "metadata": {},
   "source": [
    "## Random Forest Classifier"
   ]
  },
  {
   "cell_type": "code",
   "execution_count": 28,
   "id": "b340143a",
   "metadata": {
    "ExecuteTime": {
     "end_time": "2023-09-01T14:09:34.663107Z",
     "start_time": "2023-09-01T14:09:28.428181Z"
    }
   },
   "outputs": [],
   "source": [
    "clf_rf = RandomForestClf()\n",
    "clf_rf.set_class_weights()\n",
    "clf_rf.fit_classifier(X_train[FEATURES_LIST_SELECTED], y_train)"
   ]
  },
  {
   "cell_type": "code",
   "execution_count": 29,
   "id": "b1cde638",
   "metadata": {
    "ExecuteTime": {
     "end_time": "2023-09-01T14:09:37.740103Z",
     "start_time": "2023-09-01T14:09:37.168738Z"
    }
   },
   "outputs": [],
   "source": [
    "y_pred = clf_rf.predict_classifier(X_test[FEATURES_LIST_SELECTED])\n",
    "precision_rf, recall_rf, f1_rf, accuracy_rf = clf_rf.evaluate_classifier(y_test, y_pred)"
   ]
  },
  {
   "cell_type": "code",
   "execution_count": 30,
   "id": "4705cda1",
   "metadata": {},
   "outputs": [
    {
     "data": {
      "text/html": [
       "<div>\n",
       "<style scoped>\n",
       "    .dataframe tbody tr th:only-of-type {\n",
       "        vertical-align: middle;\n",
       "    }\n",
       "\n",
       "    .dataframe tbody tr th {\n",
       "        vertical-align: top;\n",
       "    }\n",
       "\n",
       "    .dataframe thead th {\n",
       "        text-align: right;\n",
       "    }\n",
       "</style>\n",
       "<table border=\"1\" class=\"dataframe\">\n",
       "  <thead>\n",
       "    <tr style=\"text-align: right;\">\n",
       "      <th></th>\n",
       "      <th>classifier</th>\n",
       "      <th>precision</th>\n",
       "      <th>recall</th>\n",
       "      <th>f1</th>\n",
       "      <th>accuracy</th>\n",
       "    </tr>\n",
       "  </thead>\n",
       "  <tbody>\n",
       "    <tr>\n",
       "      <th>0</th>\n",
       "      <td>random_forest</td>\n",
       "      <td>0.495738</td>\n",
       "      <td>0.1843</td>\n",
       "      <td>0.268704</td>\n",
       "      <td>0.71328</td>\n",
       "    </tr>\n",
       "  </tbody>\n",
       "</table>\n",
       "</div>"
      ],
      "text/plain": [
       "      classifier  precision  recall        f1  accuracy\n",
       "0  random_forest   0.495738  0.1843  0.268704   0.71328"
      ]
     },
     "execution_count": 30,
     "metadata": {},
     "output_type": "execute_result"
    }
   ],
   "source": [
    "df_metrics = pd.concat([\n",
    "    df_metrics,\n",
    "    pd.DataFrame({\n",
    "        \"classifier\": \"random_forest\",\n",
    "        \"precision\": precision_rf,\n",
    "        \"recall\": recall_rf,\n",
    "        \"f1\": f1_rf,\n",
    "        \"accuracy\": accuracy_rf,\n",
    "    }, index=[0])\n",
    "])\n",
    "df_metrics"
   ]
  },
  {
   "cell_type": "markdown",
   "id": "3ce65fdb",
   "metadata": {},
   "source": [
    "### Hyperparameter Tuning"
   ]
  },
  {
   "cell_type": "markdown",
   "id": "0afc7409",
   "metadata": {},
   "source": [
    "**Future Work:** ADD GRAPHS TO SHOW DIFFERENT CLASSIFIERS HYPERPARAMETER TUNING AND SEE WHAT FACTOR MAKES A DIFFERENCE"
   ]
  },
  {
   "cell_type": "code",
   "execution_count": null,
   "id": "a73d87da",
   "metadata": {
    "ExecuteTime": {
     "end_time": "2023-09-01T14:11:12.750012Z",
     "start_time": "2023-09-01T14:10:41.631315Z"
    }
   },
   "outputs": [],
   "source": [
    "param_space = {\n",
    "    'n_estimators': (10, 500),\n",
    "    'max_depth': (50, 200),\n",
    "    'min_samples_split': (2, 100),\n",
    "    'min_samples_leaf': (5, 100),\n",
    "    'max_features': (0.2, 1.0),\n",
    "}\n",
    "\n",
    "clf_rf.hyperparmater_tuning(X_train[FEATURES_LIST_SELECTED], y_train, param_space, n_iter=50, cv=5, n_jobs=32)"
   ]
  },
  {
   "cell_type": "code",
   "execution_count": null,
   "id": "20a91c1a",
   "metadata": {
    "ExecuteTime": {
     "end_time": "2023-08-27T19:39:59.537914Z",
     "start_time": "2023-08-27T19:39:59.438229Z"
    }
   },
   "outputs": [],
   "source": [
    "y_pred = clf_rf.predict_classifier(X_test[FEATURES_LIST_SELECTED])\n",
    "precision_rf_best, recall_rf_best, f1_rf_best, accuracy_rf_best = clf_rf.evaluate_classifier(y_test, y_pred)"
   ]
  },
  {
   "cell_type": "code",
   "execution_count": null,
   "id": "b325ae2f",
   "metadata": {},
   "outputs": [],
   "source": [
    "df_metrics = pd.concat([\n",
    "    df_metrics,\n",
    "    pd.DataFrame({\n",
    "        \"classifier\": \"random_forest_HP_tuned\",\n",
    "        \"precision\": precision_rf_best,\n",
    "        \"recall\": recall_rf_best,\n",
    "        \"f1\": f1_rf_best,\n",
    "        \"accuracy\": accuracy_rf_best,\n",
    "    }, index=[0])\n",
    "])\n",
    "df_metrics"
   ]
  },
  {
   "cell_type": "markdown",
   "id": "27550826",
   "metadata": {},
   "source": [
    "## XGBoost Classifier"
   ]
  },
  {
   "cell_type": "code",
   "execution_count": null,
   "id": "96e456b5",
   "metadata": {
    "ExecuteTime": {
     "end_time": "2023-09-01T14:12:51.378151Z",
     "start_time": "2023-09-01T14:12:50.139286Z"
    }
   },
   "outputs": [],
   "source": [
    "clf_xgb = XGBClf()\n",
    "clf_xgb.fit_classifier(X_train[FEATURES_LIST_SELECTED], y_train)"
   ]
  },
  {
   "cell_type": "code",
   "execution_count": null,
   "id": "1eaff558",
   "metadata": {
    "ExecuteTime": {
     "end_time": "2023-09-01T14:12:53.872540Z",
     "start_time": "2023-09-01T14:12:53.808504Z"
    }
   },
   "outputs": [],
   "source": [
    "y_pred = clf_xgb.predict_classifier(X_test[FEATURES_LIST_SELECTED])\n",
    "precision_xgb, recall_xgb, f1_xgb, accuracy_xgb = clf_xgb.evaluate_classifier(y_test, y_pred)"
   ]
  },
  {
   "cell_type": "code",
   "execution_count": null,
   "id": "6fde1209",
   "metadata": {
    "ExecuteTime": {
     "end_time": "2023-09-01T14:12:57.066205Z",
     "start_time": "2023-09-01T14:12:56.331862Z"
    },
    "scrolled": true
   },
   "outputs": [],
   "source": [
    "threshold_values = np.arange(0, 1, 0.05)\n",
    "clf_xgb.predict_per_threshold(X_test[FEATURES_LIST_SELECTED], y_test, threshold_values)"
   ]
  },
  {
   "cell_type": "code",
   "execution_count": null,
   "id": "3d3c188c",
   "metadata": {},
   "outputs": [],
   "source": [
    "pd.DataFrame.from_dict({\n",
    "        \"classifier\": [\"XGBoost\"],\n",
    "        \"precision\": [precision_xgb],\n",
    "        \"recall\": [recall_xgb],\n",
    "        \"f1\": [f1_xgb],\n",
    "        \"accuracy\": [accuracy_xgb],\n",
    "    })"
   ]
  },
  {
   "cell_type": "code",
   "execution_count": null,
   "id": "4705cda1",
   "metadata": {},
   "outputs": [],
   "source": [
    "df_metrics = pd.concat([\n",
    "    df_metrics,\n",
    "    pd.DataFrame({\n",
    "        \"classifier\": \"XGBoost\",\n",
    "        \"precision\": precision_xgb,\n",
    "        \"recall\": recall_xgb,\n",
    "        \"f1\": f1_xgb,\n",
    "        \"accuracy\": accuracy_xgb,\n",
    "    }, index=[0])\n",
    "])\n",
    "df_metrics"
   ]
  },
  {
   "cell_type": "markdown",
   "id": "6f4eedec",
   "metadata": {},
   "source": [
    "## MLP Classifier"
   ]
  },
  {
   "cell_type": "code",
   "execution_count": null,
   "id": "d3f314e6",
   "metadata": {
    "ExecuteTime": {
     "end_time": "2023-09-01T14:14:34.607677Z",
     "start_time": "2023-09-01T14:14:04.127252Z"
    },
    "scrolled": true
   },
   "outputs": [],
   "source": [
    "clf_mlp = MLPClf()\n",
    "clf_mlp.set_class_weights()\n",
    "clf_mlp.fit_classifier(X_train[FEATURES_LIST_SELECTED], y_train)"
   ]
  },
  {
   "cell_type": "code",
   "execution_count": null,
   "id": "46d134d3",
   "metadata": {
    "ExecuteTime": {
     "end_time": "2023-09-01T14:14:40.285365Z",
     "start_time": "2023-09-01T14:14:40.005094Z"
    },
    "scrolled": false
   },
   "outputs": [],
   "source": [
    "y_pred = clf_mlp.predict_classifier(X_test[FEATURES_LIST_SELECTED])\n",
    "precision_mlp, recall_mlp, f1_mlp, accuracy_mlp = clf_mlp.evaluate_classifier(y_test, y_pred)"
   ]
  },
  {
   "cell_type": "code",
   "execution_count": null,
   "id": "4705cda1",
   "metadata": {},
   "outputs": [],
   "source": [
    "df_metrics = pd.concat([\n",
    "    df_metrics,\n",
    "    pd.DataFrame({\n",
    "        \"classifier\": \"MLP\",\n",
    "        \"precision\": precision_mlp,\n",
    "        \"recall\": recall_mlp,\n",
    "        \"f1\": f1_mlp,\n",
    "        \"accuracy\": accuracy_mlp,\n",
    "    }, index=[0])\n",
    "])\n",
    "df_metrics"
   ]
  },
  {
   "cell_type": "code",
   "execution_count": null,
   "id": "2d06974a",
   "metadata": {
    "ExecuteTime": {
     "end_time": "2023-09-01T14:14:48.073298Z",
     "start_time": "2023-09-01T14:14:47.820648Z"
    },
    "scrolled": false
   },
   "outputs": [],
   "source": [
    "y_pred = clf_mlp.predict_at_threshold(X_test[FEATURES_LIST_SELECTED], 0.4)\n",
    "precision_mlp_thr_0_4, recall_mlp_thr_0_4, f1_mlp_thr_0_4, accuracy_mlp_thr_0_4 = clf_mlp.evaluate_classifier(y_test, y_pred)"
   ]
  },
  {
   "cell_type": "code",
   "execution_count": null,
   "id": "4705cda1",
   "metadata": {},
   "outputs": [],
   "source": [
    "df_metrics = pd.concat([\n",
    "    df_metrics,\n",
    "    pd.DataFrame({\n",
    "        \"classifier\": \"MLP_thr_0.4\",\n",
    "        \"precision\": precision_mlp_thr_0_4,\n",
    "        \"recall\": recall_mlp_thr_0_4,\n",
    "        \"f1\": f1_mlp_thr_0_4,\n",
    "        \"accuracy\": accuracy_mlp_thr_0_4,\n",
    "    }, index=[0])\n",
    "])\n",
    "df_metrics"
   ]
  },
  {
   "cell_type": "code",
   "execution_count": null,
   "id": "b3f782f6",
   "metadata": {
    "ExecuteTime": {
     "end_time": "2023-08-27T09:22:18.545939Z",
     "start_time": "2023-08-27T09:22:17.598238Z"
    },
    "scrolled": true
   },
   "outputs": [],
   "source": [
    "threshold_values = np.arange(0, 1, 0.05)\n",
    "clf_mlp.predict_per_threshold(X_test[FEATURES_LIST_SELECTED], y_test, threshold_values)"
   ]
  },
  {
   "cell_type": "markdown",
   "id": "407131b7",
   "metadata": {},
   "source": [
    "## Compare Classifers"
   ]
  },
  {
   "cell_type": "code",
   "execution_count": null,
   "id": "6e6331f6",
   "metadata": {},
   "outputs": [],
   "source": [
    "compare_performances_across_classifiers(df_metrics)"
   ]
  },
  {
   "cell_type": "markdown",
   "id": "fede2c83",
   "metadata": {},
   "source": [
    "# Error analysis"
   ]
  },
  {
   "cell_type": "code",
   "execution_count": 32,
   "id": "efb01069",
   "metadata": {
    "ExecuteTime": {
     "end_time": "2023-09-01T14:19:07.177848Z",
     "start_time": "2023-09-01T14:19:06.837725Z"
    },
    "scrolled": true
   },
   "outputs": [],
   "source": [
    "import giskard"
   ]
  },
  {
   "cell_type": "code",
   "execution_count": 33,
   "id": "bd94c029",
   "metadata": {
    "ExecuteTime": {
     "end_time": "2023-09-01T14:19:30.808200Z",
     "start_time": "2023-09-01T14:19:30.768913Z"
    }
   },
   "outputs": [],
   "source": [
    "classifier = clf_rf"
   ]
  },
  {
   "cell_type": "code",
   "execution_count": 34,
   "id": "adb4d0d3",
   "metadata": {
    "ExecuteTime": {
     "end_time": "2023-09-01T14:19:33.343931Z",
     "start_time": "2023-09-01T14:19:33.288296Z"
    }
   },
   "outputs": [
    {
     "name": "stderr",
     "output_type": "stream",
     "text": [
      "/Users/sudhanshugupta/Library/Python/3.9/lib/python/site-packages/giskard/core/dataset_validation.py:13: UserWarning: You did not provide the optional argument 'target'. 'target' is the column name in df corresponding to the actual target variable (ground truth).\n",
      "  warning(\n"
     ]
    },
    {
     "name": "stdout",
     "output_type": "stream",
     "text": [
      "Your model is successfully validated.\n",
      "🔎 Running scan…\n",
      "2023-09-03 20:43:06,821 pid:62307 MainThread giskard.scanner.logger INFO     Running detectors: ['PerformanceBiasDetector', 'TextPerturbationDetector', 'EthicalBiasDetector', 'DataLeakageDetector', 'StochasticityDetector', 'OverconfidenceDetector', 'UnderconfidenceDetector', 'SpuriousCorrelationDetector']\n",
      "Running detector PerformanceBiasDetector…2023-09-03 20:43:06,822 pid:62307 MainThread giskard.scanner.logger INFO     PerformanceBiasDetector: Skipping detection because the dataset has no target column.\n",
      " 0 issues detected. (Took 0:00:00.000740)\n",
      "Running detector TextPerturbationDetector…2023-09-03 20:43:06,824 pid:62307 MainThread giskard.scanner.logger INFO     TextPerturbationDetector: Running with transformations=['Transform to uppercase', 'Transform to lowercase', 'Transform to title case', 'Add typos', 'Punctuation Removal'] threshold=None output_sensitivity=None num_samples=None\n",
      " 0 issues detected. (Took 0:00:00.000588)\n",
      "Running detector EthicalBiasDetector…2023-09-03 20:43:06,825 pid:62307 MainThread giskard.scanner.logger INFO     EthicalBiasDetector: Running with transformations=['Switch Gender', 'Switch Religion', 'Switch countries from high- to low-income and vice versa'] threshold=None output_sensitivity=None num_samples=None\n",
      " 0 issues detected. (Took 0:00:00.000943)\n",
      "Running detector DataLeakageDetector…2023-09-03 20:43:06,827 pid:62307 MainThread giskard.scanner.logger INFO     DataLeakageDetector: Running\n",
      " 0 issues detected. (Took 0:00:05.189337)\n",
      "Running detector StochasticityDetector…2023-09-03 20:43:12,017 pid:62307 MainThread giskard.scanner.logger INFO     StochasticityDetector: Running\n",
      " 0 issues detected. (Took 0:00:00.073376)\n",
      "Running detector OverconfidenceDetector…2023-09-03 20:43:12,091 pid:62307 MainThread giskard.scanner.logger INFO     OverconfidenceDetector: Skipping detection because the dataset has no target column.\n",
      " 0 issues detected. (Took 0:00:00.000622)\n",
      "Running detector UnderconfidenceDetector…2023-09-03 20:43:12,092 pid:62307 MainThread giskard.scanner.logger INFO     UnderconfidenceDetector: Running\n",
      "2023-09-03 20:43:12,093 pid:62307 MainThread giskard.scanner.logger INFO     UnderconfidenceDetector: Calculating loss\n",
      "2023-09-03 20:43:12,212 pid:62307 MainThread giskard.scanner.logger INFO     UnderconfidenceDetector: Loss calculated (took 0:00:00.119352)\n",
      "2023-09-03 20:43:12,213 pid:62307 MainThread giskard.scanner.logger INFO     UnderconfidenceDetector: Finding data slices\n",
      "2023-09-03 20:43:17,501 pid:62307 MainThread giskard.scanner.logger INFO     UnderconfidenceDetector: 102 slices found (took 0:00:05.287799)\n",
      "2023-09-03 20:43:17,502 pid:62307 MainThread giskard.scanner.logger INFO     UnderconfidenceDetector: Analyzing issues\n",
      "2023-09-03 20:43:17,559 pid:62307 MainThread giskard.scanner.logger INFO     UnderconfidenceDetector: Testing slice `n_hours_scheduled_before` < 102.500\tUnderconfidence rate (slice) = 0.012 (global 0.021) Δm = -0.444\n",
      "2023-09-03 20:43:17,588 pid:62307 MainThread giskard.scanner.logger INFO     UnderconfidenceDetector: Testing slice `n_hours_scheduled_before` >= 102.500\tUnderconfidence rate (slice) = 0.025 (global 0.021) Δm = 0.175\n",
      "2023-09-03 20:43:17,620 pid:62307 MainThread giskard.scanner.logger INFO     UnderconfidenceDetector: Testing slice `Age` < 0.607\tUnderconfidence rate (slice) = 0.024 (global 0.021) Δm = 0.168\n",
      "2023-09-03 20:43:17,647 pid:62307 MainThread giskard.scanner.logger INFO     UnderconfidenceDetector: Testing slice `Age` >= 0.607\tUnderconfidence rate (slice) = 0.007 (global 0.021) Δm = -0.645\n",
      "2023-09-03 20:43:17,679 pid:62307 MainThread giskard.scanner.logger INFO     UnderconfidenceDetector: Testing slice `Neighbourhood_BENTO FERREIRA` == 0\tUnderconfidence rate (slice) = 0.021 (global 0.021) Δm = -0.005\n",
      "2023-09-03 20:43:17,709 pid:62307 MainThread giskard.scanner.logger INFO     UnderconfidenceDetector: Testing slice `Hypertension` == 0\tUnderconfidence rate (slice) = 0.023 (global 0.021) Δm = 0.103\n",
      "2023-09-03 20:43:17,735 pid:62307 MainThread giskard.scanner.logger INFO     UnderconfidenceDetector: Testing slice `Hypertension` == 1\tUnderconfidence rate (slice) = 0.013 (global 0.021) Δm = -0.392\n",
      "2023-09-03 20:43:17,767 pid:62307 MainThread giskard.scanner.logger INFO     UnderconfidenceDetector: Testing slice `Neighbourhood_JESUS DE NAZARETH` == 0\tUnderconfidence rate (slice) = 0.020 (global 0.021) Δm = -0.020\n",
      "2023-09-03 20:43:17,799 pid:62307 MainThread giskard.scanner.logger INFO     UnderconfidenceDetector: Testing slice `Neighbourhood_SANTA TEREZA` == 0\tUnderconfidence rate (slice) = 0.021 (global 0.021) Δm = 0.007\n",
      "2023-09-03 20:43:17,835 pid:62307 MainThread giskard.scanner.logger INFO     UnderconfidenceDetector: Testing slice `Neighbourhood_JARDIM CAMBURI` == 0\tUnderconfidence rate (slice) = 0.021 (global 0.021) Δm = 0.005\n",
      "2023-09-03 20:43:17,863 pid:62307 MainThread giskard.scanner.logger INFO     UnderconfidenceDetector: Testing slice `Neighbourhood_JARDIM CAMBURI` == 1\tUnderconfidence rate (slice) = 0.020 (global 0.021) Δm = -0.058\n",
      "2023-09-03 20:43:17,898 pid:62307 MainThread giskard.scanner.logger INFO     UnderconfidenceDetector: Testing slice `Neighbourhood_SANTA CECÍLIA` == 0\tUnderconfidence rate (slice) = 0.021 (global 0.021) Δm = 0.002\n",
      "2023-09-03 20:43:17,928 pid:62307 MainThread giskard.scanner.logger INFO     UnderconfidenceDetector: Testing slice `Neighbourhood_JUCUTUQUARA` == 0\tUnderconfidence rate (slice) = 0.021 (global 0.021) Δm = 0.003\n",
      "2023-09-03 20:43:17,965 pid:62307 MainThread giskard.scanner.logger INFO     UnderconfidenceDetector: Testing slice `Neighbourhood_BARRO VERMELHO` == 0\tUnderconfidence rate (slice) = 0.021 (global 0.021) Δm = 0.004\n",
      "2023-09-03 20:43:17,997 pid:62307 MainThread giskard.scanner.logger INFO     UnderconfidenceDetector: Testing slice `Neighbourhood_COMDUSA` == 0\tUnderconfidence rate (slice) = 0.021 (global 0.021) Δm = -0.000\n",
      "2023-09-03 20:43:18,027 pid:62307 MainThread giskard.scanner.logger INFO     UnderconfidenceDetector: Testing slice `Neighbourhood_JARDIM DA PENHA` == 0\tUnderconfidence rate (slice) = 0.021 (global 0.021) Δm = 0.013\n",
      "2023-09-03 20:43:18,059 pid:62307 MainThread giskard.scanner.logger INFO     UnderconfidenceDetector: Testing slice `Neighbourhood_SANTO ANTÔNIO` == 0\tUnderconfidence rate (slice) = 0.021 (global 0.021) Δm = 0.016\n",
      "2023-09-03 20:43:18,088 pid:62307 MainThread giskard.scanner.logger INFO     UnderconfidenceDetector: Testing slice `Neighbourhood_SÃO CRISTÓVÃO` == 0\tUnderconfidence rate (slice) = 0.021 (global 0.021) Δm = 0.003\n",
      "2023-09-03 20:43:18,122 pid:62307 MainThread giskard.scanner.logger INFO     UnderconfidenceDetector: Testing slice `Diabetes` == 0\tUnderconfidence rate (slice) = 0.022 (global 0.021) Δm = 0.036\n",
      "2023-09-03 20:43:18,178 pid:62307 MainThread giskard.scanner.logger INFO     UnderconfidenceDetector: Testing slice `Neighbourhood_MATA DA PRAIA` == 0\tUnderconfidence rate (slice) = 0.021 (global 0.021) Δm = 0.006\n",
      "2023-09-03 20:43:18,205 pid:62307 MainThread giskard.scanner.logger INFO     UnderconfidenceDetector: Testing slice `SMS_received` == 0\tUnderconfidence rate (slice) = 0.022 (global 0.021) Δm = 0.037\n",
      "2023-09-03 20:43:18,231 pid:62307 MainThread giskard.scanner.logger INFO     UnderconfidenceDetector: Testing slice `SMS_received` == 1\tUnderconfidence rate (slice) = 0.020 (global 0.021) Δm = -0.038\n",
      "2023-09-03 20:43:18,265 pid:62307 MainThread giskard.scanner.logger INFO     UnderconfidenceDetector: Testing slice `Neighbourhood_CONQUISTA` == 0\tUnderconfidence rate (slice) = 0.021 (global 0.021) Δm = 0.004\n",
      "2023-09-03 20:43:18,295 pid:62307 MainThread giskard.scanner.logger INFO     UnderconfidenceDetector: Testing slice `Neighbourhood_MARUÍPE` == 0\tUnderconfidence rate (slice) = 0.021 (global 0.021) Δm = -0.016\n",
      "2023-09-03 20:43:18,322 pid:62307 MainThread giskard.scanner.logger INFO     UnderconfidenceDetector: Testing slice `Gender_F` == 1\tUnderconfidence rate (slice) = 0.021 (global 0.021) Δm = 0.027\n",
      "2023-09-03 20:43:18,349 pid:62307 MainThread giskard.scanner.logger INFO     UnderconfidenceDetector: Testing slice `Gender_F` == 0\tUnderconfidence rate (slice) = 0.020 (global 0.021) Δm = -0.054\n",
      "2023-09-03 20:43:18,379 pid:62307 MainThread giskard.scanner.logger INFO     UnderconfidenceDetector: Testing slice `Neighbourhood_ESTRELINHA` == 0\tUnderconfidence rate (slice) = 0.021 (global 0.021) Δm = 0.005\n",
      "2023-09-03 20:43:18,410 pid:62307 MainThread giskard.scanner.logger INFO     UnderconfidenceDetector: Testing slice `Neighbourhood_JOANA D´ARC` == 0\tUnderconfidence rate (slice) = 0.021 (global 0.021) Δm = 0.002\n",
      "2023-09-03 20:43:18,441 pid:62307 MainThread giskard.scanner.logger INFO     UnderconfidenceDetector: Testing slice `Neighbourhood_ROMÃO` == 0\tUnderconfidence rate (slice) = 0.021 (global 0.021) Δm = 0.011\n",
      "2023-09-03 20:43:18,476 pid:62307 MainThread giskard.scanner.logger INFO     UnderconfidenceDetector: Testing slice `Alcoholism` == 0\tUnderconfidence rate (slice) = 0.021 (global 0.021) Δm = -0.008\n",
      "2023-09-03 20:43:18,510 pid:62307 MainThread giskard.scanner.logger INFO     UnderconfidenceDetector: Testing slice `Neighbourhood_ILHA DAS CAIEIRAS` == 0\tUnderconfidence rate (slice) = 0.021 (global 0.021) Δm = -0.007\n",
      "2023-09-03 20:43:18,540 pid:62307 MainThread giskard.scanner.logger INFO     UnderconfidenceDetector: Testing slice `Neighbourhood_GURIGICA` == 0\tUnderconfidence rate (slice) = 0.021 (global 0.021) Δm = -0.009\n",
      "2023-09-03 20:43:18,572 pid:62307 MainThread giskard.scanner.logger INFO     UnderconfidenceDetector: Testing slice `Neighbourhood_ANTÔNIO HONÓRIO` == 0\tUnderconfidence rate (slice) = 0.021 (global 0.021) Δm = -0.004\n",
      "2023-09-03 20:43:18,603 pid:62307 MainThread giskard.scanner.logger INFO     UnderconfidenceDetector: Testing slice `Neighbourhood_BONFIM` == 0\tUnderconfidence rate (slice) = 0.021 (global 0.021) Δm = -0.018\n",
      "2023-09-03 20:43:18,641 pid:62307 MainThread giskard.scanner.logger INFO     UnderconfidenceDetector: Testing slice `Neighbourhood_DA PENHA` == 0\tUnderconfidence rate (slice) = 0.021 (global 0.021) Δm = 0.002\n",
      "2023-09-03 20:43:18,674 pid:62307 MainThread giskard.scanner.logger INFO     UnderconfidenceDetector: Testing slice `Neighbourhood_SANTA LÚCIA` == 0\tUnderconfidence rate (slice) = 0.021 (global 0.021) Δm = 0.005\n",
      "2023-09-03 20:43:18,705 pid:62307 MainThread giskard.scanner.logger INFO     UnderconfidenceDetector: Testing slice `Neighbourhood_ILHA DO PRÍNCIPE` == 0\tUnderconfidence rate (slice) = 0.021 (global 0.021) Δm = 0.006\n",
      "2023-09-03 20:43:18,737 pid:62307 MainThread giskard.scanner.logger INFO     UnderconfidenceDetector: Testing slice `Neighbourhood_PIEDADE` == 0\tUnderconfidence rate (slice) = 0.021 (global 0.021) Δm = -0.007\n",
      "2023-09-03 20:43:18,769 pid:62307 MainThread giskard.scanner.logger INFO     UnderconfidenceDetector: Testing slice `Neighbourhood_SANTA LUÍZA` == 0\tUnderconfidence rate (slice) = 0.021 (global 0.021) Δm = 0.001\n",
      "2023-09-03 20:43:18,801 pid:62307 MainThread giskard.scanner.logger INFO     UnderconfidenceDetector: Testing slice `Neighbourhood_GOIABEIRAS` == 0\tUnderconfidence rate (slice) = 0.021 (global 0.021) Δm = 0.003\n",
      "2023-09-03 20:43:18,836 pid:62307 MainThread giskard.scanner.logger INFO     UnderconfidenceDetector: Testing slice `Neighbourhood_INHANGUETÁ` == 0\tUnderconfidence rate (slice) = 0.021 (global 0.021) Δm = 0.001\n",
      "2023-09-03 20:43:18,869 pid:62307 MainThread giskard.scanner.logger INFO     UnderconfidenceDetector: Testing slice `Neighbourhood_DO CABRAL` == 0\tUnderconfidence rate (slice) = 0.021 (global 0.021) Δm = 0.004\n",
      "2023-09-03 20:43:18,920 pid:62307 MainThread giskard.scanner.logger INFO     UnderconfidenceDetector: Testing slice `Neighbourhood_BELA VISTA` == 0\tUnderconfidence rate (slice) = 0.021 (global 0.021) Δm = -0.009\n",
      "2023-09-03 20:43:18,956 pid:62307 MainThread giskard.scanner.logger INFO     UnderconfidenceDetector: Testing slice `Neighbourhood_TABUAZEIRO` == 0\tUnderconfidence rate (slice) = 0.021 (global 0.021) Δm = 0.002\n",
      "2023-09-03 20:43:18,994 pid:62307 MainThread giskard.scanner.logger INFO     UnderconfidenceDetector: Testing slice `day_of_week_Wednesday` == 0\tUnderconfidence rate (slice) = 0.020 (global 0.021) Δm = -0.023\n",
      "2023-09-03 20:43:19,023 pid:62307 MainThread giskard.scanner.logger INFO     UnderconfidenceDetector: Testing slice `day_of_week_Wednesday` == 1\tUnderconfidence rate (slice) = 0.022 (global 0.021) Δm = 0.075\n",
      "2023-09-03 20:43:19,059 pid:62307 MainThread giskard.scanner.logger INFO     UnderconfidenceDetector: Testing slice `Neighbourhood_MONTE BELO` == 0\tUnderconfidence rate (slice) = 0.021 (global 0.021) Δm = 0.009\n",
      "2023-09-03 20:43:19,092 pid:62307 MainThread giskard.scanner.logger INFO     UnderconfidenceDetector: Testing slice `day_of_week_Tuesday` == 0\tUnderconfidence rate (slice) = 0.021 (global 0.021) Δm = -0.016\n",
      "2023-09-03 20:43:19,124 pid:62307 MainThread giskard.scanner.logger INFO     UnderconfidenceDetector: Testing slice `day_of_week_Tuesday` == 1\tUnderconfidence rate (slice) = 0.022 (global 0.021) Δm = 0.053\n",
      "2023-09-03 20:43:19,161 pid:62307 MainThread giskard.scanner.logger INFO     UnderconfidenceDetector: Testing slice `Neighbourhood_SÃO BENEDITO` == 0\tUnderconfidence rate (slice) = 0.021 (global 0.021) Δm = 0.001\n",
      "2023-09-03 20:43:19,197 pid:62307 MainThread giskard.scanner.logger INFO     UnderconfidenceDetector: Testing slice `Neighbourhood_NOVA PALESTINA` == 0\tUnderconfidence rate (slice) = 0.021 (global 0.021) Δm = 0.003\n",
      "2023-09-03 20:43:19,237 pid:62307 MainThread giskard.scanner.logger INFO     UnderconfidenceDetector: Testing slice `Neighbourhood_DO MOSCOSO` == 0\tUnderconfidence rate (slice) = 0.021 (global 0.021) Δm = 0.002\n",
      "2023-09-03 20:43:19,277 pid:62307 MainThread giskard.scanner.logger INFO     UnderconfidenceDetector: Testing slice `Neighbourhood_SANTA MARTHA` == 0\tUnderconfidence rate (slice) = 0.021 (global 0.021) Δm = 0.003\n",
      "2023-09-03 20:43:19,316 pid:62307 MainThread giskard.scanner.logger INFO     UnderconfidenceDetector: Testing slice `Neighbourhood_CARATOÍRA` == 0\tUnderconfidence rate (slice) = 0.020 (global 0.021) Δm = -0.022\n",
      "2023-09-03 20:43:19,364 pid:62307 MainThread giskard.scanner.logger INFO     UnderconfidenceDetector: Testing slice `Neighbourhood_FONTE GRANDE` == 0\tUnderconfidence rate (slice) = 0.021 (global 0.021) Δm = 0.001\n",
      "2023-09-03 20:43:19,404 pid:62307 MainThread giskard.scanner.logger INFO     UnderconfidenceDetector: Testing slice `Gender_M` == 0\tUnderconfidence rate (slice) = 0.021 (global 0.021) Δm = 0.027\n",
      "2023-09-03 20:43:19,440 pid:62307 MainThread giskard.scanner.logger INFO     UnderconfidenceDetector: Testing slice `Gender_M` == 1\tUnderconfidence rate (slice) = 0.020 (global 0.021) Δm = -0.054\n",
      "2023-09-03 20:43:19,481 pid:62307 MainThread giskard.scanner.logger INFO     UnderconfidenceDetector: Testing slice `Neighbourhood_CONSOLAÇÃO` == 0\tUnderconfidence rate (slice) = 0.021 (global 0.021) Δm = -0.018\n",
      "2023-09-03 20:43:19,520 pid:62307 MainThread giskard.scanner.logger INFO     UnderconfidenceDetector: Testing slice `Neighbourhood_SANTA CLARA` == 0\tUnderconfidence rate (slice) = 0.021 (global 0.021) Δm = -0.001\n",
      "2023-09-03 20:43:19,954 pid:62307 MainThread giskard.scanner.logger INFO     UnderconfidenceDetector: Testing slice `Handicap` == 0\tUnderconfidence rate (slice) = 0.021 (global 0.021) Δm = 0.013\n",
      "2023-09-03 20:43:19,988 pid:62307 MainThread giskard.scanner.logger INFO     UnderconfidenceDetector: Testing slice `Neighbourhood_ARIOVALDO FAVALESSA` == 0\tUnderconfidence rate (slice) = 0.021 (global 0.021) Δm = 0.002\n",
      "2023-09-03 20:43:20,021 pid:62307 MainThread giskard.scanner.logger INFO     UnderconfidenceDetector: Testing slice `Neighbourhood_GRANDE VITÓRIA` == 0\tUnderconfidence rate (slice) = 0.021 (global 0.021) Δm = 0.001\n",
      "2023-09-03 20:43:20,056 pid:62307 MainThread giskard.scanner.logger INFO     UnderconfidenceDetector: Testing slice `Neighbourhood_VILA RUBIM` == 0\tUnderconfidence rate (slice) = 0.021 (global 0.021) Δm = 0.009\n",
      "2023-09-03 20:43:20,088 pid:62307 MainThread giskard.scanner.logger INFO     UnderconfidenceDetector: Testing slice `Neighbourhood_MARIA ORTIZ` == 0\tUnderconfidence rate (slice) = 0.021 (global 0.021) Δm = 0.011\n",
      "2023-09-03 20:43:20,150 pid:62307 MainThread giskard.scanner.logger INFO     UnderconfidenceDetector: Testing slice `Neighbourhood_SÃO PEDRO` == 0\tUnderconfidence rate (slice) = 0.021 (global 0.021) Δm = -0.003\n",
      "2023-09-03 20:43:20,185 pid:62307 MainThread giskard.scanner.logger INFO     UnderconfidenceDetector: Testing slice `Neighbourhood_REDENÇÃO` == 0\tUnderconfidence rate (slice) = 0.021 (global 0.021) Δm = 0.002\n",
      "2023-09-03 20:43:20,222 pid:62307 MainThread giskard.scanner.logger INFO     UnderconfidenceDetector: Testing slice `Neighbourhood_DE LOURDES` == 0\tUnderconfidence rate (slice) = 0.021 (global 0.021) Δm = 0.004\n",
      "2023-09-03 20:43:20,260 pid:62307 MainThread giskard.scanner.logger INFO     UnderconfidenceDetector: Testing slice `Neighbourhood_MÁRIO CYPRESTE` == 0\tUnderconfidence rate (slice) = 0.021 (global 0.021) Δm = 0.003\n",
      "2023-09-03 20:43:20,297 pid:62307 MainThread giskard.scanner.logger INFO     UnderconfidenceDetector: Testing slice `Scholarship` == 0\tUnderconfidence rate (slice) = 0.020 (global 0.021) Δm = -0.049\n",
      "2023-09-03 20:43:20,325 pid:62307 MainThread giskard.scanner.logger INFO     UnderconfidenceDetector: Testing slice `Scholarship` == 1\tUnderconfidence rate (slice) = 0.031 (global 0.021) Δm = 0.486\n",
      "2023-09-03 20:43:20,363 pid:62307 MainThread giskard.scanner.logger INFO     UnderconfidenceDetector: Testing slice `Neighbourhood_ITARARÉ` == 0\tUnderconfidence rate (slice) = 0.021 (global 0.021) Δm = 0.012\n",
      "2023-09-03 20:43:20,400 pid:62307 MainThread giskard.scanner.logger INFO     UnderconfidenceDetector: Testing slice `Neighbourhood_INFREQUENT` == 0\tUnderconfidence rate (slice) = 0.021 (global 0.021) Δm = -0.009\n",
      "2023-09-03 20:43:20,431 pid:62307 MainThread giskard.scanner.logger INFO     UnderconfidenceDetector: Testing slice `day_of_week_Monday` == 1\tUnderconfidence rate (slice) = 0.025 (global 0.021) Δm = 0.211\n",
      "2023-09-03 20:43:20,471 pid:62307 MainThread giskard.scanner.logger INFO     UnderconfidenceDetector: Testing slice `day_of_week_Monday` == 0\tUnderconfidence rate (slice) = 0.020 (global 0.021) Δm = -0.053\n",
      "2023-09-03 20:43:20,527 pid:62307 MainThread giskard.scanner.logger INFO     UnderconfidenceDetector: Testing slice `Neighbourhood_PRAIA DO SUÁ` == 0\tUnderconfidence rate (slice) = 0.021 (global 0.021) Δm = 0.007\n",
      "2023-09-03 20:43:20,586 pid:62307 MainThread giskard.scanner.logger INFO     UnderconfidenceDetector: Testing slice `Neighbourhood_SÃO JOSÉ` == 0\tUnderconfidence rate (slice) = 0.021 (global 0.021) Δm = 0.003\n",
      "2023-09-03 20:43:20,645 pid:62307 MainThread giskard.scanner.logger INFO     UnderconfidenceDetector: Testing slice `Neighbourhood_PARQUE MOSCOSO` == 0\tUnderconfidence rate (slice) = 0.021 (global 0.021) Δm = 0.002\n",
      "2023-09-03 20:43:20,697 pid:62307 MainThread giskard.scanner.logger INFO     UnderconfidenceDetector: Testing slice `Neighbourhood_REPÚBLICA` == 0\tUnderconfidence rate (slice) = 0.021 (global 0.021) Δm = -0.005\n",
      "2023-09-03 20:43:20,740 pid:62307 MainThread giskard.scanner.logger INFO     UnderconfidenceDetector: Testing slice `Neighbourhood_RESISTÊNCIA` == 0\tUnderconfidence rate (slice) = 0.021 (global 0.021) Δm = -0.003\n",
      "2023-09-03 20:43:20,777 pid:62307 MainThread giskard.scanner.logger INFO     UnderconfidenceDetector: Testing slice `Neighbourhood_SANTOS REIS` == 0\tUnderconfidence rate (slice) = 0.021 (global 0.021) Δm = -0.002\n",
      "2023-09-03 20:43:20,813 pid:62307 MainThread giskard.scanner.logger INFO     UnderconfidenceDetector: Testing slice `Neighbourhood_CRUZAMENTO` == 0\tUnderconfidence rate (slice) = 0.021 (global 0.021) Δm = 0.002\n",
      "2023-09-03 20:43:20,846 pid:62307 MainThread giskard.scanner.logger INFO     UnderconfidenceDetector: Testing slice `Neighbourhood_CENTRO` == 0\tUnderconfidence rate (slice) = 0.021 (global 0.021) Δm = 0.005\n",
      "2023-09-03 20:43:20,880 pid:62307 MainThread giskard.scanner.logger INFO     UnderconfidenceDetector: Testing slice `Neighbourhood_ANDORINHAS` == 0\tUnderconfidence rate (slice) = 0.021 (global 0.021) Δm = 0.000\n",
      "2023-09-03 20:43:20,912 pid:62307 MainThread giskard.scanner.logger INFO     UnderconfidenceDetector: Testing slice `Neighbourhood_DO QUADRO` == 0\tUnderconfidence rate (slice) = 0.021 (global 0.021) Δm = 0.005\n",
      "2023-09-03 20:43:20,943 pid:62307 MainThread giskard.scanner.logger INFO     UnderconfidenceDetector: Testing slice `Neighbourhood_SANTA HELENA` == 0\tUnderconfidence rate (slice) = 0.021 (global 0.021) Δm = 0.002\n",
      "2023-09-03 20:43:20,975 pid:62307 MainThread giskard.scanner.logger INFO     UnderconfidenceDetector: Testing slice `Neighbourhood_SANTOS DUMONT` == 0\tUnderconfidence rate (slice) = 0.020 (global 0.021) Δm = -0.022\n",
      "2023-09-03 20:43:21,006 pid:62307 MainThread giskard.scanner.logger INFO     UnderconfidenceDetector: Testing slice `Neighbourhood_PRAIA DO CANTO` == 0\tUnderconfidence rate (slice) = 0.021 (global 0.021) Δm = -0.000\n",
      "2023-09-03 20:43:21,037 pid:62307 MainThread giskard.scanner.logger INFO     UnderconfidenceDetector: Testing slice `Neighbourhood_SOLON BORGES` == 0\tUnderconfidence rate (slice) = 0.021 (global 0.021) Δm = 0.002\n",
      "2023-09-03 20:43:21,070 pid:62307 MainThread giskard.scanner.logger INFO     UnderconfidenceDetector: Testing slice `day_of_week_INFREQUENT` == 0\tUnderconfidence rate (slice) = 0.021 (global 0.021) Δm = -0.003\n",
      "2023-09-03 20:43:21,101 pid:62307 MainThread giskard.scanner.logger INFO     UnderconfidenceDetector: Testing slice `Neighbourhood_ENSEADA DO SUÁ` == 0\tUnderconfidence rate (slice) = 0.021 (global 0.021) Δm = 0.002\n",
      "2023-09-03 20:43:21,133 pid:62307 MainThread giskard.scanner.logger INFO     UnderconfidenceDetector: Testing slice `day_of_week_Friday` == 0\tUnderconfidence rate (slice) = 0.022 (global 0.021) Δm = 0.032\n",
      "2023-09-03 20:43:21,157 pid:62307 MainThread giskard.scanner.logger INFO     UnderconfidenceDetector: Testing slice `day_of_week_Friday` == 1\tUnderconfidence rate (slice) = 0.018 (global 0.021) Δm = -0.151\n",
      "2023-09-03 20:43:21,188 pid:62307 MainThread giskard.scanner.logger INFO     UnderconfidenceDetector: Testing slice `Neighbourhood_JABOUR` == 0\tUnderconfidence rate (slice) = 0.021 (global 0.021) Δm = -0.004\n",
      "2023-09-03 20:43:21,221 pid:62307 MainThread giskard.scanner.logger INFO     UnderconfidenceDetector: Testing slice `Neighbourhood_SANTO ANDRÉ` == 0\tUnderconfidence rate (slice) = 0.021 (global 0.021) Δm = -0.014\n",
      "2023-09-03 20:43:21,253 pid:62307 MainThread giskard.scanner.logger INFO     UnderconfidenceDetector: Testing slice `Neighbourhood_FRADINHOS` == 0\tUnderconfidence rate (slice) = 0.021 (global 0.021) Δm = -0.000\n",
      "2023-09-03 20:43:21,290 pid:62307 MainThread giskard.scanner.logger INFO     UnderconfidenceDetector: Testing slice `Neighbourhood_FORTE SÃO JOÃO` == 0\tUnderconfidence rate (slice) = 0.021 (global 0.021) Δm = -0.009\n",
      "2023-09-03 20:43:21,319 pid:62307 MainThread giskard.scanner.logger INFO     UnderconfidenceDetector: Testing slice `day_of_week_Thursday` == 0\tUnderconfidence rate (slice) = 0.022 (global 0.021) Δm = 0.057\n",
      "2023-09-03 20:43:21,349 pid:62307 MainThread giskard.scanner.logger INFO     UnderconfidenceDetector: Testing slice `day_of_week_Thursday` == 1\tUnderconfidence rate (slice) = 0.015 (global 0.021) Δm = -0.305\n",
      "2023-09-03 20:43:21,380 pid:62307 MainThread giskard.scanner.logger INFO     UnderconfidenceDetector: Testing slice `Neighbourhood_ILHA DE SANTA MARIA` == 0\tUnderconfidence rate (slice) = 0.021 (global 0.021) Δm = 0.001\n",
      "2023-09-03 20:43:21,410 pid:62307 MainThread giskard.scanner.logger INFO     UnderconfidenceDetector: Testing slice `Neighbourhood_BOA VISTA` == 0\tUnderconfidence rate (slice) = 0.021 (global 0.021) Δm = 0.003\n",
      "2023-09-03 20:43:21,411 pid:62307 MainThread giskard.scanner.logger INFO     UnderconfidenceDetector: 5 issues found (took 0:00:03.909163)\n",
      " 5 issues detected. (Took 0:00:09.319667)\n",
      "Running detector SpuriousCorrelationDetector…2023-09-03 20:43:21,412 pid:62307 MainThread giskard.scanner.logger INFO     SpuriousCorrelationDetector: Running\n",
      "2023-09-03 20:43:22,139 pid:62307 MainThread giskard.scanner.logger INFO     SpuriousCorrelationDetector: `n_hours_scheduled_before` < 206.500\tAssociation = 0.037\n",
      "2023-09-03 20:43:22,176 pid:62307 MainThread giskard.scanner.logger INFO     SpuriousCorrelationDetector: `n_hours_scheduled_before` >= 206.500\tAssociation = 0.037\n",
      "2023-09-03 20:43:22,207 pid:62307 MainThread giskard.scanner.logger INFO     SpuriousCorrelationDetector: `Age` < 0.413\tAssociation = 0.049\n",
      "2023-09-03 20:43:22,237 pid:62307 MainThread giskard.scanner.logger INFO     SpuriousCorrelationDetector: `Age` >= 0.413\tAssociation = 0.049\n",
      "2023-09-03 20:43:22,274 pid:62307 MainThread giskard.scanner.logger INFO     SpuriousCorrelationDetector: `Neighbourhood_BENTO FERREIRA` == 0\tAssociation = 0.000\n",
      "2023-09-03 20:43:22,347 pid:62307 MainThread giskard.scanner.logger INFO     SpuriousCorrelationDetector: `Hypertension` == 0\tAssociation = 0.019\n",
      "2023-09-03 20:43:22,390 pid:62307 MainThread giskard.scanner.logger INFO     SpuriousCorrelationDetector: `Hypertension` == 1\tAssociation = 0.019\n",
      "2023-09-03 20:43:22,429 pid:62307 MainThread giskard.scanner.logger INFO     SpuriousCorrelationDetector: `Neighbourhood_JESUS DE NAZARETH` == 0\tAssociation = 0.004\n",
      "2023-09-03 20:43:22,485 pid:62307 MainThread giskard.scanner.logger INFO     SpuriousCorrelationDetector: `Neighbourhood_SANTA TEREZA` == 0\tAssociation = 0.001\n",
      "2023-09-03 20:43:22,544 pid:62307 MainThread giskard.scanner.logger INFO     SpuriousCorrelationDetector: `Neighbourhood_JARDIM CAMBURI` == 0\tAssociation = 0.000\n",
      "2023-09-03 20:43:22,569 pid:62307 MainThread giskard.scanner.logger INFO     SpuriousCorrelationDetector: `Neighbourhood_JARDIM CAMBURI` == 1\tAssociation = 0.000\n",
      "2023-09-03 20:43:22,606 pid:62307 MainThread giskard.scanner.logger INFO     SpuriousCorrelationDetector: `Neighbourhood_SANTA CECÍLIA` == 0\tAssociation = 0.000\n",
      "2023-09-03 20:43:22,663 pid:62307 MainThread giskard.scanner.logger INFO     SpuriousCorrelationDetector: `Neighbourhood_JUCUTUQUARA` == 0\tAssociation = 0.000\n",
      "2023-09-03 20:43:22,720 pid:62307 MainThread giskard.scanner.logger INFO     SpuriousCorrelationDetector: `Neighbourhood_BARRO VERMELHO` == 0\tAssociation = 0.001\n",
      "2023-09-03 20:43:22,776 pid:62307 MainThread giskard.scanner.logger INFO     SpuriousCorrelationDetector: `Neighbourhood_COMDUSA` == 0\tAssociation = 0.000\n",
      "2023-09-03 20:43:22,834 pid:62307 MainThread giskard.scanner.logger INFO     SpuriousCorrelationDetector: `Neighbourhood_JARDIM DA PENHA` == 0\tAssociation = 0.001\n",
      "2023-09-03 20:43:22,896 pid:62307 MainThread giskard.scanner.logger INFO     SpuriousCorrelationDetector: `Neighbourhood_SANTO ANTÔNIO` == 0\tAssociation = 0.000\n",
      "2023-09-03 20:43:22,961 pid:62307 MainThread giskard.scanner.logger INFO     SpuriousCorrelationDetector: `Neighbourhood_SÃO CRISTÓVÃO` == 0\tAssociation = 0.001\n",
      "2023-09-03 20:43:23,021 pid:62307 MainThread giskard.scanner.logger INFO     SpuriousCorrelationDetector: `Diabetes` == 0\tAssociation = 0.006\n",
      "2023-09-03 20:43:23,054 pid:62307 MainThread giskard.scanner.logger INFO     SpuriousCorrelationDetector: `Diabetes` == 1\tAssociation = 0.006\n",
      "2023-09-03 20:43:23,095 pid:62307 MainThread giskard.scanner.logger INFO     SpuriousCorrelationDetector: `Neighbourhood_MATA DA PRAIA` == 0\tAssociation = 0.000\n",
      "2023-09-03 20:43:23,149 pid:62307 MainThread giskard.scanner.logger INFO     SpuriousCorrelationDetector: `SMS_received` == 0\tAssociation = 0.002\n",
      "2023-09-03 20:43:23,179 pid:62307 MainThread giskard.scanner.logger INFO     SpuriousCorrelationDetector: `SMS_received` == 1\tAssociation = 0.002\n",
      "2023-09-03 20:43:23,213 pid:62307 MainThread giskard.scanner.logger INFO     SpuriousCorrelationDetector: `Neighbourhood_CONQUISTA` == 0\tAssociation = 0.000\n",
      "2023-09-03 20:43:23,272 pid:62307 MainThread giskard.scanner.logger INFO     SpuriousCorrelationDetector: `Neighbourhood_MARUÍPE` == 0\tAssociation = 0.000\n",
      "2023-09-03 20:43:23,327 pid:62307 MainThread giskard.scanner.logger INFO     SpuriousCorrelationDetector: `Gender_F` == 1\tAssociation = 0.000\n",
      "2023-09-03 20:43:23,364 pid:62307 MainThread giskard.scanner.logger INFO     SpuriousCorrelationDetector: `Gender_F` == 0\tAssociation = 0.000\n",
      "2023-09-03 20:43:23,400 pid:62307 MainThread giskard.scanner.logger INFO     SpuriousCorrelationDetector: `Neighbourhood_ESTRELINHA` == 0\tAssociation = 0.002\n",
      "2023-09-03 20:43:23,457 pid:62307 MainThread giskard.scanner.logger INFO     SpuriousCorrelationDetector: `Neighbourhood_JOANA D´ARC` == 0\tAssociation = 0.000\n",
      "2023-09-03 20:43:23,536 pid:62307 MainThread giskard.scanner.logger INFO     SpuriousCorrelationDetector: `Neighbourhood_ROMÃO` == 0\tAssociation = 0.000\n",
      "2023-09-03 20:43:23,570 pid:62307 MainThread giskard.scanner.logger INFO     SpuriousCorrelationDetector: `Alcoholism` == 0\tAssociation = 0.000\n",
      "2023-09-03 20:43:23,634 pid:62307 MainThread giskard.scanner.logger INFO     SpuriousCorrelationDetector: `Neighbourhood_ILHA DAS CAIEIRAS` == 0\tAssociation = 0.001\n",
      "2023-09-03 20:43:23,693 pid:62307 MainThread giskard.scanner.logger INFO     SpuriousCorrelationDetector: `Neighbourhood_GURIGICA` == 0\tAssociation = 0.000\n",
      "2023-09-03 20:43:23,750 pid:62307 MainThread giskard.scanner.logger INFO     SpuriousCorrelationDetector: `Neighbourhood_ANTÔNIO HONÓRIO` == 0\tAssociation = 0.000\n",
      "2023-09-03 20:43:23,817 pid:62307 MainThread giskard.scanner.logger INFO     SpuriousCorrelationDetector: `Neighbourhood_BONFIM` == 0\tAssociation = 0.000\n",
      "2023-09-03 20:43:23,875 pid:62307 MainThread giskard.scanner.logger INFO     SpuriousCorrelationDetector: `Neighbourhood_DA PENHA` == 0\tAssociation = 0.000\n",
      "2023-09-03 20:43:23,931 pid:62307 MainThread giskard.scanner.logger INFO     SpuriousCorrelationDetector: `Neighbourhood_SANTA LÚCIA` == 0\tAssociation = 0.000\n",
      "2023-09-03 20:43:24,001 pid:62307 MainThread giskard.scanner.logger INFO     SpuriousCorrelationDetector: `Neighbourhood_ILHA DO PRÍNCIPE` == 0\tAssociation = 0.000\n",
      "2023-09-03 20:43:24,063 pid:62307 MainThread giskard.scanner.logger INFO     SpuriousCorrelationDetector: `Neighbourhood_PIEDADE` == 0\tAssociation = 0.000\n",
      "2023-09-03 20:43:24,125 pid:62307 MainThread giskard.scanner.logger INFO     SpuriousCorrelationDetector: `Neighbourhood_SANTA LUÍZA` == 0\tAssociation = 0.001\n",
      "2023-09-03 20:43:24,180 pid:62307 MainThread giskard.scanner.logger INFO     SpuriousCorrelationDetector: `Neighbourhood_GOIABEIRAS` == 0\tAssociation = 0.000\n",
      "2023-09-03 20:43:24,235 pid:62307 MainThread giskard.scanner.logger INFO     SpuriousCorrelationDetector: `Neighbourhood_INHANGUETÁ` == 0\tAssociation = 0.000\n",
      "2023-09-03 20:43:24,292 pid:62307 MainThread giskard.scanner.logger INFO     SpuriousCorrelationDetector: `Neighbourhood_DO CABRAL` == 0\tAssociation = 0.000\n",
      "2023-09-03 20:43:24,358 pid:62307 MainThread giskard.scanner.logger INFO     SpuriousCorrelationDetector: `Neighbourhood_BELA VISTA` == 0\tAssociation = 0.000\n",
      "2023-09-03 20:43:24,420 pid:62307 MainThread giskard.scanner.logger INFO     SpuriousCorrelationDetector: `Neighbourhood_TABUAZEIRO` == 0\tAssociation = 0.000\n",
      "2023-09-03 20:43:24,478 pid:62307 MainThread giskard.scanner.logger INFO     SpuriousCorrelationDetector: `day_of_week_Wednesday` == 0\tAssociation = 0.004\n",
      "2023-09-03 20:43:24,505 pid:62307 MainThread giskard.scanner.logger INFO     SpuriousCorrelationDetector: `day_of_week_Wednesday` == 1\tAssociation = 0.004\n",
      "2023-09-03 20:43:24,547 pid:62307 MainThread giskard.scanner.logger INFO     SpuriousCorrelationDetector: `Neighbourhood_MONTE BELO` == 0\tAssociation = 0.000\n",
      "2023-09-03 20:43:24,608 pid:62307 MainThread giskard.scanner.logger INFO     SpuriousCorrelationDetector: `day_of_week_Tuesday` == 0\tAssociation = 0.000\n",
      "2023-09-03 20:43:24,639 pid:62307 MainThread giskard.scanner.logger INFO     SpuriousCorrelationDetector: `day_of_week_Tuesday` == 1\tAssociation = 0.000\n",
      "2023-09-03 20:43:24,676 pid:62307 MainThread giskard.scanner.logger INFO     SpuriousCorrelationDetector: `Neighbourhood_SÃO BENEDITO` == 0\tAssociation = 0.000\n",
      "2023-09-03 20:43:24,744 pid:62307 MainThread giskard.scanner.logger INFO     SpuriousCorrelationDetector: `Neighbourhood_NOVA PALESTINA` == 0\tAssociation = 0.000\n",
      "2023-09-03 20:43:24,802 pid:62307 MainThread giskard.scanner.logger INFO     SpuriousCorrelationDetector: `Neighbourhood_DO MOSCOSO` == 0\tAssociation = 0.000\n",
      "2023-09-03 20:43:24,864 pid:62307 MainThread giskard.scanner.logger INFO     SpuriousCorrelationDetector: `Neighbourhood_SANTA MARTHA` == 0\tAssociation = 0.000\n",
      "2023-09-03 20:43:24,924 pid:62307 MainThread giskard.scanner.logger INFO     SpuriousCorrelationDetector: `Neighbourhood_CARATOÍRA` == 0\tAssociation = 0.001\n",
      "2023-09-03 20:43:24,982 pid:62307 MainThread giskard.scanner.logger INFO     SpuriousCorrelationDetector: `Neighbourhood_FONTE GRANDE` == 0\tAssociation = 0.000\n",
      "2023-09-03 20:43:25,038 pid:62307 MainThread giskard.scanner.logger INFO     SpuriousCorrelationDetector: `Gender_M` == 0\tAssociation = 0.000\n",
      "2023-09-03 20:43:25,066 pid:62307 MainThread giskard.scanner.logger INFO     SpuriousCorrelationDetector: `Gender_M` == 1\tAssociation = 0.000\n",
      "2023-09-03 20:43:25,099 pid:62307 MainThread giskard.scanner.logger INFO     SpuriousCorrelationDetector: `Neighbourhood_CONSOLAÇÃO` == 0\tAssociation = 0.000\n",
      "2023-09-03 20:43:25,445 pid:62307 MainThread giskard.scanner.logger INFO     SpuriousCorrelationDetector: `Neighbourhood_SANTA CLARA` == 0\tAssociation = 0.000\n",
      "2023-09-03 20:43:25,511 pid:62307 MainThread giskard.scanner.logger INFO     SpuriousCorrelationDetector: `Handicap` == 0\tAssociation = 0.001\n",
      "2023-09-03 20:43:25,612 pid:62307 MainThread giskard.scanner.logger INFO     SpuriousCorrelationDetector: `Neighbourhood_ARIOVALDO FAVALESSA` == 0\tAssociation = 0.000\n",
      "2023-09-03 20:43:25,671 pid:62307 MainThread giskard.scanner.logger INFO     SpuriousCorrelationDetector: `Neighbourhood_GRANDE VITÓRIA` == 0\tAssociation = 0.000\n",
      "2023-09-03 20:43:25,728 pid:62307 MainThread giskard.scanner.logger INFO     SpuriousCorrelationDetector: `Neighbourhood_VILA RUBIM` == 0\tAssociation = 0.001\n",
      "2023-09-03 20:43:25,784 pid:62307 MainThread giskard.scanner.logger INFO     SpuriousCorrelationDetector: `Neighbourhood_MARIA ORTIZ` == 0\tAssociation = 0.001\n",
      "2023-09-03 20:43:25,814 pid:62307 MainThread giskard.scanner.logger INFO     SpuriousCorrelationDetector: `Neighbourhood_MARIA ORTIZ` == 1\tAssociation = 0.001\n",
      "2023-09-03 20:43:25,856 pid:62307 MainThread giskard.scanner.logger INFO     SpuriousCorrelationDetector: `Neighbourhood_SÃO PEDRO` == 0\tAssociation = 0.000\n",
      "2023-09-03 20:43:25,920 pid:62307 MainThread giskard.scanner.logger INFO     SpuriousCorrelationDetector: `Neighbourhood_REDENÇÃO` == 0\tAssociation = 0.000\n",
      "2023-09-03 20:43:25,982 pid:62307 MainThread giskard.scanner.logger INFO     SpuriousCorrelationDetector: `Neighbourhood_DE LOURDES` == 0\tAssociation = 0.001\n",
      "2023-09-03 20:43:26,037 pid:62307 MainThread giskard.scanner.logger INFO     SpuriousCorrelationDetector: `Neighbourhood_MÁRIO CYPRESTE` == 0\tAssociation = 0.000\n",
      "2023-09-03 20:43:26,096 pid:62307 MainThread giskard.scanner.logger INFO     SpuriousCorrelationDetector: `Scholarship` == 0\tAssociation = 0.002\n",
      "2023-09-03 20:43:26,124 pid:62307 MainThread giskard.scanner.logger INFO     SpuriousCorrelationDetector: `Scholarship` == 1\tAssociation = 0.002\n",
      "2023-09-03 20:43:26,175 pid:62307 MainThread giskard.scanner.logger INFO     SpuriousCorrelationDetector: `Neighbourhood_ITARARÉ` == 0\tAssociation = 0.006\n",
      "2023-09-03 20:43:26,236 pid:62307 MainThread giskard.scanner.logger INFO     SpuriousCorrelationDetector: `Neighbourhood_INFREQUENT` == 0\tAssociation = 0.000\n",
      "2023-09-03 20:43:26,293 pid:62307 MainThread giskard.scanner.logger INFO     SpuriousCorrelationDetector: `day_of_week_Monday` == 1\tAssociation = 0.002\n",
      "2023-09-03 20:43:26,330 pid:62307 MainThread giskard.scanner.logger INFO     SpuriousCorrelationDetector: `day_of_week_Monday` == 0\tAssociation = 0.002\n",
      "2023-09-03 20:43:26,364 pid:62307 MainThread giskard.scanner.logger INFO     SpuriousCorrelationDetector: `Neighbourhood_PRAIA DO SUÁ` == 0\tAssociation = 0.001\n",
      "2023-09-03 20:43:26,424 pid:62307 MainThread giskard.scanner.logger INFO     SpuriousCorrelationDetector: `Neighbourhood_SÃO JOSÉ` == 0\tAssociation = 0.000\n",
      "2023-09-03 20:43:26,483 pid:62307 MainThread giskard.scanner.logger INFO     SpuriousCorrelationDetector: `Neighbourhood_PARQUE MOSCOSO` == 0\tAssociation = 0.000\n",
      "2023-09-03 20:43:26,541 pid:62307 MainThread giskard.scanner.logger INFO     SpuriousCorrelationDetector: `Neighbourhood_REPÚBLICA` == 0\tAssociation = 0.000\n",
      "2023-09-03 20:43:26,599 pid:62307 MainThread giskard.scanner.logger INFO     SpuriousCorrelationDetector: `Neighbourhood_RESISTÊNCIA` == 0\tAssociation = 0.002\n",
      "2023-09-03 20:43:26,658 pid:62307 MainThread giskard.scanner.logger INFO     SpuriousCorrelationDetector: `Neighbourhood_SANTOS REIS` == 0\tAssociation = 0.000\n",
      "2023-09-03 20:43:26,721 pid:62307 MainThread giskard.scanner.logger INFO     SpuriousCorrelationDetector: `Neighbourhood_CRUZAMENTO` == 0\tAssociation = 0.000\n",
      "2023-09-03 20:43:26,792 pid:62307 MainThread giskard.scanner.logger INFO     SpuriousCorrelationDetector: `Neighbourhood_CENTRO` == 0\tAssociation = 0.000\n",
      "2023-09-03 20:43:26,862 pid:62307 MainThread giskard.scanner.logger INFO     SpuriousCorrelationDetector: `Neighbourhood_ANDORINHAS` == 0\tAssociation = 0.000\n",
      "2023-09-03 20:43:26,933 pid:62307 MainThread giskard.scanner.logger INFO     SpuriousCorrelationDetector: `Neighbourhood_DO QUADRO` == 0\tAssociation = 0.001\n",
      "2023-09-03 20:43:27,009 pid:62307 MainThread giskard.scanner.logger INFO     SpuriousCorrelationDetector: `Neighbourhood_SANTA HELENA` == 0\tAssociation = 0.001\n",
      "2023-09-03 20:43:27,087 pid:62307 MainThread giskard.scanner.logger INFO     SpuriousCorrelationDetector: `Neighbourhood_SANTOS DUMONT` == 0\tAssociation = 0.000\n",
      "2023-09-03 20:43:27,153 pid:62307 MainThread giskard.scanner.logger INFO     SpuriousCorrelationDetector: `Neighbourhood_PRAIA DO CANTO` == 0\tAssociation = 0.001\n",
      "2023-09-03 20:43:27,233 pid:62307 MainThread giskard.scanner.logger INFO     SpuriousCorrelationDetector: `Neighbourhood_SOLON BORGES` == 0\tAssociation = 0.001\n",
      "2023-09-03 20:43:27,305 pid:62307 MainThread giskard.scanner.logger INFO     SpuriousCorrelationDetector: `day_of_week_INFREQUENT` == 0\tAssociation = 0.000\n",
      "2023-09-03 20:43:27,367 pid:62307 MainThread giskard.scanner.logger INFO     SpuriousCorrelationDetector: `Neighbourhood_ENSEADA DO SUÁ` == 0\tAssociation = 0.000\n",
      "2023-09-03 20:43:27,445 pid:62307 MainThread giskard.scanner.logger INFO     SpuriousCorrelationDetector: `day_of_week_Friday` == 0\tAssociation = 0.001\n",
      "2023-09-03 20:43:27,477 pid:62307 MainThread giskard.scanner.logger INFO     SpuriousCorrelationDetector: `day_of_week_Friday` == 1\tAssociation = 0.001\n",
      "2023-09-03 20:43:27,516 pid:62307 MainThread giskard.scanner.logger INFO     SpuriousCorrelationDetector: `Neighbourhood_JABOUR` == 0\tAssociation = 0.000\n",
      "2023-09-03 20:43:27,584 pid:62307 MainThread giskard.scanner.logger INFO     SpuriousCorrelationDetector: `Neighbourhood_SANTO ANDRÉ` == 0\tAssociation = 0.000\n",
      "2023-09-03 20:43:27,645 pid:62307 MainThread giskard.scanner.logger INFO     SpuriousCorrelationDetector: `Neighbourhood_FRADINHOS` == 0\tAssociation = 0.000\n",
      "2023-09-03 20:43:27,714 pid:62307 MainThread giskard.scanner.logger INFO     SpuriousCorrelationDetector: `Neighbourhood_FORTE SÃO JOÃO` == 0\tAssociation = 0.001\n",
      "2023-09-03 20:43:27,779 pid:62307 MainThread giskard.scanner.logger INFO     SpuriousCorrelationDetector: `day_of_week_Thursday` == 0\tAssociation = 0.001\n",
      "2023-09-03 20:43:27,812 pid:62307 MainThread giskard.scanner.logger INFO     SpuriousCorrelationDetector: `day_of_week_Thursday` == 1\tAssociation = 0.001\n",
      "2023-09-03 20:43:27,859 pid:62307 MainThread giskard.scanner.logger INFO     SpuriousCorrelationDetector: `Neighbourhood_ILHA DE SANTA MARIA` == 0\tAssociation = 0.000\n",
      "2023-09-03 20:43:27,928 pid:62307 MainThread giskard.scanner.logger INFO     SpuriousCorrelationDetector: `Neighbourhood_BOA VISTA` == 0\tAssociation = 0.000\n",
      " 0 issues detected. (Took 0:00:06.541291)\n",
      "Scan completed: 5 issues found. (Took 0:00:21.132476)\n"
     ]
    }
   ],
   "source": [
    "giskard_model = giskard.Model(\n",
    "    model=classifier.predict_proba_classifier,  # A prediction function that encapsulates all the data pre-processing steps and that could be executed with the dataset used by the scan.\n",
    "    model_type=\"classification\",  # Either regression, classification or text_generation.\n",
    "    name=\"Medical Appointment\",  # Optional\n",
    "    classification_labels=np.unique(y_test),  # Their order MUST be identical to the prediction_function's output order\n",
    "    feature_names=FEATURES_LIST_SELECTED,  # Default: all columns of your dataset\n",
    "    # classification_threshold=0.5,  # Default: 0.5\n",
    ")\n",
    "\n",
    "giskard_dataset = giskard.Dataset(pd.concat([X_test, pd.Series(y_test, name='target')], axis=1))\n",
    "\n",
    "# Then apply the scan\n",
    "results = giskard.scan(giskard_model, giskard_dataset)"
   ]
  },
  {
   "cell_type": "code",
   "execution_count": 35,
   "id": "e2743785",
   "metadata": {},
   "outputs": [
    {
     "data": {
      "text/html": [
       "<iframe id=\"scan-11498157920\" srcdoc=\"&lt;!doctype html&gt;\n",
       "&lt;html lang=&quot;en&quot;&gt;\n",
       "\n",
       "&lt;head&gt;\n",
       "    &lt;title&gt;Giskard Scan Results&lt;/title&gt;\n",
       "    &lt;base target=&quot;_blank&quot;&gt;\n",
       "    &lt;meta charset=&quot;utf-8&quot;&gt;\n",
       "    \n",
       "&lt;style&gt;pre code.hljs{display:block;overflow-x:auto;padding:1em}code.hljs{padding:3px 5px}\n",
       "/*!\n",
       "  Theme: GitHub Dark\n",
       "  Description: Dark theme as seen on github.com\n",
       "  Author: github.com\n",
       "  Maintainer: @Hirse\n",
       "  Updated: 2021-05-15\n",
       "\n",
       "  Outdated base version: https://github.com/primer/github-syntax-dark\n",
       "  Current colors taken from GitHub&#x27;s CSS\n",
       "*/.hljs{background:#0d1117;color:#c9d1d9}.hljs-doctag,.hljs-keyword,.hljs-meta .hljs-keyword,.hljs-template-tag,.hljs-template-variable,.hljs-type,.hljs-variable.language_{color:#ff7b72}.hljs-title,.hljs-title.class_,.hljs-title.class_.inherited__,.hljs-title.function_{color:#d2a8ff}.hljs-attr,.hljs-attribute,.hljs-literal,.hljs-meta,.hljs-number,.hljs-operator,.hljs-selector-attr,.hljs-selector-class,.hljs-selector-id,.hljs-variable{color:#79c0ff}.hljs-meta .hljs-string,.hljs-regexp,.hljs-string{color:#a5d6ff}.hljs-built_in,.hljs-symbol{color:#ffa657}.hljs-code,.hljs-comment,.hljs-formula{color:#8b949e}.hljs-name,.hljs-quote,.hljs-selector-pseudo,.hljs-selector-tag{color:#7ee787}.hljs-subst{color:#c9d1d9}.hljs-section{color:#1f6feb;font-weight:700}.hljs-bullet{color:#f2cc60}.hljs-emphasis{color:#c9d1d9;font-style:italic}.hljs-strong{color:#c9d1d9;font-weight:700}.hljs-addition{background-color:#033a16;color:#aff5b4}.hljs-deletion{background-color:#67060c;color:#ffdcd7}.hljs-copy-wrapper{overflow:hidden;position:relative}.hljs-copy-button:focus,.hljs-copy-wrapper:hover .hljs-copy-button{transform:translateX(0)}.hljs-copy-button{background-color:#2d2b57;background-color:var(--hljs-theme-background);background-image:url(&#x27;data:image/svg+xml;charset=utf-8,&lt;svg xmlns=&quot;http://www.w3.org/2000/svg&quot; width=&quot;16&quot; height=&quot;16&quot; fill=&quot;none&quot; viewBox=&quot;0 0 24 24&quot;&gt;&lt;path fill=&quot;%23fff&quot; fill-rule=&quot;evenodd&quot; d=&quot;M6 5a1 1 0 0 0-1 1v14a1 1 0 0 0 1 1h12a1 1 0 0 0 1-1V6a1 1 0 0 0-1-1h-2a1 1 0 1 1 0-2h2a3 3 0 0 1 3 3v14a3 3 0 0 1-3 3H6a3 3 0 0 1-3-3V6a3 3 0 0 1 3-3h2a1 1 0 0 1 0 2H6Z&quot; clip-rule=&quot;evenodd&quot;/&gt;&lt;path fill=&quot;%23fff&quot; fill-rule=&quot;evenodd&quot; d=&quot;M7 3a2 2 0 0 1 2-2h6a2 2 0 0 1 2 2v2a2 2 0 0 1-2 2H9a2 2 0 0 1-2-2V3Zm8 0H9v2h6V3Z&quot; clip-rule=&quot;evenodd&quot;/&gt;&lt;/svg&gt;&#x27;);background-position:50%;background-repeat:no-repeat;border:1px solid #ffffff22;border-radius:.25rem;color:#fff;height:2rem;position:absolute;right:1em;text-indent:-9999px;top:1em;transition:background-color .2s ease,transform .2s ease-out;width:2rem}.hljs-copy-button:hover{border-color:#ffffff44}.hljs-copy-button:active{border-color:#ffffff66}.hljs-copy-button[data-copied=true]{background-image:none;text-indent:0;width:auto}@media (prefers-reduced-motion){.hljs-copy-button{transition:none}}.hljs-copy-alert{clip:rect(0 0 0 0);-webkit-clip-path:inset(50%);clip-path:inset(50%);height:1px;overflow:hidden;position:absolute;white-space:nowrap;width:1px}\n",
       "/*! tailwindcss v3.3.2 | MIT License | https://tailwindcss.com*/*,:after,:before{border:0 solid #e5e7eb;box-sizing:border-box}:after,:before{--tw-content:&quot;&quot;}html{-webkit-text-size-adjust:100%;font-feature-settings:normal;font-family:ui-sans-serif,system-ui,-apple-system,BlinkMacSystemFont,Segoe UI,Roboto,Helvetica Neue,Arial,Noto Sans,sans-serif,Apple Color Emoji,Segoe UI Emoji,Segoe UI Symbol,Noto Color Emoji;font-variation-settings:normal;line-height:1.5;-moz-tab-size:4;-o-tab-size:4;tab-size:4}body{line-height:inherit;margin:0}hr{border-top-width:1px;color:inherit;height:0}abbr:where([title]){-webkit-text-decoration:underline dotted;text-decoration:underline dotted}h1,h2,h3,h4,h5,h6{font-size:inherit;font-weight:inherit}a{color:inherit;text-decoration:inherit}b,strong{font-weight:bolder}code,kbd,pre,samp{font-family:ui-monospace,SFMono-Regular,Menlo,Monaco,Consolas,Liberation Mono,Courier New,monospace;font-size:1em}small{font-size:80%}sub,sup{font-size:75%;line-height:0;position:relative;vertical-align:baseline}sub{bottom:-.25em}sup{top:-.5em}table{border-collapse:collapse;border-color:inherit;text-indent:0}button,input,optgroup,select,textarea{color:inherit;font-family:inherit;font-size:100%;font-weight:inherit;line-height:inherit;margin:0;padding:0}button,select{text-transform:none}[type=button],[type=reset],[type=submit],button{-webkit-appearance:button;background-color:transparent;background-image:none}:-moz-focusring{outline:auto}:-moz-ui-invalid{box-shadow:none}progress{vertical-align:baseline}::-webkit-inner-spin-button,::-webkit-outer-spin-button{height:auto}[type=search]{-webkit-appearance:textfield;outline-offset:-2px}::-webkit-search-decoration{-webkit-appearance:none}::-webkit-file-upload-button{-webkit-appearance:button;font:inherit}summary{display:list-item}blockquote,dd,dl,figure,h1,h2,h3,h4,h5,h6,hr,p,pre{margin:0}fieldset{margin:0}fieldset,legend{padding:0}menu,ol,ul{list-style:none;margin:0;padding:0}textarea{resize:vertical}input::-moz-placeholder,textarea::-moz-placeholder{color:#9ca3af;opacity:1}input::placeholder,textarea::placeholder{color:#9ca3af;opacity:1}[role=button],button{cursor:pointer}:disabled{cursor:default}audio,canvas,embed,iframe,img,object,svg,video{display:block;vertical-align:middle}img,video{height:auto;max-width:100%}[hidden]{display:none}*,:after,:before{--tw-border-spacing-x:0;--tw-border-spacing-y:0;--tw-translate-x:0;--tw-translate-y:0;--tw-rotate:0;--tw-skew-x:0;--tw-skew-y:0;--tw-scale-x:1;--tw-scale-y:1;--tw-pan-x: ;--tw-pan-y: ;--tw-pinch-zoom: ;--tw-scroll-snap-strictness:proximity;--tw-gradient-from-position: ;--tw-gradient-via-position: ;--tw-gradient-to-position: ;--tw-ordinal: ;--tw-slashed-zero: ;--tw-numeric-figure: ;--tw-numeric-spacing: ;--tw-numeric-fraction: ;--tw-ring-inset: ;--tw-ring-offset-width:0px;--tw-ring-offset-color:#fff;--tw-ring-color:rgba(59,130,246,.5);--tw-ring-offset-shadow:0 0 #0000;--tw-ring-shadow:0 0 #0000;--tw-shadow:0 0 #0000;--tw-shadow-colored:0 0 #0000;--tw-blur: ;--tw-brightness: ;--tw-contrast: ;--tw-grayscale: ;--tw-hue-rotate: ;--tw-invert: ;--tw-saturate: ;--tw-sepia: ;--tw-drop-shadow: ;--tw-backdrop-blur: ;--tw-backdrop-brightness: ;--tw-backdrop-contrast: ;--tw-backdrop-grayscale: ;--tw-backdrop-hue-rotate: ;--tw-backdrop-invert: ;--tw-backdrop-opacity: ;--tw-backdrop-saturate: ;--tw-backdrop-sepia: }::backdrop{--tw-border-spacing-x:0;--tw-border-spacing-y:0;--tw-translate-x:0;--tw-translate-y:0;--tw-rotate:0;--tw-skew-x:0;--tw-skew-y:0;--tw-scale-x:1;--tw-scale-y:1;--tw-pan-x: ;--tw-pan-y: ;--tw-pinch-zoom: ;--tw-scroll-snap-strictness:proximity;--tw-gradient-from-position: ;--tw-gradient-via-position: ;--tw-gradient-to-position: ;--tw-ordinal: ;--tw-slashed-zero: ;--tw-numeric-figure: ;--tw-numeric-spacing: ;--tw-numeric-fraction: ;--tw-ring-inset: ;--tw-ring-offset-width:0px;--tw-ring-offset-color:#fff;--tw-ring-color:rgba(59,130,246,.5);--tw-ring-offset-shadow:0 0 #0000;--tw-ring-shadow:0 0 #0000;--tw-shadow:0 0 #0000;--tw-shadow-colored:0 0 #0000;--tw-blur: ;--tw-brightness: ;--tw-contrast: ;--tw-grayscale: ;--tw-hue-rotate: ;--tw-invert: ;--tw-saturate: ;--tw-sepia: ;--tw-drop-shadow: ;--tw-backdrop-blur: ;--tw-backdrop-brightness: ;--tw-backdrop-contrast: ;--tw-backdrop-grayscale: ;--tw-backdrop-hue-rotate: ;--tw-backdrop-invert: ;--tw-backdrop-opacity: ;--tw-backdrop-saturate: ;--tw-backdrop-sepia: }.m-4{margin:1rem}.my-1{margin-bottom:.25rem;margin-top:.25rem}.my-2{margin-bottom:.5rem;margin-top:.5rem}.my-4{margin-top:1rem}.mb-4,.my-4{margin-bottom:1rem}.ml-1{margin-left:.25rem}.ml-2{margin-left:.5rem}.ml-4{margin-left:1rem}.mr-2{margin-right:.5rem}.mt-1{margin-top:.25rem}.mt-1\\.5{margin-top:.375rem}.mt-4{margin-top:1rem}.block{display:block}.inline-block{display:inline-block}.flex{display:flex}.table{display:table}.hidden{display:none}.h-11{height:2.75rem}.h-6{height:1.5rem}.h-max{height:-moz-max-content;height:max-content}.w-6{width:1.5rem}.w-full{width:100%}.w-min{width:-moz-min-content;width:min-content}.max-w-xl{max-width:36rem}.flex-grow{flex-grow:1}.table-auto{table-layout:auto}.cursor-pointer{cursor:pointer}.resize{resize:both}.list-disc{list-style-type:disc}.items-end{align-items:flex-end}.items-center{align-items:center}.space-x-1&gt;:not([hidden])~:not([hidden]){--tw-space-x-reverse:0;margin-left:calc(.25rem*(1 - var(--tw-space-x-reverse)));margin-right:calc(.25rem*var(--tw-space-x-reverse))}.overflow-hidden{overflow:hidden}.overflow-scroll{overflow:scroll}.overflow-x-auto{overflow-x:auto}.overflow-y-clip{overflow-y:clip}.text-ellipsis{text-overflow:ellipsis}.whitespace-nowrap{white-space:nowrap}.rounded{border-radius:.25rem}.rounded-full{border-radius:9999px}.rounded-sm{border-radius:.125rem}.rounded-t{border-top-left-radius:.25rem;border-top-right-radius:.25rem}.border{border-width:1px}.border-b{border-bottom-width:1px}.border-l{border-left-width:1px}.border-r{border-right-width:1px}.border-t{border-top-width:1px}.border-amber-200{--tw-border-opacity:1;border-color:rgb(253 230 138/var(--tw-border-opacity))}.border-blue-200{--tw-border-opacity:1;border-color:rgb(191 219 254/var(--tw-border-opacity))}.border-gray-500{--tw-border-opacity:1;border-color:rgb(107 114 128/var(--tw-border-opacity))}.border-gray-600{--tw-border-opacity:1;border-color:rgb(75 85 99/var(--tw-border-opacity))}.border-red-400{--tw-border-opacity:1;border-color:rgb(248 113 113/var(--tw-border-opacity))}.border-zinc-100\\/50{border-color:hsla(240,5%,96%,.5)}.border-zinc-500{--tw-border-opacity:1;border-color:rgb(113 113 122/var(--tw-border-opacity))}.border-b-gray-500{--tw-border-opacity:1;border-bottom-color:rgb(107 114 128/var(--tw-border-opacity))}.bg-amber-100\\/40{background-color:hsla(48,96%,89%,.4)}.bg-amber-200{--tw-bg-opacity:1;background-color:rgb(253 230 138/var(--tw-bg-opacity))}.bg-blue-300{--tw-bg-opacity:1;background-color:rgb(147 197 253/var(--tw-bg-opacity))}.bg-green-100\\/40{background-color:rgba(220,252,231,.4)}.bg-red-400{--tw-bg-opacity:1;background-color:rgb(248 113 113/var(--tw-bg-opacity))}.bg-zinc-500{--tw-bg-opacity:1;background-color:rgb(113 113 122/var(--tw-bg-opacity))}.bg-zinc-700{--tw-bg-opacity:1;background-color:rgb(63 63 70/var(--tw-bg-opacity))}.p-3{padding:.75rem}.p-4{padding:1rem}.px-1{padding-left:.25rem;padding-right:.25rem}.px-2{padding-left:.5rem;padding-right:.5rem}.px-3{padding-left:.75rem;padding-right:.75rem}.px-4{padding-left:1rem;padding-right:1rem}.py-0{padding-bottom:0;padding-top:0}.py-0\\.5{padding-bottom:.125rem;padding-top:.125rem}.py-2{padding-bottom:.5rem;padding-top:.5rem}.pt-1{padding-top:.25rem}.text-left{text-align:left}.text-center{text-align:center}.text-right{text-align:right}.align-middle{vertical-align:middle}.text-sm{font-size:.875rem;line-height:1.25rem}.text-xs{font-size:.75rem;line-height:1rem}.font-bold{font-weight:700}.font-medium{font-weight:500}.uppercase{text-transform:uppercase}.lowercase{text-transform:lowercase}.leading-4{line-height:1rem}.text-amber-100{--tw-text-opacity:1;color:rgb(254 243 199/var(--tw-text-opacity))}.text-amber-200{--tw-text-opacity:1;color:rgb(253 230 138/var(--tw-text-opacity))}.text-amber-900{--tw-text-opacity:1;color:rgb(120 53 15/var(--tw-text-opacity))}.text-blue-200{--tw-text-opacity:1;color:rgb(191 219 254/var(--tw-text-opacity))}.text-blue-300{--tw-text-opacity:1;color:rgb(147 197 253/var(--tw-text-opacity))}.text-blue-900{--tw-text-opacity:1;color:rgb(30 58 138/var(--tw-text-opacity))}.text-gray-400{--tw-text-opacity:1;color:rgb(156 163 175/var(--tw-text-opacity))}.text-green-50{--tw-text-opacity:1;color:rgb(240 253 244/var(--tw-text-opacity))}.text-red-400{--tw-text-opacity:1;color:rgb(248 113 113/var(--tw-text-opacity))}.text-white{--tw-text-opacity:1;color:rgb(255 255 255/var(--tw-text-opacity))}.text-zinc-100\\/90{color:hsla(240,5%,96%,.9)}.underline{text-decoration-line:underline}.filter{filter:var(--tw-blur) var(--tw-brightness) var(--tw-contrast) var(--tw-grayscale) var(--tw-hue-rotate) var(--tw-invert) var(--tw-saturate) var(--tw-sepia) var(--tw-drop-shadow)}p a{text-decoration:underline}.tab-header{min-width:3rem}.active.tab-header{min-width:-moz-fit-content;min-width:fit-content}table.dataframe{max-width:100%;overflow:auto;width:100%}.dataframe tr{border-bottom:1px solid #555}.dataframe td,.dataframe th{padding:.5rem}.dataframe th{text-align:left!important}.first\\:border-t:first-child{border-top-width:1px}.hover\\:border-zinc-500:hover{--tw-border-opacity:1;border-color:rgb(113 113 122/var(--tw-border-opacity))}.hover\\:bg-zinc-400:hover{--tw-bg-opacity:1;background-color:rgb(161 161 170/var(--tw-bg-opacity))}.hover\\:bg-zinc-500:hover{--tw-bg-opacity:1;background-color:rgb(113 113 122/var(--tw-bg-opacity))}.hover\\:bg-zinc-700:hover{--tw-bg-opacity:1;background-color:rgb(63 63 70/var(--tw-bg-opacity))}.hover\\:text-white:hover{--tw-text-opacity:1;color:rgb(255 255 255/var(--tw-text-opacity))}.group.open .group-\\[\\.open\\]\\:inline-block{display:inline-block}.group.open .group-\\[\\.open\\]\\:hidden{display:none}.group.active .group-\\[\\.active\\]\\:border-gray-500{--tw-border-opacity:1;border-color:rgb(107 114 128/var(--tw-border-opacity))}.group.active .group-\\[\\.active\\]\\:border-b-zinc-800{--tw-border-opacity:1;border-bottom-color:rgb(39 39 42/var(--tw-border-opacity))}.group.active .group-\\[\\.active\\]\\:bg-zinc-800{--tw-bg-opacity:1;background-color:rgb(39 39 42/var(--tw-bg-opacity))}.peer.open~.peer-\\[\\.open\\]\\:table-row{display:table-row}:is(.dark .dark\\:bg-zinc-800){--tw-bg-opacity:1;background-color:rgb(39 39 42/var(--tw-bg-opacity))}:is(.dark .dark\\:bg-zinc-900){--tw-bg-opacity:1;background-color:rgb(24 24 27/var(--tw-bg-opacity))}:is(.dark .dark\\:fill-white){fill:#fff}:is(.dark .dark\\:text-white){--tw-text-opacity:1;color:rgb(255 255 255/var(--tw-text-opacity))}&lt;/style&gt;\n",
       "\n",
       "&lt;/head&gt;\n",
       "\n",
       "&lt;body&gt;\n",
       "    \n",
       "&lt;div class=&quot;dark&quot;&gt;\n",
       "    &lt;div id=&quot;gsk-scan&quot; class=&quot;dark:text-white dark:bg-zinc-800 rounded border border-gray-500&quot;&gt;\n",
       "        &lt;!-- TAB HEADER --&gt;\n",
       "&lt;div class=&quot;flex items-end pt-1 dark:bg-zinc-900 rounded-t&quot;&gt;\n",
       "    \n",
       "    &lt;div class=&quot;flex items-center px-4 dark:fill-white border-b border-gray-500 h-11&quot;&gt;\n",
       "        &lt;div&gt;\n",
       "            &lt;svg xmlns=&quot;http://www.w3.org/2000/svg&quot; width=&quot;30&quot; height=&quot;15&quot; fill=&quot;none&quot;&gt;\n",
       "                &lt;path fill=&quot;#fff&quot; fill-rule=&quot;evenodd&quot;\n",
       "                    d=&quot;M22.504 1.549a4.196 4.196 0 0 1 2.573-.887v.002a3.783 3.783 0 0 1 2.706 1.086 3.783 3.783 0 0 1 1.126 2.69 3.771 3.771 0 0 1-1.126 2.69 3.77 3.77 0 0 1-2.706 1.085l-4.794.011-2.533 3.467L8.203 15l2.881-3.335a9.829 9.829 0 0 1-4.663-1.68H3.185L0 7.163h3.934C4.263 3.165 8.187 0 12.96 0c2.24 0 4.489.696 6.175 1.909a7.423 7.423 0 0 1 1.882 1.919 4.194 4.194 0 0 1 1.487-2.28ZM7.05 3.249l3.91 3.915h1.505L7.89 2.584a7.773 7.773 0 0 0-.84.665Zm4.079-2.008 5.923 5.923h1.503l-6.086-6.087c-.45.023-.898.078-1.34.164ZM4.574 8.226h-1.77l.784.693h1.584a8.454 8.454 0 0 1-.598-.693Zm9.479 0H5.984c1.469 1.477 3.656 2.377 5.977 2.422l2.092-2.422Zm-2.458 4.472 5.492-1.902 1.878-2.569h-3.508l-3.862 4.47Zm10.361-5.552h3.265a2.714 2.714 0 0 0 1.747-4.648 2.711 2.711 0 0 0-1.888-.773 3.127 3.127 0 0 0-3.123 3.124v2.297Zm3.659-3.73a.677.677 0 1 1-.134 1.348.677.677 0 0 1 .134-1.348Z&quot;\n",
       "                    clip-rule=&quot;evenodd&quot; /&gt;\n",
       "            &lt;/svg&gt;\n",
       "        &lt;/div&gt;\n",
       "        &lt;span class=&quot;uppercase text-sm ml-2 py-2 leading-4 w-min&quot;&gt;5&amp;nbsp;issues\n",
       "            detected&lt;/span&gt;\n",
       "    &lt;/div&gt;\n",
       "\n",
       "    \n",
       "    \n",
       "    &lt;div data-tab-target=&quot;Underconfidence&quot;\n",
       "        class=&quot;tab-header cursor-pointer group active&quot;&gt;\n",
       "        &lt;div\n",
       "            class=&quot;overflow-hidden text-ellipsis group-[.active]:bg-zinc-800 group-[.active]:border-b-zinc-800 group-[.active]:border-gray-500 border-l px-3 py-2 border-r border-t border-b border-gray-600 border-b-gray-500 h-11 whitespace-nowrap&quot;&gt;\n",
       "            Underconfidence\n",
       "            \n",
       "            \n",
       "            &lt;span class=&quot;ml-1 rounded-full text-xs min-w-4 min-h-4 px-1 py-0.5 inline-block text-center bg-red-400&quot;&gt;\n",
       "                \n",
       "                        5\n",
       "                    &lt;/span&gt;\n",
       "                    \n",
       "        &lt;/div&gt;\n",
       "    &lt;/div&gt;\n",
       "    \n",
       "\n",
       "    \n",
       "    &lt;div class=&quot;flex-grow border-b border-gray-500 h-11&quot;&gt;&lt;/div&gt;\n",
       "&lt;/div&gt;\n",
       "&lt;!-- TAB HEADER END --&gt;\n",
       "        \n",
       "&lt;div id=&quot;Underconfidence&quot; role=&quot;tabpanel&quot; class=&quot;m-4 mb-4&quot;&gt;\n",
       "    &lt;div class=&quot;p-3 bg-amber-100/40 rounded-sm w-full flex align-middle&quot;&gt;\n",
       "        &lt;div class=&quot;text-amber-100 mt-1.5&quot;&gt;\n",
       "            &lt;svg xmlns=&quot;http://www.w3.org/2000/svg&quot; fill=&quot;none&quot; viewBox=&quot;0 0 24 24&quot; stroke-width=&quot;1.5&quot;\n",
       "                stroke=&quot;currentColor&quot; class=&quot;w-6 h-6&quot;&gt;\n",
       "                &lt;path stroke-linecap=&quot;round&quot; stroke-linejoin=&quot;round&quot;\n",
       "                    d=&quot;M12 9v3.75m-9.303 3.376c-.866 1.5.217 3.374 1.948 3.374h14.71c1.73 0 2.813-1.874 1.948-3.374L13.949 3.378c-.866-1.5-3.032-1.5-3.898 0L2.697 16.126zM12 15.75h.007v.008H12v-.008z&quot; /&gt;\n",
       "            &lt;/svg&gt;\n",
       "        &lt;/div&gt;\n",
       "        &lt;div class=&quot;ml-2 text-amber-100 text-sm&quot;&gt;\n",
       "            \n",
       "            &lt;p&gt;\n",
       "                We found some data slices in your dataset containing significant number of underconfident predictions.\n",
       "                Underconfident predictions refer to situations where the predicted label has a probability that is\n",
       "                very close to the probability of the next highest probability label. This happens when:\n",
       "            &lt;/p&gt;\n",
       "            &lt;ul class=&quot;list-disc ml-4 my-1&quot;&gt;\n",
       "                &lt;li&gt;There are not enough examples in the training set for the underconfident data slice&lt;/li&gt;\n",
       "                &lt;li&gt;The model is too simple and struggles to capture the complexity of the underlying data&lt;/li&gt;\n",
       "                &lt;li&gt;The underconfident data slice contains inherent noise or overlapping feature distributions&lt;/li&gt;\n",
       "            &lt;/ul&gt;\n",
       "            &lt;p class=&quot;mt-1&quot;&gt;\n",
       "                To learn more about causes and solutions, check our &lt;a href=&quot;https://docs.giskard.ai/en/latest/getting-started/key_vulnerabilities/underconfidence/index.html&quot; target=&quot;_blank&quot; rel=&quot;noopener&quot;&gt;guide on underconfidence issues.&lt;/a&gt;\n",
       "            &lt;/p&gt;\n",
       "            \n",
       "        &lt;/div&gt;\n",
       "    &lt;/div&gt;\n",
       "\n",
       "    &lt;div class=&quot;flex items-center space-x-1&quot;&gt;\n",
       "        &lt;h2 class=&quot;uppercase my-4 mr-2 font-medium&quot;&gt;Issues&lt;/h2&gt;\n",
       "        \n",
       "        &lt;span class=&quot;text-xs border rounded px-1 uppercase text-red-400 border-red-400&quot;&gt;2\n",
       "            major&lt;/span&gt;\n",
       "        \n",
       "        \n",
       "        &lt;span class=&quot;text-xs border rounded px-1 uppercase text-amber-200 border-amber-200&quot;&gt;3\n",
       "            medium&lt;/span&gt;\n",
       "        \n",
       "        \n",
       "    &lt;/div&gt;\n",
       "\n",
       "    &lt;div class=&quot;overflow-x-auto overflow-y-clip h-max&quot;&gt;\n",
       "    &lt;table class=&quot;table-auto w-full text-white&quot;&gt;\n",
       "        \n",
       "        &lt;tbody class=&quot;first:border-t border-b border-zinc-500&quot;&gt;\n",
       "            \n",
       "                &lt;tr class=&quot;gsk-issue text-sm group peer text-left cursor-pointer hover:bg-zinc-700&quot;&gt;\n",
       "    &lt;td class=&quot;p-3&quot;&gt;\n",
       "        &lt;code class=&quot;mono text-blue-300&quot;&gt;`Scholarship` == 1&lt;/code&gt;\n",
       "    &lt;/td&gt;\n",
       "    &lt;td class=&quot;p-3&quot;&gt;\n",
       "        Underconfidence rate = 0.031\n",
       "        &lt;span class=&quot;text-gray-400&quot;&gt;\n",
       "            (Global = 0.021)\n",
       "        &lt;/span&gt;\n",
       "    &lt;/td&gt;\n",
       "    &lt;td class=&quot;p-3&quot;&gt;\n",
       "        &lt;span class=&quot;text-red-400&quot;&gt;\n",
       "            48.59% than global\n",
       "        &lt;/span&gt;\n",
       "    &lt;/td&gt;\n",
       "    &lt;td class=&quot;p-3&quot;&gt;\n",
       "        &lt;span class=&quot;text-gray-400&quot;&gt;\n",
       "            41 out of 1320 samples\n",
       "        &lt;/span&gt;\n",
       "    &lt;/td&gt;\n",
       "    &lt;td class=&quot;p-3 text-xs text-right space-x-1&quot;&gt;\n",
       "        &lt;a href=&quot;#&quot;\n",
       "            class=&quot;gsk-issue-detail-btn inline-block group-[.open]:hidden border border-zinc-100/50 text-zinc-100/90 hover:bg-zinc-500 hover:border-zinc-500 hover:text-white px-2 py-0.5 rounded-sm&quot;&gt;Show details&lt;/a&gt;\n",
       "        &lt;a href=&quot;#&quot;\n",
       "            class=&quot;hidden group-[.open]:inline-block gsk-issue-detail-btn border border-zinc-500 text-zinc-100/90 bg-zinc-500 hover:bg-zinc-400 hover:text-white px-2 py-0.5 rounded-sm&quot;&gt;Hide details&lt;/a&gt;\n",
       "    &lt;/td&gt;\n",
       "&lt;/tr&gt;\n",
       "&lt;tr class=&quot;gsk-issue-detail text-left hidden  peer-[.open]:table-row border-b border-zinc-500 bg-zinc-700&quot;&gt;\n",
       "    &lt;td colspan=&quot;5&quot; class=&quot;p-3&quot;&gt;\n",
       "        &lt;h4 class=&quot;font-bold text-sm&quot;&gt;Description&lt;/h4&gt;\n",
       "        &lt;div class=&quot;text-sm&quot;&gt;\n",
       "            &lt;p class=&quot;my-2&quot;&gt;\n",
       "                For records in your dataset where `Scholarship` == 1,\n",
       "                we found a significantly higher number of underconfident predictions\n",
       "                (41 samples, corresponding to\n",
       "                3.1% of the predictions in the data slice).\n",
       "            &lt;/p&gt;\n",
       "        &lt;/div&gt;\n",
       "        &lt;h4 class=&quot;font-bold mt-4 text-sm&quot;&gt;Examples&lt;/h4&gt;\n",
       "        &lt;div class=&quot;text-white max-w-xl text-sm overflow-scroll&quot; style=&quot;max-width: 920px&quot;&gt;\n",
       "            &lt;div&gt;\n",
       "&lt;style scoped&gt;\n",
       "    .dataframe tbody tr th:only-of-type {\n",
       "        vertical-align: middle;\n",
       "    }\n",
       "\n",
       "    .dataframe tbody tr th {\n",
       "        vertical-align: top;\n",
       "    }\n",
       "\n",
       "    .dataframe thead th {\n",
       "        text-align: right;\n",
       "    }\n",
       "&lt;/style&gt;\n",
       "&lt;table border=&quot;1&quot; class=&quot;dataframe&quot;&gt;\n",
       "  &lt;thead&gt;\n",
       "    &lt;tr style=&quot;text-align: left;&quot;&gt;\n",
       "      &lt;th&gt;&lt;/th&gt;\n",
       "      &lt;th&gt;Scholarship&lt;/th&gt;\n",
       "      &lt;th&gt;Predicted&lt;/th&gt;\n",
       "    &lt;/tr&gt;\n",
       "  &lt;/thead&gt;\n",
       "  &lt;tbody&gt;\n",
       "    &lt;tr&gt;\n",
       "      &lt;th&gt;6596&lt;/th&gt;\n",
       "      &lt;td&gt;1&lt;/td&gt;\n",
       "      &lt;td&gt;0 (p = 0.50)&lt;br&gt;1 (p = 0.50)&lt;/td&gt;\n",
       "    &lt;/tr&gt;\n",
       "    &lt;tr&gt;\n",
       "      &lt;th&gt;728&lt;/th&gt;\n",
       "      &lt;td&gt;1&lt;/td&gt;\n",
       "      &lt;td&gt;0 (p = 0.50)&lt;br&gt;1 (p = 0.50)&lt;/td&gt;\n",
       "    &lt;/tr&gt;\n",
       "    &lt;tr&gt;\n",
       "      &lt;th&gt;8386&lt;/th&gt;\n",
       "      &lt;td&gt;1&lt;/td&gt;\n",
       "      &lt;td&gt;0 (p = 0.50)&lt;br&gt;1 (p = 0.50)&lt;/td&gt;\n",
       "    &lt;/tr&gt;\n",
       "  &lt;/tbody&gt;\n",
       "&lt;/table&gt;\n",
       "&lt;/div&gt;\n",
       "        &lt;/div&gt;\n",
       "    &lt;/td&gt;\n",
       "&lt;/tr&gt;\n",
       "            \n",
       "        &lt;/tbody&gt;\n",
       "        \n",
       "        &lt;tbody class=&quot;first:border-t border-b border-zinc-500&quot;&gt;\n",
       "            \n",
       "                &lt;tr class=&quot;gsk-issue text-sm group peer text-left cursor-pointer hover:bg-zinc-700&quot;&gt;\n",
       "    &lt;td class=&quot;p-3&quot;&gt;\n",
       "        &lt;code class=&quot;mono text-blue-300&quot;&gt;`day_of_week_Monday` == 1&lt;/code&gt;\n",
       "    &lt;/td&gt;\n",
       "    &lt;td class=&quot;p-3&quot;&gt;\n",
       "        Underconfidence rate = 0.025\n",
       "        &lt;span class=&quot;text-gray-400&quot;&gt;\n",
       "            (Global = 0.021)\n",
       "        &lt;/span&gt;\n",
       "    &lt;/td&gt;\n",
       "    &lt;td class=&quot;p-3&quot;&gt;\n",
       "        &lt;span class=&quot;text-red-400&quot;&gt;\n",
       "            21.05% than global\n",
       "        &lt;/span&gt;\n",
       "    &lt;/td&gt;\n",
       "    &lt;td class=&quot;p-3&quot;&gt;\n",
       "        &lt;span class=&quot;text-gray-400&quot;&gt;\n",
       "            73 out of 2885 samples\n",
       "        &lt;/span&gt;\n",
       "    &lt;/td&gt;\n",
       "    &lt;td class=&quot;p-3 text-xs text-right space-x-1&quot;&gt;\n",
       "        &lt;a href=&quot;#&quot;\n",
       "            class=&quot;gsk-issue-detail-btn inline-block group-[.open]:hidden border border-zinc-100/50 text-zinc-100/90 hover:bg-zinc-500 hover:border-zinc-500 hover:text-white px-2 py-0.5 rounded-sm&quot;&gt;Show details&lt;/a&gt;\n",
       "        &lt;a href=&quot;#&quot;\n",
       "            class=&quot;hidden group-[.open]:inline-block gsk-issue-detail-btn border border-zinc-500 text-zinc-100/90 bg-zinc-500 hover:bg-zinc-400 hover:text-white px-2 py-0.5 rounded-sm&quot;&gt;Hide details&lt;/a&gt;\n",
       "    &lt;/td&gt;\n",
       "&lt;/tr&gt;\n",
       "&lt;tr class=&quot;gsk-issue-detail text-left hidden  peer-[.open]:table-row border-b border-zinc-500 bg-zinc-700&quot;&gt;\n",
       "    &lt;td colspan=&quot;5&quot; class=&quot;p-3&quot;&gt;\n",
       "        &lt;h4 class=&quot;font-bold text-sm&quot;&gt;Description&lt;/h4&gt;\n",
       "        &lt;div class=&quot;text-sm&quot;&gt;\n",
       "            &lt;p class=&quot;my-2&quot;&gt;\n",
       "                For records in your dataset where `day_of_week_Monday` == 1,\n",
       "                we found a significantly higher number of underconfident predictions\n",
       "                (73 samples, corresponding to\n",
       "                2.5% of the predictions in the data slice).\n",
       "            &lt;/p&gt;\n",
       "        &lt;/div&gt;\n",
       "        &lt;h4 class=&quot;font-bold mt-4 text-sm&quot;&gt;Examples&lt;/h4&gt;\n",
       "        &lt;div class=&quot;text-white max-w-xl text-sm overflow-scroll&quot; style=&quot;max-width: 920px&quot;&gt;\n",
       "            &lt;div&gt;\n",
       "&lt;style scoped&gt;\n",
       "    .dataframe tbody tr th:only-of-type {\n",
       "        vertical-align: middle;\n",
       "    }\n",
       "\n",
       "    .dataframe tbody tr th {\n",
       "        vertical-align: top;\n",
       "    }\n",
       "\n",
       "    .dataframe thead th {\n",
       "        text-align: right;\n",
       "    }\n",
       "&lt;/style&gt;\n",
       "&lt;table border=&quot;1&quot; class=&quot;dataframe&quot;&gt;\n",
       "  &lt;thead&gt;\n",
       "    &lt;tr style=&quot;text-align: left;&quot;&gt;\n",
       "      &lt;th&gt;&lt;/th&gt;\n",
       "      &lt;th&gt;day_of_week_Monday&lt;/th&gt;\n",
       "      &lt;th&gt;Predicted&lt;/th&gt;\n",
       "    &lt;/tr&gt;\n",
       "  &lt;/thead&gt;\n",
       "  &lt;tbody&gt;\n",
       "    &lt;tr&gt;\n",
       "      &lt;th&gt;124&lt;/th&gt;\n",
       "      &lt;td&gt;1&lt;/td&gt;\n",
       "      &lt;td&gt;0 (p = 0.50)&lt;br&gt;1 (p = 0.50)&lt;/td&gt;\n",
       "    &lt;/tr&gt;\n",
       "    &lt;tr&gt;\n",
       "      &lt;th&gt;10883&lt;/th&gt;\n",
       "      &lt;td&gt;1&lt;/td&gt;\n",
       "      &lt;td&gt;0 (p = 0.50)&lt;br&gt;1 (p = 0.50)&lt;/td&gt;\n",
       "    &lt;/tr&gt;\n",
       "    &lt;tr&gt;\n",
       "      &lt;th&gt;7322&lt;/th&gt;\n",
       "      &lt;td&gt;1&lt;/td&gt;\n",
       "      &lt;td&gt;0 (p = 0.50)&lt;br&gt;1 (p = 0.50)&lt;/td&gt;\n",
       "    &lt;/tr&gt;\n",
       "  &lt;/tbody&gt;\n",
       "&lt;/table&gt;\n",
       "&lt;/div&gt;\n",
       "        &lt;/div&gt;\n",
       "    &lt;/td&gt;\n",
       "&lt;/tr&gt;\n",
       "            \n",
       "        &lt;/tbody&gt;\n",
       "        \n",
       "        &lt;tbody class=&quot;first:border-t border-b border-zinc-500&quot;&gt;\n",
       "            \n",
       "                &lt;tr class=&quot;gsk-issue text-sm group peer text-left cursor-pointer hover:bg-zinc-700&quot;&gt;\n",
       "    &lt;td class=&quot;p-3&quot;&gt;\n",
       "        &lt;code class=&quot;mono text-blue-300&quot;&gt;`n_hours_scheduled_before` &amp;gt;= 102.500&lt;/code&gt;\n",
       "    &lt;/td&gt;\n",
       "    &lt;td class=&quot;p-3&quot;&gt;\n",
       "        Underconfidence rate = 0.025\n",
       "        &lt;span class=&quot;text-gray-400&quot;&gt;\n",
       "            (Global = 0.021)\n",
       "        &lt;/span&gt;\n",
       "    &lt;/td&gt;\n",
       "    &lt;td class=&quot;p-3&quot;&gt;\n",
       "        &lt;span class=&quot;text-amber-200&quot;&gt;\n",
       "            17.45% than global\n",
       "        &lt;/span&gt;\n",
       "    &lt;/td&gt;\n",
       "    &lt;td class=&quot;p-3&quot;&gt;\n",
       "        &lt;span class=&quot;text-gray-400&quot;&gt;\n",
       "            253 out of 10305 samples\n",
       "        &lt;/span&gt;\n",
       "    &lt;/td&gt;\n",
       "    &lt;td class=&quot;p-3 text-xs text-right space-x-1&quot;&gt;\n",
       "        &lt;a href=&quot;#&quot;\n",
       "            class=&quot;gsk-issue-detail-btn inline-block group-[.open]:hidden border border-zinc-100/50 text-zinc-100/90 hover:bg-zinc-500 hover:border-zinc-500 hover:text-white px-2 py-0.5 rounded-sm&quot;&gt;Show details&lt;/a&gt;\n",
       "        &lt;a href=&quot;#&quot;\n",
       "            class=&quot;hidden group-[.open]:inline-block gsk-issue-detail-btn border border-zinc-500 text-zinc-100/90 bg-zinc-500 hover:bg-zinc-400 hover:text-white px-2 py-0.5 rounded-sm&quot;&gt;Hide details&lt;/a&gt;\n",
       "    &lt;/td&gt;\n",
       "&lt;/tr&gt;\n",
       "&lt;tr class=&quot;gsk-issue-detail text-left hidden  peer-[.open]:table-row border-b border-zinc-500 bg-zinc-700&quot;&gt;\n",
       "    &lt;td colspan=&quot;5&quot; class=&quot;p-3&quot;&gt;\n",
       "        &lt;h4 class=&quot;font-bold text-sm&quot;&gt;Description&lt;/h4&gt;\n",
       "        &lt;div class=&quot;text-sm&quot;&gt;\n",
       "            &lt;p class=&quot;my-2&quot;&gt;\n",
       "                For records in your dataset where `n_hours_scheduled_before` &amp;gt;= 102.500,\n",
       "                we found a significantly higher number of underconfident predictions\n",
       "                (253 samples, corresponding to\n",
       "                2.5% of the predictions in the data slice).\n",
       "            &lt;/p&gt;\n",
       "        &lt;/div&gt;\n",
       "        &lt;h4 class=&quot;font-bold mt-4 text-sm&quot;&gt;Examples&lt;/h4&gt;\n",
       "        &lt;div class=&quot;text-white max-w-xl text-sm overflow-scroll&quot; style=&quot;max-width: 920px&quot;&gt;\n",
       "            &lt;div&gt;\n",
       "&lt;style scoped&gt;\n",
       "    .dataframe tbody tr th:only-of-type {\n",
       "        vertical-align: middle;\n",
       "    }\n",
       "\n",
       "    .dataframe tbody tr th {\n",
       "        vertical-align: top;\n",
       "    }\n",
       "\n",
       "    .dataframe thead th {\n",
       "        text-align: right;\n",
       "    }\n",
       "&lt;/style&gt;\n",
       "&lt;table border=&quot;1&quot; class=&quot;dataframe&quot;&gt;\n",
       "  &lt;thead&gt;\n",
       "    &lt;tr style=&quot;text-align: left;&quot;&gt;\n",
       "      &lt;th&gt;&lt;/th&gt;\n",
       "      &lt;th&gt;n_hours_scheduled_before&lt;/th&gt;\n",
       "      &lt;th&gt;Predicted&lt;/th&gt;\n",
       "    &lt;/tr&gt;\n",
       "  &lt;/thead&gt;\n",
       "  &lt;tbody&gt;\n",
       "    &lt;tr&gt;\n",
       "      &lt;th&gt;7431&lt;/th&gt;\n",
       "      &lt;td&gt;209&lt;/td&gt;\n",
       "      &lt;td&gt;0 (p = 0.50)&lt;br&gt;1 (p = 0.50)&lt;/td&gt;\n",
       "    &lt;/tr&gt;\n",
       "    &lt;tr&gt;\n",
       "      &lt;th&gt;10883&lt;/th&gt;\n",
       "      &lt;td&gt;991&lt;/td&gt;\n",
       "      &lt;td&gt;0 (p = 0.50)&lt;br&gt;1 (p = 0.50)&lt;/td&gt;\n",
       "    &lt;/tr&gt;\n",
       "    &lt;tr&gt;\n",
       "      &lt;th&gt;6329&lt;/th&gt;\n",
       "      &lt;td&gt;800&lt;/td&gt;\n",
       "      &lt;td&gt;0 (p = 0.50)&lt;br&gt;1 (p = 0.50)&lt;/td&gt;\n",
       "    &lt;/tr&gt;\n",
       "  &lt;/tbody&gt;\n",
       "&lt;/table&gt;\n",
       "&lt;/div&gt;\n",
       "        &lt;/div&gt;\n",
       "    &lt;/td&gt;\n",
       "&lt;/tr&gt;\n",
       "            \n",
       "        &lt;/tbody&gt;\n",
       "        \n",
       "        &lt;tbody class=&quot;first:border-t border-b border-zinc-500&quot;&gt;\n",
       "            \n",
       "                &lt;tr class=&quot;gsk-issue text-sm group peer text-left cursor-pointer hover:bg-zinc-700&quot;&gt;\n",
       "    &lt;td class=&quot;p-3&quot;&gt;\n",
       "        &lt;code class=&quot;mono text-blue-300&quot;&gt;`Age` &amp;lt; 0.607&lt;/code&gt;\n",
       "    &lt;/td&gt;\n",
       "    &lt;td class=&quot;p-3&quot;&gt;\n",
       "        Underconfidence rate = 0.024\n",
       "        &lt;span class=&quot;text-gray-400&quot;&gt;\n",
       "            (Global = 0.021)\n",
       "        &lt;/span&gt;\n",
       "    &lt;/td&gt;\n",
       "    &lt;td class=&quot;p-3&quot;&gt;\n",
       "        &lt;span class=&quot;text-amber-200&quot;&gt;\n",
       "            16.80% than global\n",
       "        &lt;/span&gt;\n",
       "    &lt;/td&gt;\n",
       "    &lt;td class=&quot;p-3&quot;&gt;\n",
       "        &lt;span class=&quot;text-gray-400&quot;&gt;\n",
       "            278 out of 11387 samples\n",
       "        &lt;/span&gt;\n",
       "    &lt;/td&gt;\n",
       "    &lt;td class=&quot;p-3 text-xs text-right space-x-1&quot;&gt;\n",
       "        &lt;a href=&quot;#&quot;\n",
       "            class=&quot;gsk-issue-detail-btn inline-block group-[.open]:hidden border border-zinc-100/50 text-zinc-100/90 hover:bg-zinc-500 hover:border-zinc-500 hover:text-white px-2 py-0.5 rounded-sm&quot;&gt;Show details&lt;/a&gt;\n",
       "        &lt;a href=&quot;#&quot;\n",
       "            class=&quot;hidden group-[.open]:inline-block gsk-issue-detail-btn border border-zinc-500 text-zinc-100/90 bg-zinc-500 hover:bg-zinc-400 hover:text-white px-2 py-0.5 rounded-sm&quot;&gt;Hide details&lt;/a&gt;\n",
       "    &lt;/td&gt;\n",
       "&lt;/tr&gt;\n",
       "&lt;tr class=&quot;gsk-issue-detail text-left hidden  peer-[.open]:table-row border-b border-zinc-500 bg-zinc-700&quot;&gt;\n",
       "    &lt;td colspan=&quot;5&quot; class=&quot;p-3&quot;&gt;\n",
       "        &lt;h4 class=&quot;font-bold text-sm&quot;&gt;Description&lt;/h4&gt;\n",
       "        &lt;div class=&quot;text-sm&quot;&gt;\n",
       "            &lt;p class=&quot;my-2&quot;&gt;\n",
       "                For records in your dataset where `Age` &amp;lt; 0.607,\n",
       "                we found a significantly higher number of underconfident predictions\n",
       "                (278 samples, corresponding to\n",
       "                2.4% of the predictions in the data slice).\n",
       "            &lt;/p&gt;\n",
       "        &lt;/div&gt;\n",
       "        &lt;h4 class=&quot;font-bold mt-4 text-sm&quot;&gt;Examples&lt;/h4&gt;\n",
       "        &lt;div class=&quot;text-white max-w-xl text-sm overflow-scroll&quot; style=&quot;max-width: 920px&quot;&gt;\n",
       "            &lt;div&gt;\n",
       "&lt;style scoped&gt;\n",
       "    .dataframe tbody tr th:only-of-type {\n",
       "        vertical-align: middle;\n",
       "    }\n",
       "\n",
       "    .dataframe tbody tr th {\n",
       "        vertical-align: top;\n",
       "    }\n",
       "\n",
       "    .dataframe thead th {\n",
       "        text-align: right;\n",
       "    }\n",
       "&lt;/style&gt;\n",
       "&lt;table border=&quot;1&quot; class=&quot;dataframe&quot;&gt;\n",
       "  &lt;thead&gt;\n",
       "    &lt;tr style=&quot;text-align: left;&quot;&gt;\n",
       "      &lt;th&gt;&lt;/th&gt;\n",
       "      &lt;th&gt;Age&lt;/th&gt;\n",
       "      &lt;th&gt;Predicted&lt;/th&gt;\n",
       "    &lt;/tr&gt;\n",
       "  &lt;/thead&gt;\n",
       "  &lt;tbody&gt;\n",
       "    &lt;tr&gt;\n",
       "      &lt;th&gt;44&lt;/th&gt;\n",
       "      &lt;td&gt;0.346939&lt;/td&gt;\n",
       "      &lt;td&gt;0 (p = 0.50)&lt;br&gt;1 (p = 0.50)&lt;/td&gt;\n",
       "    &lt;/tr&gt;\n",
       "    &lt;tr&gt;\n",
       "      &lt;th&gt;11710&lt;/th&gt;\n",
       "      &lt;td&gt;0.591837&lt;/td&gt;\n",
       "      &lt;td&gt;0 (p = 0.50)&lt;br&gt;1 (p = 0.50)&lt;/td&gt;\n",
       "    &lt;/tr&gt;\n",
       "    &lt;tr&gt;\n",
       "      &lt;th&gt;4307&lt;/th&gt;\n",
       "      &lt;td&gt;0.081633&lt;/td&gt;\n",
       "      &lt;td&gt;0 (p = 0.50)&lt;br&gt;1 (p = 0.50)&lt;/td&gt;\n",
       "    &lt;/tr&gt;\n",
       "  &lt;/tbody&gt;\n",
       "&lt;/table&gt;\n",
       "&lt;/div&gt;\n",
       "        &lt;/div&gt;\n",
       "    &lt;/td&gt;\n",
       "&lt;/tr&gt;\n",
       "            \n",
       "        &lt;/tbody&gt;\n",
       "        \n",
       "        &lt;tbody class=&quot;first:border-t border-b border-zinc-500&quot;&gt;\n",
       "            \n",
       "                &lt;tr class=&quot;gsk-issue text-sm group peer text-left cursor-pointer hover:bg-zinc-700&quot;&gt;\n",
       "    &lt;td class=&quot;p-3&quot;&gt;\n",
       "        &lt;code class=&quot;mono text-blue-300&quot;&gt;`Hypertension` == 0&lt;/code&gt;\n",
       "    &lt;/td&gt;\n",
       "    &lt;td class=&quot;p-3&quot;&gt;\n",
       "        Underconfidence rate = 0.023\n",
       "        &lt;span class=&quot;text-gray-400&quot;&gt;\n",
       "            (Global = 0.021)\n",
       "        &lt;/span&gt;\n",
       "    &lt;/td&gt;\n",
       "    &lt;td class=&quot;p-3&quot;&gt;\n",
       "        &lt;span class=&quot;text-amber-200&quot;&gt;\n",
       "            10.30% than global\n",
       "        &lt;/span&gt;\n",
       "    &lt;/td&gt;\n",
       "    &lt;td class=&quot;p-3&quot;&gt;\n",
       "        &lt;span class=&quot;text-gray-400&quot;&gt;\n",
       "            262 out of 11364 samples\n",
       "        &lt;/span&gt;\n",
       "    &lt;/td&gt;\n",
       "    &lt;td class=&quot;p-3 text-xs text-right space-x-1&quot;&gt;\n",
       "        &lt;a href=&quot;#&quot;\n",
       "            class=&quot;gsk-issue-detail-btn inline-block group-[.open]:hidden border border-zinc-100/50 text-zinc-100/90 hover:bg-zinc-500 hover:border-zinc-500 hover:text-white px-2 py-0.5 rounded-sm&quot;&gt;Show details&lt;/a&gt;\n",
       "        &lt;a href=&quot;#&quot;\n",
       "            class=&quot;hidden group-[.open]:inline-block gsk-issue-detail-btn border border-zinc-500 text-zinc-100/90 bg-zinc-500 hover:bg-zinc-400 hover:text-white px-2 py-0.5 rounded-sm&quot;&gt;Hide details&lt;/a&gt;\n",
       "    &lt;/td&gt;\n",
       "&lt;/tr&gt;\n",
       "&lt;tr class=&quot;gsk-issue-detail text-left hidden  peer-[.open]:table-row border-b border-zinc-500 bg-zinc-700&quot;&gt;\n",
       "    &lt;td colspan=&quot;5&quot; class=&quot;p-3&quot;&gt;\n",
       "        &lt;h4 class=&quot;font-bold text-sm&quot;&gt;Description&lt;/h4&gt;\n",
       "        &lt;div class=&quot;text-sm&quot;&gt;\n",
       "            &lt;p class=&quot;my-2&quot;&gt;\n",
       "                For records in your dataset where `Hypertension` == 0,\n",
       "                we found a significantly higher number of underconfident predictions\n",
       "                (262 samples, corresponding to\n",
       "                2.3% of the predictions in the data slice).\n",
       "            &lt;/p&gt;\n",
       "        &lt;/div&gt;\n",
       "        &lt;h4 class=&quot;font-bold mt-4 text-sm&quot;&gt;Examples&lt;/h4&gt;\n",
       "        &lt;div class=&quot;text-white max-w-xl text-sm overflow-scroll&quot; style=&quot;max-width: 920px&quot;&gt;\n",
       "            &lt;div&gt;\n",
       "&lt;style scoped&gt;\n",
       "    .dataframe tbody tr th:only-of-type {\n",
       "        vertical-align: middle;\n",
       "    }\n",
       "\n",
       "    .dataframe tbody tr th {\n",
       "        vertical-align: top;\n",
       "    }\n",
       "\n",
       "    .dataframe thead th {\n",
       "        text-align: right;\n",
       "    }\n",
       "&lt;/style&gt;\n",
       "&lt;table border=&quot;1&quot; class=&quot;dataframe&quot;&gt;\n",
       "  &lt;thead&gt;\n",
       "    &lt;tr style=&quot;text-align: left;&quot;&gt;\n",
       "      &lt;th&gt;&lt;/th&gt;\n",
       "      &lt;th&gt;Hypertension&lt;/th&gt;\n",
       "      &lt;th&gt;Predicted&lt;/th&gt;\n",
       "    &lt;/tr&gt;\n",
       "  &lt;/thead&gt;\n",
       "  &lt;tbody&gt;\n",
       "    &lt;tr&gt;\n",
       "      &lt;th&gt;44&lt;/th&gt;\n",
       "      &lt;td&gt;0&lt;/td&gt;\n",
       "      &lt;td&gt;0 (p = 0.50)&lt;br&gt;1 (p = 0.50)&lt;/td&gt;\n",
       "    &lt;/tr&gt;\n",
       "    &lt;tr&gt;\n",
       "      &lt;th&gt;4476&lt;/th&gt;\n",
       "      &lt;td&gt;0&lt;/td&gt;\n",
       "      &lt;td&gt;0 (p = 0.50)&lt;br&gt;1 (p = 0.50)&lt;/td&gt;\n",
       "    &lt;/tr&gt;\n",
       "    &lt;tr&gt;\n",
       "      &lt;th&gt;9594&lt;/th&gt;\n",
       "      &lt;td&gt;0&lt;/td&gt;\n",
       "      &lt;td&gt;0 (p = 0.50)&lt;br&gt;1 (p = 0.50)&lt;/td&gt;\n",
       "    &lt;/tr&gt;\n",
       "  &lt;/tbody&gt;\n",
       "&lt;/table&gt;\n",
       "&lt;/div&gt;\n",
       "        &lt;/div&gt;\n",
       "    &lt;/td&gt;\n",
       "&lt;/tr&gt;\n",
       "            \n",
       "        &lt;/tbody&gt;\n",
       "        \n",
       "    &lt;/table&gt;\n",
       "&lt;/div&gt;\n",
       "&lt;/div&gt;\n",
       "\n",
       "\n",
       "\n",
       "        \n",
       "        &lt;div class=&quot;p-4&quot;&gt;\n",
       "    &lt;h2 class=&quot;my-4 mr-2 font-medium&quot;&gt;Debug your issues in the Giskard server&lt;/h2&gt;\n",
       "    \n",
       "    &lt;p class=&quot;text-sm my-1&quot;&gt;\n",
       "        Install the Giskard server app to:\n",
       "    &lt;/p&gt;\n",
       "    &lt;ul class=&quot;list-disc ml-4 my-1 text-sm&quot;&gt;\n",
       "        &lt;li&gt;Debug and diagnose your scan issues&lt;/li&gt;\n",
       "        &lt;li&gt;Save your scan result as a re-executable test suite to benchmark your model&lt;/li&gt;\n",
       "        &lt;li&gt;Extend your test suite with &lt;a href=&quot;https://docs.giskard.ai/en/latest/reference/tests/index.html&quot; target=&quot;_blank&quot; class=&quot;underline&quot; rel=&quot;noopener&quot;&gt;our catalog of ready-to-use tests&lt;/a&gt;&lt;/li&gt;\n",
       "    &lt;/ul&gt;\n",
       "    &lt;p class=&quot;text-sm my-1&quot;&gt;\n",
       "        You can find &lt;a href=&quot;https://docs.giskard.ai/en/latest/guides/installation_app/index.html&quot; target=&quot;_blank&quot; rel=&quot;noopener&quot;&gt;installation instructions here.&lt;/a&gt;\n",
       "    &lt;/p&gt;\n",
       "    &lt;div class=&quot;text-sm my-2&quot;&gt;\n",
       "        &lt;pre&gt;&lt;code class=&quot;language-python rounded&quot;&gt;from giskard import GiskardClient\n",
       "\n",
       "# Create a test suite from your scan results\n",
       "test_suite = results.generate_test_suite(&quot;My first test suite&quot;)\n",
       "\n",
       "# Upload your test suite to your Giskard server instance\n",
       "client = GiskardClient(&quot;http://localhost:19000&quot;, &quot;GISKARD_API_KEY&quot;)\n",
       "client.create_project(&quot;my_project_id&quot;, &quot;my_project_name&quot;)\n",
       "test_suite.upload(client, &quot;my_project_id&quot;)\n",
       "&lt;/code&gt;&lt;/pre&gt;\n",
       "    &lt;/div&gt;\n",
       "&lt;/div&gt;\n",
       "        \n",
       "    &lt;/div&gt;\n",
       "&lt;/div&gt;\n",
       "\n",
       "    \n",
       "&lt;script type=&quot;text/javascript&quot;&gt;\n",
       "&quot;use strict&quot;;function _typeof(u){return(_typeof=&quot;function&quot;==typeof Symbol&amp;&amp;&quot;symbol&quot;==typeof Symbol.iterator?function(u){return typeof u}:function(u){return u&amp;&amp;&quot;function&quot;==typeof Symbol&amp;&amp;u.constructor===Symbol&amp;&amp;u!==Symbol.prototype?&quot;symbol&quot;:typeof u})(u)}function _wrapNativeSuper(u){var e=&quot;function&quot;==typeof Map?new Map:void 0;return(_wrapNativeSuper=function(u){if(null===u||!_isNativeFunction(u))return u;if(&quot;function&quot;!=typeof u)throw new TypeError(&quot;Super expression must either be null or a function&quot;);if(void 0!==e){if(e.has(u))return e.get(u);e.set(u,t)}function t(){return _construct(u,arguments,_getPrototypeOf(this).constructor)}return t.prototype=Object.create(u.prototype,{constructor:{value:t,enumerable:!1,writable:!0,configurable:!0}}),_setPrototypeOf(t,u)})(u)}function _construct(u,e,t){return(_construct=_isNativeReflectConstruct()?Reflect.construct.bind():function(u,e,t){var n=[null];n.push.apply(n,e);var D=new(Function.bind.apply(u,n));return t&amp;&amp;_setPrototypeOf(D,t.prototype),D}).apply(null,arguments)}function _isNativeFunction(u){return-1!==Function.toString.call(u).indexOf(&quot;[native code]&quot;)}function _slicedToArray(u,e){return _arrayWithHoles(u)||_iterableToArrayLimit(u,e)||_unsupportedIterableToArray(u,e)||_nonIterableRest()}function _nonIterableRest(){throw new TypeError(&quot;Invalid attempt to destructure non-iterable instance.\\nIn order to be iterable, non-array objects must have a [Symbol.iterator]() method.&quot;)}function _iterableToArrayLimit(u,e){var t=null==u?null:&quot;undefined&quot;!=typeof Symbol&amp;&amp;u[Symbol.iterator]||u[&quot;@@iterator&quot;];if(null!=t){var n,D,r,o,i=[],a=!0,c=!1;try{if(r=(t=t.call(u)).next,0===e){if(Object(t)!==t)return;a=!1}else for(;!(a=(n=r.call(t)).done)&amp;&amp;(i.push(n.value),i.length!==e);a=!0);}catch(u){c=!0,D=u}finally{try{if(!a&amp;&amp;null!=t.return&amp;&amp;(o=t.return(),Object(o)!==o))return}finally{if(c)throw D}}return i}}function _arrayWithHoles(u){if(Array.isArray(u))return u}function _inherits(u,e){if(&quot;function&quot;!=typeof e&amp;&amp;null!==e)throw new TypeError(&quot;Super expression must either be null or a function&quot;);u.prototype=Object.create(e&amp;&amp;e.prototype,{constructor:{value:u,writable:!0,configurable:!0}}),Object.defineProperty(u,&quot;prototype&quot;,{writable:!1}),e&amp;&amp;_setPrototypeOf(u,e)}function _setPrototypeOf(u,e){return(_setPrototypeOf=Object.setPrototypeOf?Object.setPrototypeOf.bind():function(u,e){return u.__proto__=e,u})(u,e)}function _createSuper(u){var e=_isNativeReflectConstruct();return function(){var t,n=_getPrototypeOf(u);if(e){var D=_getPrototypeOf(this).constructor;t=Reflect.construct(n,arguments,D)}else t=n.apply(this,arguments);return _possibleConstructorReturn(this,t)}}function _possibleConstructorReturn(u,e){if(e&amp;&amp;(&quot;object&quot;===_typeof(e)||&quot;function&quot;==typeof e))return e;if(void 0!==e)throw new TypeError(&quot;Derived constructors may only return object or undefined&quot;);return _assertThisInitialized(u)}function _assertThisInitialized(u){if(void 0===u)throw new ReferenceError(&quot;this hasn&#x27;t been initialised - super() hasn&#x27;t been called&quot;);return u}function _isNativeReflectConstruct(){if(&quot;undefined&quot;==typeof Reflect||!Reflect.construct)return!1;if(Reflect.construct.sham)return!1;if(&quot;function&quot;==typeof Proxy)return!0;try{return Boolean.prototype.valueOf.call(Reflect.construct(Boolean,[],function(){})),!0}catch(u){return!1}}function _getPrototypeOf(u){return(_getPrototypeOf=Object.setPrototypeOf?Object.getPrototypeOf.bind():function(u){return u.__proto__||Object.getPrototypeOf(u)})(u)}function _toConsumableArray(u){return _arrayWithoutHoles(u)||_iterableToArray(u)||_unsupportedIterableToArray(u)||_nonIterableSpread()}function _nonIterableSpread(){throw new TypeError(&quot;Invalid attempt to spread non-iterable instance.\\nIn order to be iterable, non-array objects must have a [Symbol.iterator]() method.&quot;)}function _unsupportedIterableToArray(u,e){if(u){if(&quot;string&quot;==typeof u)return _arrayLikeToArray(u,e);var t=Object.prototype.toString.call(u).slice(8,-1);return&quot;Object&quot;===t&amp;&amp;u.constructor&amp;&amp;(t=u.constructor.name),&quot;Map&quot;===t||&quot;Set&quot;===t?Array.from(u):&quot;Arguments&quot;===t||/^(?:Ui|I)nt(?:8|16|32)(?:Clamped)?Array$/.test(t)?_arrayLikeToArray(u,e):void 0}}function _iterableToArray(u){if(&quot;undefined&quot;!=typeof Symbol&amp;&amp;null!=u[Symbol.iterator]||null!=u[&quot;@@iterator&quot;])return Array.from(u)}function _arrayWithoutHoles(u){if(Array.isArray(u))return _arrayLikeToArray(u)}function _arrayLikeToArray(u,e){(null==e||e&gt;u.length)&amp;&amp;(e=u.length);for(var t=0,n=new Array(e);t&lt;e;t++)n[t]=u[t];return n}function _classCallCheck(u,e){if(!(u instanceof e))throw new TypeError(&quot;Cannot call a class as a function&quot;)}function _defineProperties(u,e){for(var t=0;t&lt;e.length;t++){var n=e[t];n.enumerable=n.enumerable||!1,n.configurable=!0,&quot;value&quot;in n&amp;&amp;(n.writable=!0),Object.defineProperty(u,_toPropertyKey(n.key),n)}}function _createClass(u,e,t){return e&amp;&amp;_defineProperties(u.prototype,e),t&amp;&amp;_defineProperties(u,t),Object.defineProperty(u,&quot;prototype&quot;,{writable:!1}),u}function _toPropertyKey(u){var e=_toPrimitive(u,&quot;string&quot;);return&quot;symbol&quot;===_typeof(e)?e:String(e)}function _toPrimitive(u,e){if(&quot;object&quot;!==_typeof(u)||null===u)return u;var t=u[Symbol.toPrimitive];if(void 0!==t){var n=t.call(u,e||&quot;default&quot;);if(&quot;object&quot;!==_typeof(n))return n;throw new TypeError(&quot;@@toPrimitive must return a primitive value.&quot;)}return(&quot;string&quot;===e?String:Number)(u)}function _typeof(u){return(_typeof=&quot;function&quot;==typeof Symbol&amp;&amp;&quot;symbol&quot;==typeof Symbol.iterator?function(u){return typeof u}:function(u){return u&amp;&amp;&quot;function&quot;==typeof Symbol&amp;&amp;u.constructor===Symbol&amp;&amp;u!==Symbol.prototype?&quot;symbol&quot;:typeof u})(u)}!function(u){if(&quot;undefined&quot;!=typeof window){var e=!0,t=&quot;&quot;,n=0,D=&quot;&quot;,r=null,o=&quot;&quot;,i=!1,a={resize:1,click:1},c=128,s=!0,l=1,F=&quot;bodyOffset&quot;,C=F,E=!0,d=&quot;&quot;,f={},A=32,g=null,h=!1,p=!1,B=&quot;[iFrameSizer]&quot;,m=B.length,y=&quot;&quot;,b={max:1,min:1,bodyScroll:1,documentElementScroll:1},v=&quot;child&quot;,w=!0,_=window.parent,S=&quot;*&quot;,x=0,k=!1,O=null,T=16,N=1,M=&quot;scroll&quot;,R=M,j=window,I=function(){Du(&quot;onMessage function not defined&quot;)},L=function(){},P=function(){},H={height:function(){return Du(&quot;Custom height calculation function not defined&quot;),document.documentElement.offsetHeight},width:function(){return Du(&quot;Custom width calculation function not defined&quot;),document.body.scrollWidth}},z={},U=!1;try{var K=Object.create({},{passive:{get:function(){U=!0}}});window.addEventListener(&quot;test&quot;,Q,K),window.removeEventListener(&quot;test&quot;,Q,K)}catch(Au){}var W,q,X,G,J,Z,$={bodyOffset:function(){return document.body.offsetHeight+du(&quot;marginTop&quot;)+du(&quot;marginBottom&quot;)},offset:function(){return $.bodyOffset()},bodyScroll:function(){return document.body.scrollHeight},custom:function(){return H.height()},documentElementOffset:function(){return document.documentElement.offsetHeight},documentElementScroll:function(){return document.documentElement.scrollHeight},max:function(){return Math.max.apply(null,Au($))},min:function(){return Math.min.apply(null,Au($))},grow:function(){return $.max()},lowestElement:function(){return Math.max($.bodyOffset()||$.documentElementOffset(),fu(&quot;bottom&quot;,hu()))},taggedElement:function(){return gu(&quot;bottom&quot;,&quot;data-iframe-height&quot;)}},V={bodyScroll:function(){return document.body.scrollWidth},bodyOffset:function(){return document.body.offsetWidth},custom:function(){return H.width()},documentElementScroll:function(){return document.documentElement.scrollWidth},documentElementOffset:function(){return document.documentElement.offsetWidth},scroll:function(){return Math.max(V.bodyScroll(),V.documentElementScroll())},max:function(){return Math.max.apply(null,Au(V))},min:function(){return Math.min.apply(null,Au(V))},rightMostElement:function(){return fu(&quot;right&quot;,hu())},taggedElement:function(){return gu(&quot;right&quot;,&quot;data-iframe-width&quot;)}},Y=(W=pu,J=null,Z=0,function(){var u=Date.now(),e=T-(u-(Z=Z||u));return q=this,X=arguments,e&lt;=0||T&lt;e?(J&amp;&amp;(clearTimeout(J),J=null),Z=u,G=W.apply(q,X),J||(q=X=null)):J=J||setTimeout(Bu,e),G});uu(window,&quot;message&quot;,function(e){var t={init:function(){d=e.data,_=e.source,ru(),s=!1,setTimeout(function(){E=!1},c)},reset:function(){E?nu(&quot;Page reset ignored by init&quot;):(nu(&quot;Page size reset by host page&quot;),bu(&quot;resetPage&quot;))},resize:function(){mu(&quot;resizeParent&quot;,&quot;Parent window requested size check&quot;)},moveToAnchor:function(){f.findTarget(D())},inPageLink:function(){this.moveToAnchor()},pageInfo:function(){var u=D();nu(&quot;PageInfoFromParent called from parent: &quot;+u),P(JSON.parse(u)),nu(&quot; --&quot;)},message:function(){var u=D();nu(&quot;onMessage called from parent: &quot;+u),I(JSON.parse(u)),nu(&quot; --&quot;)}};function n(){return e.data.split(&quot;]&quot;)[1].split(&quot;:&quot;)[0]}function D(){return e.data.slice(e.data.indexOf(&quot;:&quot;)+1)}function r(){return e.data.split(&quot;:&quot;)[2]in{true:1,false:1}}B===(&quot;&quot;+e.data).slice(0,m)&amp;&amp;(!1===s?function(){var D=n();D in t?t[D]():(&quot;undefined&quot;==typeof module||!module.exports)&amp;&amp;&quot;iFrameResize&quot;in window||window.jQuery!==u&amp;&amp;&quot;iFrameResize&quot;in window.jQuery.prototype||r()||Du(&quot;Unexpected message (&quot;+e.data+&quot;)&quot;)}():r()?t.init():nu(&#x27;Ignored message of type &quot;&#x27;+n()+&#x27;&quot;. Received before initialization.&#x27;))}),uu(window,&quot;readystatechange&quot;,_u),_u()}function Q(){}function uu(u,e,t,n){u.addEventListener(e,t,!!U&amp;&amp;(n||{}))}function eu(u){return u.charAt(0).toUpperCase()+u.slice(1)}function tu(u){return B+&quot;[&quot;+y+&quot;] &quot;+u}function nu(u){h&amp;&amp;&quot;object&quot;==_typeof(window.console)&amp;&amp;console.log(tu(u))}function Du(u){&quot;object&quot;==_typeof(window.console)&amp;&amp;console.warn(tu(u))}function ru(){function a(u){return&quot;true&quot;===u}function s(u,e){return&quot;function&quot;==typeof u&amp;&amp;(nu(&quot;Setup custom &quot;+e+&quot;CalcMethod&quot;),H[e]=u,u=&quot;custom&quot;),u}var l;function F(u){wu(0,0,u.type,u.screenY+&quot;:&quot;+u.screenX)}function E(u,e){nu(&quot;Add event listener: &quot;+e),uu(window.document,u,F)}l=d.slice(m).split(&quot;:&quot;),y=l[0],n=u===l[1]?n:Number(l[1]),i=u===l[2]?i:a(l[2]),h=u===l[3]?h:a(l[3]),A=u===l[4]?A:Number(l[4]),e=u===l[6]?e:a(l[6]),D=l[7],C=u===l[8]?C:l[8],t=l[9],o=l[10],x=u===l[11]?x:Number(l[11]),f.enable=u!==l[12]&amp;&amp;a(l[12]),v=u===l[13]?v:l[13],R=u===l[14]?R:l[14],p=u===l[15]?p:a(l[15]),nu(&quot;Initialising iFrame (&quot;+window.location.href+&quot;)&quot;),&quot;iFrameResizer&quot;in window&amp;&amp;Object===window.iFrameResizer.constructor&amp;&amp;(l=window.iFrameResizer,nu(&quot;Reading data from page: &quot;+JSON.stringify(l)),Object.keys(l).forEach(ou,l),I=&quot;onMessage&quot;in l?l.onMessage:I,L=&quot;onReady&quot;in l?l.onReady:L,S=&quot;targetOrigin&quot;in l?l.targetOrigin:S,C=&quot;heightCalculationMethod&quot;in l?l.heightCalculationMethod:C,R=&quot;widthCalculationMethod&quot;in l?l.widthCalculationMethod:R,C=s(C,&quot;height&quot;),R=s(R,&quot;width&quot;)),nu(&quot;TargetOrigin for parent set to: &quot;+S),iu(&quot;margin&quot;,function(u,e){return-1!==e.indexOf(&quot;-&quot;)&amp;&amp;(Du(&quot;Negative CSS value ignored for margin&quot;),e=&quot;&quot;),e}(0,D=u===D?n+&quot;px&quot;:D)),iu(&quot;background&quot;,t),iu(&quot;padding&quot;,o),(l=document.createElement(&quot;div&quot;)).style.clear=&quot;both&quot;,l.style.display=&quot;block&quot;,l.style.height=&quot;0&quot;,document.body.appendChild(l),lu(),Fu(),document.documentElement.style.height=&quot;&quot;,document.body.style.height=&quot;&quot;,nu(&#x27;HTML &amp; body height set to &quot;auto&quot;&#x27;),nu(&quot;Enable public methods&quot;),j.parentIFrame={autoResize:function(u){return!0===u&amp;&amp;!1===e?(e=!0,Cu()):!1===u&amp;&amp;!0===e&amp;&amp;(e=!1,cu(&quot;remove&quot;),null!==r&amp;&amp;r.disconnect(),clearInterval(g)),wu(0,0,&quot;autoResize&quot;,JSON.stringify(e)),e},close:function(){wu(0,0,&quot;close&quot;)},getId:function(){return y},getPageInfo:function(u){&quot;function&quot;==typeof u?(P=u,wu(0,0,&quot;pageInfo&quot;)):(P=function(){},wu(0,0,&quot;pageInfoStop&quot;))},moveToAnchor:function(u){f.findTarget(u)},reset:function(){vu(&quot;parentIFrame.reset&quot;)},scrollTo:function(u,e){wu(e,u,&quot;scrollTo&quot;)},scrollToOffset:function(u,e){wu(e,u,&quot;scrollToOffset&quot;)},sendMessage:function(u,e){wu(0,0,&quot;message&quot;,JSON.stringify(u),e)},setHeightCalculationMethod:function(u){C=u,lu()},setWidthCalculationMethod:function(u){R=u,Fu()},setTargetOrigin:function(u){nu(&quot;Set targetOrigin: &quot;+u),S=u},size:function(u,e){mu(&quot;size&quot;,&quot;parentIFrame.size(&quot;+(u||&quot;&quot;)+(e?&quot;,&quot;+e:&quot;&quot;)+&quot;)&quot;,u,e)}},!0===p&amp;&amp;(E(&quot;mouseenter&quot;,&quot;Mouse Enter&quot;),E(&quot;mouseleave&quot;,&quot;Mouse Leave&quot;)),Cu(),f=function(){function e(e){e=e.split(&quot;#&quot;)[1]||e;var t=decodeURIComponent(e);t=document.getElementById(t)||document.getElementsByName(t)[0];u===t?(nu(&quot;In page link (#&quot;+e+&quot;) not found in iFrame, so sending to parent&quot;),wu(0,0,&quot;inPageLink&quot;,&quot;#&quot;+e)):(t=function(e){e=e.getBoundingClientRect();var t={x:window.pageXOffset===u?document.documentElement.scrollLeft:window.pageXOffset,y:window.pageYOffset===u?document.documentElement.scrollTop:window.pageYOffset};return{x:parseInt(e.left,10)+parseInt(t.x,10),y:parseInt(e.top,10)+parseInt(t.y,10)}}(t=t),nu(&quot;Moving to in page link (#&quot;+e+&quot;) at x: &quot;+t.x+&quot; y: &quot;+t.y),wu(t.y,t.x,&quot;scrollToOffset&quot;))}function t(){var u=window.location.hash,t=window.location.href;&quot;&quot;!==u&amp;&amp;&quot;#&quot;!==u&amp;&amp;e(t)}return f.enable?Array.prototype.forEach&amp;&amp;document.querySelectorAll?(nu(&quot;Setting up location.hash handlers&quot;),Array.prototype.forEach.call(document.querySelectorAll(&#x27;a[href^=&quot;#&quot;]&#x27;),function(u){&quot;#&quot;!==u.getAttribute(&quot;href&quot;)&amp;&amp;uu(u,&quot;click&quot;,function(u){u.preventDefault(),e(this.getAttribute(&quot;href&quot;))})}),uu(window,&quot;hashchange&quot;,t),setTimeout(t,c)):Du(&quot;In page linking not fully supported in this browser! (See README.md for IE8 workaround)&quot;):nu(&quot;In page linking not enabled&quot;),{findTarget:e}}(),mu(&quot;init&quot;,&quot;Init message from host page&quot;),L()}function ou(u){var e=u.split(&quot;Callback&quot;);2===e.length&amp;&amp;(this[e=&quot;on&quot;+e[0].charAt(0).toUpperCase()+e[0].slice(1)]=this[u],delete this[u],Du(&quot;Deprecated: &#x27;&quot;+u+&quot;&#x27; has been renamed &#x27;&quot;+e+&quot;&#x27;. The old method will be removed in the next major version.&quot;))}function iu(e,t){u!==t&amp;&amp;&quot;&quot;!==t&amp;&amp;&quot;null&quot;!==t&amp;&amp;nu(&quot;Body &quot;+e+&#x27; set to &quot;&#x27;+(document.body.style[e]=t)+&#x27;&quot;&#x27;)}function au(u){var e={add:function(e){function t(){mu(u.eventName,u.eventType)}z[e]=t,uu(window,e,t,{passive:!0})},remove:function(u){var e=z[u];delete z[u],window.removeEventListener(u,e,!1)}};u.eventNames&amp;&amp;Array.prototype.map?(u.eventName=u.eventNames[0],u.eventNames.map(e[u.method])):e[u.method](u.eventName),nu(eu(u.method)+&quot; event listener: &quot;+u.eventType)}function cu(u){au({method:u,eventType:&quot;Animation Start&quot;,eventNames:[&quot;animationstart&quot;,&quot;webkitAnimationStart&quot;]}),au({method:u,eventType:&quot;Animation Iteration&quot;,eventNames:[&quot;animationiteration&quot;,&quot;webkitAnimationIteration&quot;]}),au({method:u,eventType:&quot;Animation End&quot;,eventNames:[&quot;animationend&quot;,&quot;webkitAnimationEnd&quot;]}),au({method:u,eventType:&quot;Input&quot;,eventName:&quot;input&quot;}),au({method:u,eventType:&quot;Mouse Up&quot;,eventName:&quot;mouseup&quot;}),au({method:u,eventType:&quot;Mouse Down&quot;,eventName:&quot;mousedown&quot;}),au({method:u,eventType:&quot;Orientation Change&quot;,eventName:&quot;orientationchange&quot;}),au({method:u,eventType:&quot;Print&quot;,eventNames:[&quot;afterprint&quot;,&quot;beforeprint&quot;]}),au({method:u,eventType:&quot;Ready State Change&quot;,eventName:&quot;readystatechange&quot;}),au({method:u,eventType:&quot;Touch Start&quot;,eventName:&quot;touchstart&quot;}),au({method:u,eventType:&quot;Touch End&quot;,eventName:&quot;touchend&quot;}),au({method:u,eventType:&quot;Touch Cancel&quot;,eventName:&quot;touchcancel&quot;}),au({method:u,eventType:&quot;Transition Start&quot;,eventNames:[&quot;transitionstart&quot;,&quot;webkitTransitionStart&quot;,&quot;MSTransitionStart&quot;,&quot;oTransitionStart&quot;,&quot;otransitionstart&quot;]}),au({method:u,eventType:&quot;Transition Iteration&quot;,eventNames:[&quot;transitioniteration&quot;,&quot;webkitTransitionIteration&quot;,&quot;MSTransitionIteration&quot;,&quot;oTransitionIteration&quot;,&quot;otransitioniteration&quot;]}),au({method:u,eventType:&quot;Transition End&quot;,eventNames:[&quot;transitionend&quot;,&quot;webkitTransitionEnd&quot;,&quot;MSTransitionEnd&quot;,&quot;oTransitionEnd&quot;,&quot;otransitionend&quot;]}),&quot;child&quot;===v&amp;&amp;au({method:u,eventType:&quot;IFrame Resized&quot;,eventName:&quot;resize&quot;})}function su(u,e,t,n){return e!==u&amp;&amp;(u in t||(Du(u+&quot; is not a valid option for &quot;+n+&quot;CalculationMethod.&quot;),u=e),nu(n+&#x27; calculation method set to &quot;&#x27;+u+&#x27;&quot;&#x27;)),u}function lu(){C=su(C,F,$,&quot;height&quot;)}function Fu(){R=su(R,M,V,&quot;width&quot;)}function Cu(){var u;!0===e?(cu(&quot;add&quot;),u=A&lt;0,window.MutationObserver||window.WebKitMutationObserver?u?Eu():r=function(){function u(u){function e(u){!1===u.complete&amp;&amp;(nu(&quot;Attach listeners to &quot;+u.src),u.addEventListener(&quot;load&quot;,n,!1),u.addEventListener(&quot;error&quot;,D,!1),i.push(u))}&quot;attributes&quot;===u.type&amp;&amp;&quot;src&quot;===u.attributeName?e(u.target):&quot;childList&quot;===u.type&amp;&amp;Array.prototype.forEach.call(u.target.querySelectorAll(&quot;img&quot;),e)}function e(u){nu(&quot;Remove listeners from &quot;+u.src),u.removeEventListener(&quot;load&quot;,n,!1),u.removeEventListener(&quot;error&quot;,D,!1),i.splice(i.indexOf(u),1)}function t(u,t,n){e(u.target),mu(t,n+&quot;: &quot;+u.target.src)}function n(u){t(u,&quot;imageLoad&quot;,&quot;Image loaded&quot;)}function D(u){t(u,&quot;imageLoadFailed&quot;,&quot;Image load failed&quot;)}function r(e){mu(&quot;mutationObserver&quot;,&quot;mutationObserver: &quot;+e[0].target+&quot; &quot;+e[0].type),e.forEach(u)}var o,i=[],a=window.MutationObserver||window.WebKitMutationObserver,c=(o=document.querySelector(&quot;body&quot;),c=new a(r),nu(&quot;Create body MutationObserver&quot;),c.observe(o,{attributes:!0,attributeOldValue:!1,characterData:!0,characterDataOldValue:!1,childList:!0,subtree:!0}),c);return{disconnect:function(){&quot;disconnect&quot;in c&amp;&amp;(nu(&quot;Disconnect body MutationObserver&quot;),c.disconnect(),i.forEach(e))}}}():(nu(&quot;MutationObserver not supported in this browser!&quot;),Eu())):nu(&quot;Auto Resize disabled&quot;)}function Eu(){0!==A&amp;&amp;(nu(&quot;setInterval: &quot;+A+&quot;ms&quot;),g=setInterval(function(){mu(&quot;interval&quot;,&quot;setInterval: &quot;+A)},Math.abs(A)))}function du(u,e){return e=e||document.body,e=null===(e=document.defaultView.getComputedStyle(e,null))?0:e[u],parseInt(e,10)}function fu(u,e){for(var t,n=e.length,D=0,r=eu(u),o=Date.now(),i=0;i&lt;n;i++)D&lt;(t=e[i].getBoundingClientRect()[u]+du(&quot;margin&quot;+r,e[i]))&amp;&amp;(D=t);return o=Date.now()-o,nu(&quot;Parsed &quot;+n+&quot; HTML elements&quot;),nu(&quot;Element position calculated in &quot;+o+&quot;ms&quot;),T/2&lt;(o=o)&amp;&amp;nu(&quot;Event throttle increased to &quot;+(T=2*o)+&quot;ms&quot;),D}function Au(u){return[u.bodyOffset(),u.bodyScroll(),u.documentElementOffset(),u.documentElementScroll()]}function gu(u,e){var t=document.querySelectorAll(&quot;[&quot;+e+&quot;]&quot;);return 0===t.length&amp;&amp;(Du(&quot;No tagged elements (&quot;+e+&quot;) found on page&quot;),document.querySelectorAll(&quot;body *&quot;)),fu(u,t)}function hu(){return document.querySelectorAll(&quot;body *&quot;)}function pu(e,t,n,D){function r(u,e){return!(Math.abs(u-e)&lt;=x)}n=u===n?$[C]():n,D=u===D?V[R]():D,r(l,n)||i&amp;&amp;r(N,D)||&quot;init&quot;===e?(yu(),wu(l=n,N=D,e)):e in{init:1,interval:1,size:1}||!(C in b||i&amp;&amp;R in b)?e in{interval:1}||nu(&quot;No change in size detected&quot;):vu(t)}function Bu(){Z=Date.now(),J=null,G=W.apply(q,X),J||(q=X=null)}function mu(u,e,t,n){k&amp;&amp;u in a?nu(&quot;Trigger event cancelled: &quot;+u):(u in{reset:1,resetPage:1,init:1}||nu(&quot;Trigger event: &quot;+e),(&quot;init&quot;===u?pu:Y)(u,e,t,n))}function yu(){k||(k=!0,nu(&quot;Trigger event lock on&quot;)),clearTimeout(O),O=setTimeout(function(){k=!1,nu(&quot;Trigger event lock off&quot;),nu(&quot;--&quot;)},c)}function bu(u){l=$[C](),N=V[R](),wu(l,N,u)}function vu(u){var e=C;C=F,nu(&quot;Reset trigger event: &quot;+u),yu(),bu(&quot;reset&quot;),C=e}function wu(e,t,n,D,r){!0===w&amp;&amp;(u===r?r=S:nu(&quot;Message targetOrigin: &quot;+r),nu(&quot;Sending message to host page (&quot;+(e=y+&quot;:&quot;+e+&quot;:&quot;+t+&quot;:&quot;+n+(u===D?&quot;&quot;:&quot;:&quot;+D))+&quot;)&quot;),_.postMessage(B+e,r))}function _u(){&quot;loading&quot;!==document.readyState&amp;&amp;window.parent.postMessage(&quot;[iFrameResizerChild]Ready&quot;,&quot;*&quot;)}}();var hljs=function(){var u={exports:{}};function e(u){return u instanceof Map?u.clear=u.delete=u.set=function(){throw Error(&quot;map is read-only&quot;)}:u instanceof Set&amp;&amp;(u.add=u.clear=u.delete=function(){throw Error(&quot;set is read-only&quot;)}),Object.freeze(u),Object.getOwnPropertyNames(u).forEach(function(t){var n=u[t];&quot;object&quot;!=_typeof(n)||Object.isFrozen(n)||e(n)}),u}u.exports=e,u.exports.default=e;var t=function(){function u(e){_classCallCheck(this,u),void 0===e.data&amp;&amp;(e.data={}),this.data=e.data,this.isMatchIgnored=!1}return _createClass(u,[{key:&quot;ignoreMatch&quot;,value:function(){this.isMatchIgnored=!0}}]),u}();function n(u){return u.replace(/&amp;/g,&quot;&amp;amp;&quot;).replace(/&lt;/g,&quot;&amp;lt;&quot;).replace(/&gt;/g,&quot;&amp;gt;&quot;).replace(/&quot;/g,&quot;&amp;quot;&quot;).replace(/&#x27;/g,&quot;&amp;#x27;&quot;)}function D(u){var e=Object.create(null);for(var t in u)e[t]=u[t];for(var n=arguments.length,D=new Array(n&gt;1?n-1:0),r=1;r&lt;n;r++)D[r-1]=arguments[r];return D.forEach(function(u){for(var t in u)e[t]=u[t]}),e}var r=function(u){return!!u.scope||u.sublanguage&amp;&amp;u.language},o=function(){function u(e,t){_classCallCheck(this,u),this.buffer=&quot;&quot;,this.classPrefix=t.classPrefix,e.walk(this)}return _createClass(u,[{key:&quot;addText&quot;,value:function(u){this.buffer+=n(u)}},{key:&quot;openNode&quot;,value:function(u){if(r(u)){var e;e=u.sublanguage?&quot;language-&quot;+u.language:function(u,e){var t=e.prefix;if(u.includes(&quot;.&quot;)){var n=u.split(&quot;.&quot;);return[&quot;&quot;.concat(t).concat(n.shift())].concat(_toConsumableArray(n.map(function(u,e){return&quot;&quot;.concat(u).concat(&quot;_&quot;.repeat(e+1))}))).join(&quot; &quot;)}return&quot;&quot;.concat(t).concat(u)}(u.scope,{prefix:this.classPrefix}),this.span(e)}}},{key:&quot;closeNode&quot;,value:function(u){r(u)&amp;&amp;(this.buffer+=&quot;&lt;/span&gt;&quot;)}},{key:&quot;value&quot;,value:function(){return this.buffer}},{key:&quot;span&quot;,value:function(u){this.buffer+=&#x27;&lt;span class=&quot;&#x27;.concat(u,&#x27;&quot;&gt;&#x27;)}}]),u}(),i=function(){var u=arguments.length&gt;0&amp;&amp;void 0!==arguments[0]?arguments[0]:{},e={children:[]};return Object.assign(e,u),e},a=function(){function u(){_classCallCheck(this,u),this.rootNode=i(),this.stack=[this.rootNode]}return _createClass(u,[{key:&quot;top&quot;,get:function(){return this.stack[this.stack.length-1]}},{key:&quot;root&quot;,get:function(){return this.rootNode}},{key:&quot;add&quot;,value:function(u){this.top.children.push(u)}},{key:&quot;openNode&quot;,value:function(u){var e=i({scope:u});this.add(e),this.stack.push(e)}},{key:&quot;closeNode&quot;,value:function(){if(this.stack.length&gt;1)return this.stack.pop()}},{key:&quot;closeAllNodes&quot;,value:function(){for(;this.closeNode(););}},{key:&quot;toJSON&quot;,value:function(){return JSON.stringify(this.rootNode,null,4)}},{key:&quot;walk&quot;,value:function(u){return this.constructor._walk(u,this.rootNode)}}],[{key:&quot;_walk&quot;,value:function(u,e){var t=this;return&quot;string&quot;==typeof e?u.addText(e):e.children&amp;&amp;(u.openNode(e),e.children.forEach(function(e){return t._walk(u,e)}),u.closeNode(e)),u}},{key:&quot;_collapse&quot;,value:function(e){&quot;string&quot;!=typeof e&amp;&amp;e.children&amp;&amp;(e.children.every(function(u){return&quot;string&quot;==typeof u})?e.children=[e.children.join(&quot;&quot;)]:e.children.forEach(function(e){u._collapse(e)}))}}]),u}(),c=function(u){_inherits(t,a);var e=_createSuper(t);function t(u){var n;return _classCallCheck(this,t),(n=e.call(this)).options=u,n}return _createClass(t,[{key:&quot;addKeyword&quot;,value:function(u,e){&quot;&quot;!==u&amp;&amp;(this.openNode(e),this.addText(u),this.closeNode())}},{key:&quot;addText&quot;,value:function(u){&quot;&quot;!==u&amp;&amp;this.add(u)}},{key:&quot;addSublanguage&quot;,value:function(u,e){var t=u.root;t.sublanguage=!0,t.language=e,this.add(t)}},{key:&quot;toHTML&quot;,value:function(){return new o(this,this.options).value()}},{key:&quot;finalize&quot;,value:function(){return!0}}]),t}();function s(u){return u?&quot;string&quot;==typeof u?u:u.source:null}function l(u){return E(&quot;(?=&quot;,u,&quot;)&quot;)}function F(u){return E(&quot;(?:&quot;,u,&quot;)*&quot;)}function C(u){return E(&quot;(?:&quot;,u,&quot;)?&quot;)}function E(){for(var u=arguments.length,e=new Array(u),t=0;t&lt;u;t++)e[t]=arguments[t];return e.map(function(u){return s(u)}).join(&quot;&quot;)}function d(){for(var u=arguments.length,e=new Array(u),t=0;t&lt;u;t++)e[t]=arguments[t];return&quot;(&quot;+(function(u){var e=u[u.length-1];return&quot;object&quot;==_typeof(e)&amp;&amp;e.constructor===Object?(u.splice(u.length-1,1),e):{}}(e).capture?&quot;&quot;:&quot;?:&quot;)+e.map(function(u){return s(u)}).join(&quot;|&quot;)+&quot;)&quot;}function f(u){return RegExp(u.toString()+&quot;|&quot;).exec(&quot;&quot;).length-1}var A=/\\[(?:[^\\\\\\]]|\\\\.)*\\]|\\(\\??|\\\\([1-9][0-9]*)|\\\\./;function g(u,e){var t=e.joinWith,n=0;return u.map(function(u){for(var e=n+=1,t=s(u),D=&quot;&quot;;t.length&gt;0;){var r=A.exec(t);if(!r){D+=t;break}D+=t.substring(0,r.index),t=t.substring(r.index+r[0].length),&quot;\\\\&quot;===r[0][0]&amp;&amp;r[1]?D+=&quot;\\\\&quot;+(Number(r[1])+e):(D+=r[0],&quot;(&quot;===r[0]&amp;&amp;n++)}return D}).map(function(u){return&quot;(&quot;.concat(u,&quot;)&quot;)}).join(t)}var h=&quot;[a-zA-Z]\\\\w*&quot;,p=&quot;[a-zA-Z_]\\\\w*&quot;,B=&quot;\\\\b\\\\d+(\\\\.\\\\d+)?&quot;,m=&quot;(-?)(\\\\b0[xX][a-fA-F0-9]+|(\\\\b\\\\d+(\\\\.\\\\d*)?|\\\\.\\\\d+)([eE][-+]?\\\\d+)?)&quot;,y=&quot;\\\\b(0b[01]+)&quot;,b={begin:&quot;\\\\\\\\[\\\\s\\\\S]&quot;,relevance:0},v={scope:&quot;string&quot;,begin:&quot;&#x27;&quot;,end:&quot;&#x27;&quot;,illegal:&quot;\\\\n&quot;,contains:[b]},w={scope:&quot;string&quot;,begin:&#x27;&quot;&#x27;,end:&#x27;&quot;&#x27;,illegal:&quot;\\\\n&quot;,contains:[b]},_=function(u,e){var t=D({scope:&quot;comment&quot;,begin:u,end:e,contains:[]},arguments.length&gt;2&amp;&amp;void 0!==arguments[2]?arguments[2]:{});t.contains.push({scope:&quot;doctag&quot;,begin:&quot;[ ]*(?=(TODO|FIXME|NOTE|BUG|OPTIMIZE|HACK|XXX):)&quot;,end:/(TODO|FIXME|NOTE|BUG|OPTIMIZE|HACK|XXX):/,excludeBegin:!0,relevance:0});var n=d(&quot;I&quot;,&quot;a&quot;,&quot;is&quot;,&quot;so&quot;,&quot;us&quot;,&quot;to&quot;,&quot;at&quot;,&quot;if&quot;,&quot;in&quot;,&quot;it&quot;,&quot;on&quot;,/[A-Za-z]+[&#x27;](d|ve|re|ll|t|s|n)/,/[A-Za-z]+[-][a-z]+/,/[A-Za-z][a-z]{2,}/);return t.contains.push({begin:E(/[ ]+/,&quot;(&quot;,n,/[.]?[:]?([.][ ]|[ ])/,&quot;){3}&quot;)}),t},S=_(&quot;//&quot;,&quot;$&quot;),x=_(&quot;/\\\\*&quot;,&quot;\\\\*/&quot;),k=_(&quot;#&quot;,&quot;$&quot;),O=Object.freeze({__proto__:null,MATCH_NOTHING_RE:/\\b\\B/,IDENT_RE:h,UNDERSCORE_IDENT_RE:p,NUMBER_RE:B,C_NUMBER_RE:m,BINARY_NUMBER_RE:y,RE_STARTERS_RE:&quot;!|!=|!==|%|%=|&amp;|&amp;&amp;|&amp;=|\\\\*|\\\\*=|\\\\+|\\\\+=|,|-|-=|/=|/|:|;|&lt;&lt;|&lt;&lt;=|&lt;=|&lt;|===|==|=|&gt;&gt;&gt;=|&gt;&gt;=|&gt;=|&gt;&gt;&gt;|&gt;&gt;|&gt;|\\\\?|\\\\[|\\\\{|\\\\(|\\\\^|\\\\^=|\\\\||\\\\|=|\\\\|\\\\||~&quot;,SHEBANG:function(){var u=arguments.length&gt;0&amp;&amp;void 0!==arguments[0]?arguments[0]:{},e=/^#![ ]*\\//;return u.binary&amp;&amp;(u.begin=E(e,/.*\\b/,u.binary,/\\b.*/)),D({scope:&quot;meta&quot;,begin:e,end:/$/,relevance:0,&quot;on:begin&quot;:function(u,e){0!==u.index&amp;&amp;e.ignoreMatch()}},u)},BACKSLASH_ESCAPE:b,APOS_STRING_MODE:v,QUOTE_STRING_MODE:w,PHRASAL_WORDS_MODE:{begin:/\\b(a|an|the|are|I&#x27;m|isn&#x27;t|don&#x27;t|doesn&#x27;t|won&#x27;t|but|just|should|pretty|simply|enough|gonna|going|wtf|so|such|will|you|your|they|like|more)\\b/},COMMENT:_,C_LINE_COMMENT_MODE:S,C_BLOCK_COMMENT_MODE:x,HASH_COMMENT_MODE:k,NUMBER_MODE:{scope:&quot;number&quot;,begin:B,relevance:0},C_NUMBER_MODE:{scope:&quot;number&quot;,begin:m,relevance:0},BINARY_NUMBER_MODE:{scope:&quot;number&quot;,begin:y,relevance:0},REGEXP_MODE:{begin:/(?=\\/[^/\\n]*\\/)/,contains:[{scope:&quot;regexp&quot;,begin:/\\//,end:/\\/[gimuy]*/,illegal:/\\n/,contains:[b,{begin:/\\[/,end:/\\]/,relevance:0,contains:[b]}]}]},TITLE_MODE:{scope:&quot;title&quot;,begin:h,relevance:0},UNDERSCORE_TITLE_MODE:{scope:&quot;title&quot;,begin:p,relevance:0},METHOD_GUARD:{begin:&quot;\\\\.\\\\s*[a-zA-Z_]\\\\w*&quot;,relevance:0},END_SAME_AS_BEGIN:function(u){return Object.assign(u,{&quot;on:begin&quot;:function(u,e){e.data._beginMatch=u[1]},&quot;on:end&quot;:function(u,e){e.data._beginMatch!==u[1]&amp;&amp;e.ignoreMatch()}})}});function T(u,e){&quot;.&quot;===u.input[u.index-1]&amp;&amp;e.ignoreMatch()}function N(u,e){void 0!==u.className&amp;&amp;(u.scope=u.className,delete u.className)}function M(u,e){e&amp;&amp;u.beginKeywords&amp;&amp;(u.begin=&quot;\\\\b(&quot;+u.beginKeywords.split(&quot; &quot;).join(&quot;|&quot;)+&quot;)(?!\\\\.)(?=\\\\b|\\\\s)&quot;,u.__beforeBegin=T,u.keywords=u.keywords||u.beginKeywords,delete u.beginKeywords,void 0===u.relevance&amp;&amp;(u.relevance=0))}function R(u,e){Array.isArray(u.illegal)&amp;&amp;(u.illegal=d.apply(void 0,_toConsumableArray(u.illegal)))}function j(u,e){if(u.match){if(u.begin||u.end)throw Error(&quot;begin &amp; end are not supported with match&quot;);u.begin=u.match,delete u.match}}function I(u,e){void 0===u.relevance&amp;&amp;(u.relevance=1)}var L=function(u,e){if(u.beforeMatch){if(u.starts)throw Error(&quot;beforeMatch cannot be used with starts&quot;);var t=Object.assign({},u);Object.keys(u).forEach(function(e){delete u[e]}),u.keywords=t.keywords,u.begin=E(t.beforeMatch,l(t.begin)),u.starts={relevance:0,contains:[Object.assign(t,{endsParent:!0})]},u.relevance=0,delete t.beforeMatch}},P=[&quot;of&quot;,&quot;and&quot;,&quot;for&quot;,&quot;in&quot;,&quot;not&quot;,&quot;or&quot;,&quot;if&quot;,&quot;then&quot;,&quot;parent&quot;,&quot;list&quot;,&quot;value&quot;];function H(u,e){return e?Number(e):function(u){return P.includes(u.toLowerCase())}(u)?0:1}var z={},U=function(u){console.error(u)},K=function(u){for(var e,t=arguments.length,n=new Array(t&gt;1?t-1:0),D=1;D&lt;t;D++)n[D-1]=arguments[D];(e=console).log.apply(e,[&quot;WARN: &quot;+u].concat(n))},W=function(u,e){z[&quot;&quot;.concat(u,&quot;/&quot;).concat(e)]||(console.log(&quot;Deprecated as of &quot;.concat(u,&quot;. &quot;).concat(e)),z[&quot;&quot;.concat(u,&quot;/&quot;).concat(e)]=!0)},q=Error();function X(u,e,t){for(var n=t.key,D=0,r=u[n],o={},i={},a=1;a&lt;=e.length;a++)i[a+D]=r[a],o[a+D]=!0,D+=f(e[a-1]);u[n]=i,u[n]._emit=o,u[n]._multi=!0}function G(u){(function(u){u.scope&amp;&amp;&quot;object&quot;==_typeof(u.scope)&amp;&amp;null!==u.scope&amp;&amp;(u.beginScope=u.scope,delete u.scope)})(u),&quot;string&quot;==typeof u.beginScope&amp;&amp;(u.beginScope={_wrap:u.beginScope}),&quot;string&quot;==typeof u.endScope&amp;&amp;(u.endScope={_wrap:u.endScope}),function(u){if(Array.isArray(u.begin)){if(u.skip||u.excludeBegin||u.returnBegin)throw U(&quot;skip, excludeBegin, returnBegin not compatible with beginScope: {}&quot;),q;if(&quot;object&quot;!=_typeof(u.beginScope)||null===u.beginScope)throw U(&quot;beginScope must be object&quot;),q;X(u,u.begin,{key:&quot;beginScope&quot;}),u.begin=g(u.begin,{joinWith:&quot;&quot;})}}(u),function(u){if(Array.isArray(u.end)){if(u.skip||u.excludeEnd||u.returnEnd)throw U(&quot;skip, excludeEnd, returnEnd not compatible with endScope: {}&quot;),q;if(&quot;object&quot;!=_typeof(u.endScope)||null===u.endScope)throw U(&quot;endScope must be object&quot;),q;X(u,u.end,{key:&quot;endScope&quot;}),u.end=g(u.end,{joinWith:&quot;&quot;})}}(u)}function J(u){function e(e,t){return RegExp(s(e),&quot;m&quot;+(u.case_insensitive?&quot;i&quot;:&quot;&quot;)+(u.unicodeRegex?&quot;u&quot;:&quot;&quot;)+(t?&quot;g&quot;:&quot;&quot;))}var t=function(){function u(){_classCallCheck(this,u),this.matchIndexes={},this.regexes=[],this.matchAt=1,this.position=0}return _createClass(u,[{key:&quot;addRule&quot;,value:function(u,e){e.position=this.position++,this.matchIndexes[this.matchAt]=e,this.regexes.push([e,u]),this.matchAt+=f(u)+1}},{key:&quot;compile&quot;,value:function(){0===this.regexes.length&amp;&amp;(this.exec=function(){return null});var u=this.regexes.map(function(u){return u[1]});this.matcherRe=e(g(u,{joinWith:&quot;|&quot;}),!0),this.lastIndex=0}},{key:&quot;exec&quot;,value:function(u){this.matcherRe.lastIndex=this.lastIndex;var e=this.matcherRe.exec(u);if(!e)return null;var t=e.findIndex(function(u,e){return e&gt;0&amp;&amp;void 0!==u}),n=this.matchIndexes[t];return e.splice(0,t),Object.assign(e,n)}}]),u}(),n=function(){function u(){_classCallCheck(this,u),this.rules=[],this.multiRegexes=[],this.count=0,this.lastIndex=0,this.regexIndex=0}return _createClass(u,[{key:&quot;getMatcher&quot;,value:function(u){if(this.multiRegexes[u])return this.multiRegexes[u];var e=new t;return this.rules.slice(u).forEach(function(u){var t=_slicedToArray(u,2),n=t[0],D=t[1];return e.addRule(n,D)}),e.compile(),this.multiRegexes[u]=e,e}},{key:&quot;resumingScanAtSamePosition&quot;,value:function(){return 0!==this.regexIndex}},{key:&quot;considerAll&quot;,value:function(){this.regexIndex=0}},{key:&quot;addRule&quot;,value:function(u,e){this.rules.push([u,e]),&quot;begin&quot;===e.type&amp;&amp;this.count++}},{key:&quot;exec&quot;,value:function(u){var e=this.getMatcher(this.regexIndex);e.lastIndex=this.lastIndex;var t=e.exec(u);if(this.resumingScanAtSamePosition())if(t&amp;&amp;t.index===this.lastIndex);else{var n=this.getMatcher(0);n.lastIndex=this.lastIndex+1,t=n.exec(u)}return t&amp;&amp;(this.regexIndex+=t.position+1,this.regexIndex===this.count&amp;&amp;this.considerAll()),t}}]),u}();if(u.compilerExtensions||(u.compilerExtensions=[]),u.contains&amp;&amp;u.contains.includes(&quot;self&quot;))throw Error(&quot;ERR: contains `self` is not supported at the top-level of a language.  See documentation.&quot;);return u.classNameAliases=D(u.classNameAliases||{}),function t(r,o){var i,a=r;if(r.isCompiled)return a;[N,j,G,L].forEach(function(u){return u(r,o)}),u.compilerExtensions.forEach(function(u){return u(r,o)}),r.__beforeBegin=null,[M,R,I].forEach(function(u){return u(r,o)}),r.isCompiled=!0;var c=null;return&quot;object&quot;==_typeof(r.keywords)&amp;&amp;r.keywords.$pattern&amp;&amp;(r.keywords=Object.assign({},r.keywords),c=r.keywords.$pattern,delete r.keywords.$pattern),c=c||/\\w+/,r.keywords&amp;&amp;(r.keywords=function u(e,t){var n=arguments.length&gt;2&amp;&amp;void 0!==arguments[2]?arguments[2]:&quot;keyword&quot;,D=Object.create(null);return&quot;string&quot;==typeof e?r(n,e.split(&quot; &quot;)):Array.isArray(e)?r(n,e):Object.keys(e).forEach(function(n){Object.assign(D,u(e[n],t,n))}),D;function r(u,e){t&amp;&amp;(e=e.map(function(u){return u.toLowerCase()})),e.forEach(function(e){var t=e.split(&quot;|&quot;);D[t[0]]=[u,H(t[0],t[1])]})}}(r.keywords,u.case_insensitive)),a.keywordPatternRe=e(c,!0),o&amp;&amp;(r.begin||(r.begin=/\\B|\\b/),a.beginRe=e(a.begin),r.end||r.endsWithParent||(r.end=/\\B|\\b/),r.end&amp;&amp;(a.endRe=e(a.end)),a.terminatorEnd=s(a.end)||&quot;&quot;,r.endsWithParent&amp;&amp;o.terminatorEnd&amp;&amp;(a.terminatorEnd+=(r.end?&quot;|&quot;:&quot;&quot;)+o.terminatorEnd)),r.illegal&amp;&amp;(a.illegalRe=e(r.illegal)),r.contains||(r.contains=[]),r.contains=(i=[]).concat.apply(i,_toConsumableArray(r.contains.map(function(u){return function(u){return u.variants&amp;&amp;!u.cachedVariants&amp;&amp;(u.cachedVariants=u.variants.map(function(e){return D(u,{variants:null},e)})),u.cachedVariants?u.cachedVariants:function u(e){return!!e&amp;&amp;(e.endsWithParent||u(e.starts))}(u)?D(u,{starts:u.starts?D(u.starts):null}):Object.isFrozen(u)?D(u):u}(&quot;self&quot;===u?r:u)}))),r.contains.forEach(function(u){t(u,a)}),r.starts&amp;&amp;t(r.starts,o),a.matcher=function(u){var e=new n;return u.contains.forEach(function(u){return e.addRule(u.begin,{rule:u,type:&quot;begin&quot;})}),u.terminatorEnd&amp;&amp;e.addRule(u.terminatorEnd,{type:&quot;end&quot;}),u.illegal&amp;&amp;e.addRule(u.illegal,{type:&quot;illegal&quot;}),e}(a),a}(u)}var Z=function(u){_inherits(t,_wrapNativeSuper(Error));var e=_createSuper(t);function t(u,n){var D;return _classCallCheck(this,t),(D=e.call(this,u)).name=&quot;HTMLInjectionError&quot;,D.html=n,D}return _createClass(t)}(),$=n,V=D,Y=Symbol(&quot;nomatch&quot;);return function(e){var n=Object.create(null),D=Object.create(null),r=[],o=!0,i=&quot;Could not find the language &#x27;{}&#x27;, did you forget to load/include a language module?&quot;,a={disableAutodetect:!0,name:&quot;Plain text&quot;,contains:[]},s={ignoreUnescapedHTML:!1,throwUnescapedHTML:!1,noHighlightRe:/^(no-?highlight)$/i,languageDetectRe:/\\blang(?:uage)?-([\\w-]+)\\b/i,classPrefix:&quot;hljs-&quot;,cssSelector:&quot;pre code&quot;,languages:null,__emitter:c};function f(u){return s.noHighlightRe.test(u)}function A(u,e,t){var n=&quot;&quot;,D=&quot;&quot;;&quot;object&quot;==_typeof(e)?(n=u,t=e.ignoreIllegals,D=e.language):(W(&quot;10.7.0&quot;,&quot;highlight(lang, code, ...args) has been deprecated.&quot;),W(&quot;10.7.0&quot;,&quot;Please use highlight(code, options) instead.\\nhttps://github.com/highlightjs/highlight.js/issues/2277&quot;),D=u,n=e),void 0===t&amp;&amp;(t=!0);var r={code:n,language:D};w(&quot;before:highlight&quot;,r);var o=r.result?r.result:g(r.language,r.code,t);return o.code=r.code,w(&quot;after:highlight&quot;,o),o}function g(u,e,D,r){var a=Object.create(null);function c(){if(b.keywords){var u=0;b.keywordPatternRe.lastIndex=0;for(var e,t=b.keywordPatternRe.exec(_),n=&quot;&quot;;t;){n+=_.substring(u,t.index);var D=p.case_insensitive?t[0].toLowerCase():t[0],r=(e=D,b.keywords[e]);if(r){var o=_slicedToArray(r,2),i=o[0],c=o[1];if(w.addText(n),n=&quot;&quot;,a[D]=(a[D]||0)+1,a[D]&lt;=7&amp;&amp;(S+=c),i.startsWith(&quot;_&quot;))n+=t[0];else{var s=p.classNameAliases[i]||i;w.addKeyword(t[0],s)}}else n+=t[0];u=b.keywordPatternRe.lastIndex,t=b.keywordPatternRe.exec(_)}n+=_.substring(u),w.addText(n)}else w.addText(_)}function l(){null!=b.subLanguage?function(){if(&quot;&quot;!==_){var u=null;if(&quot;string&quot;==typeof b.subLanguage){if(!n[b.subLanguage])return void w.addText(_);u=g(b.subLanguage,_,!0,v[b.subLanguage]),v[b.subLanguage]=u._top}else u=h(_,b.subLanguage.length?b.subLanguage:null);b.relevance&gt;0&amp;&amp;(S+=u.relevance),w.addSublanguage(u._emitter,u.language)}}():c(),_=&quot;&quot;}function F(u,e){for(var t=1,n=e.length-1;t&lt;=n;)if(u._emit[t]){var D=p.classNameAliases[u[t]]||u[t],r=e[t];D?w.addKeyword(r,D):(_=r,c(),_=&quot;&quot;),t++}else t++}function C(u,e){return u.scope&amp;&amp;&quot;string&quot;==typeof u.scope&amp;&amp;w.openNode(p.classNameAliases[u.scope]||u.scope),u.beginScope&amp;&amp;(u.beginScope._wrap?(w.addKeyword(_,p.classNameAliases[u.beginScope._wrap]||u.beginScope._wrap),_=&quot;&quot;):u.beginScope._multi&amp;&amp;(F(u.beginScope,e),_=&quot;&quot;)),b=Object.create(u,{parent:{value:b}})}function E(u,e,n){var D=function(u,e){var t=u&amp;&amp;u.exec(e);return t&amp;&amp;0===t.index}(u.endRe,n);if(D){if(u[&quot;on:end&quot;]){var r=new t(u);u[&quot;on:end&quot;](e,r),r.isMatchIgnored&amp;&amp;(D=!1)}if(D){for(;u.endsParent&amp;&amp;u.parent;)u=u.parent;return u}}if(u.endsWithParent)return E(u.parent,e,n)}function d(u){return 0===b.matcher.regexIndex?(_+=u[0],1):(O=!0,0)}var f={};function A(n,r){var i=r&amp;&amp;r[0];if(_+=n,null==i)return l(),0;if(&quot;begin&quot;===f.type&amp;&amp;&quot;end&quot;===r.type&amp;&amp;f.index===r.index&amp;&amp;&quot;&quot;===i){if(_+=e.slice(r.index,r.index+1),!o){var a=Error(&quot;0 width match regex (&quot;.concat(u,&quot;)&quot;));throw a.languageName=u,a.badRule=f.rule,a}return 1}if(f=r,&quot;begin&quot;===r.type)return function(u){for(var e=u[0],n=u.rule,D=new t(n),r=0,o=[n.__beforeBegin,n[&quot;on:begin&quot;]];r&lt;o.length;r++){var i=o[r];if(i&amp;&amp;(i(u,D),D.isMatchIgnored))return d(e)}return n.skip?_+=e:(n.excludeBegin&amp;&amp;(_+=e),l(),n.returnBegin||n.excludeBegin||(_=e)),C(n,u),n.returnBegin?0:e.length}(r);if(&quot;illegal&quot;===r.type&amp;&amp;!D){var c=Error(&#x27;Illegal lexeme &quot;&#x27;+i+&#x27;&quot; for mode &quot;&#x27;+(b.scope||&quot;&lt;unnamed&gt;&quot;)+&#x27;&quot;&#x27;);throw c.mode=b,c}if(&quot;end&quot;===r.type){var s=function(u){var t=u[0],n=e.substring(u.index),D=E(b,u,n);if(!D)return Y;var r=b;b.endScope&amp;&amp;b.endScope._wrap?(l(),w.addKeyword(t,b.endScope._wrap)):b.endScope&amp;&amp;b.endScope._multi?(l(),F(b.endScope,u)):r.skip?_+=t:(r.returnEnd||r.excludeEnd||(_+=t),l(),r.excludeEnd&amp;&amp;(_=t));do{b.scope&amp;&amp;w.closeNode(),b.skip||b.subLanguage||(S+=b.relevance),b=b.parent}while(b!==D.parent);return D.starts&amp;&amp;C(D.starts,u),r.returnEnd?0:t.length}(r);if(s!==Y)return s}if(&quot;illegal&quot;===r.type&amp;&amp;&quot;&quot;===i)return 1;if(k&gt;1e5&amp;&amp;k&gt;3*r.index)throw Error(&quot;potential infinite loop, way more iterations than matches&quot;);return _+=i,i.length}var p=y(u);if(!p)throw U(i.replace(&quot;{}&quot;,u)),Error(&#x27;Unknown language: &quot;&#x27;+u+&#x27;&quot;&#x27;);var B=J(p),m=&quot;&quot;,b=r||B,v={},w=new s.__emitter(s);!function(){for(var u=[],e=b;e!==p;e=e.parent)e.scope&amp;&amp;u.unshift(e.scope);u.forEach(function(u){return w.openNode(u)})}();var _=&quot;&quot;,S=0,x=0,k=0,O=!1;try{for(b.matcher.considerAll();;){k++,O?O=!1:b.matcher.considerAll(),b.matcher.lastIndex=x;var T=b.matcher.exec(e);if(!T)break;var N=A(e.substring(x,T.index),T);x=T.index+N}return A(e.substring(x)),w.closeAllNodes(),w.finalize(),m=w.toHTML(),{language:u,value:m,relevance:S,illegal:!1,_emitter:w,_top:b}}catch(t){if(t.message&amp;&amp;t.message.includes(&quot;Illegal&quot;))return{language:u,value:$(e),illegal:!0,relevance:0,_illegalBy:{message:t.message,index:x,context:e.slice(x-100,x+100),mode:t.mode,resultSoFar:m},_emitter:w};if(o)return{language:u,value:$(e),illegal:!1,relevance:0,errorRaised:t,_emitter:w,_top:b};throw t}}function h(u,e){e=e||s.languages||Object.keys(n);var t=function(u){var e={value:$(u),illegal:!1,relevance:0,_top:a,_emitter:new s.__emitter(s)};return e._emitter.addText(u),e}(u),D=e.filter(y).filter(v).map(function(e){return g(e,u,!1)});D.unshift(t);var r=_slicedToArray(D.sort(function(u,e){if(u.relevance!==e.relevance)return e.relevance-u.relevance;if(u.language&amp;&amp;e.language){if(y(u.language).supersetOf===e.language)return 1;if(y(e.language).supersetOf===u.language)return-1}return 0}),2),o=r[0],i=r[1],c=o;return c.secondBest=i,c}function p(u){var e=function(u){var e=u.className+&quot; &quot;;e+=u.parentNode?u.parentNode.className:&quot;&quot;;var t=s.languageDetectRe.exec(e);if(t){var n=y(t[1]);return n||(K(i.replace(&quot;{}&quot;,t[1])),K(&quot;Falling back to no-highlight mode for this block.&quot;,u)),n?t[1]:&quot;no-highlight&quot;}return e.split(/\\s+/).find(function(u){return f(u)||y(u)})}(u);if(!f(e)){if(w(&quot;before:highlightElement&quot;,{el:u,language:e}),u.children.length&gt;0&amp;&amp;(s.ignoreUnescapedHTML||(console.warn(&quot;One of your code blocks includes unescaped HTML. This is a potentially serious security risk.&quot;),console.warn(&quot;https://github.com/highlightjs/highlight.js/wiki/security&quot;),console.warn(&quot;The element with unescaped HTML:&quot;),console.warn(u)),s.throwUnescapedHTML))throw new Z(&quot;One of your code blocks includes unescaped HTML.&quot;,u.innerHTML);var t=u.textContent,n=e?A(t,{language:e,ignoreIllegals:!0}):h(t);u.innerHTML=n.value,function(u,e,t){var n=e&amp;&amp;D[e]||t;u.classList.add(&quot;hljs&quot;),u.classList.add(&quot;language-&quot;+n)}(u,e,n.language),u.result={language:n.language,re:n.relevance,relevance:n.relevance},n.secondBest&amp;&amp;(u.secondBest={language:n.secondBest.language,relevance:n.secondBest.relevance}),w(&quot;after:highlightElement&quot;,{el:u,result:n,text:t})}}var B=!1;function m(){&quot;loading&quot;!==document.readyState?document.querySelectorAll(s.cssSelector).forEach(p):B=!0}function y(u){return u=(u||&quot;&quot;).toLowerCase(),n[u]||n[D[u]]}function b(u,e){var t=e.languageName;&quot;string&quot;==typeof u&amp;&amp;(u=[u]),u.forEach(function(u){D[u.toLowerCase()]=t})}function v(u){var e=y(u);return e&amp;&amp;!e.disableAutodetect}function w(u,e){var t=u;r.forEach(function(u){u[t]&amp;&amp;u[t](e)})}for(var _ in&quot;undefined&quot;!=typeof window&amp;&amp;window.addEventListener&amp;&amp;window.addEventListener(&quot;DOMContentLoaded&quot;,function(){B&amp;&amp;m()},!1),Object.assign(e,{highlight:A,highlightAuto:h,highlightAll:m,highlightElement:p,highlightBlock:function(u){return W(&quot;10.7.0&quot;,&quot;highlightBlock will be removed entirely in v12.0&quot;),W(&quot;10.7.0&quot;,&quot;Please use highlightElement now.&quot;),p(u)},configure:function(u){s=V(s,u)},initHighlighting:function(){m(),W(&quot;10.6.0&quot;,&quot;initHighlighting() deprecated.  Use highlightAll() now.&quot;)},initHighlightingOnLoad:function(){m(),W(&quot;10.6.0&quot;,&quot;initHighlightingOnLoad() deprecated.  Use highlightAll() now.&quot;)},registerLanguage:function(u,t){var D=null;try{D=t(e)}catch(e){if(U(&quot;Language definition for &#x27;{}&#x27; could not be registered.&quot;.replace(&quot;{}&quot;,u)),!o)throw e;U(e),D=a}D.name||(D.name=u),n[u]=D,D.rawDefinition=t.bind(null,e),D.aliases&amp;&amp;b(D.aliases,{languageName:u})},unregisterLanguage:function(u){delete n[u];for(var e=0,t=Object.keys(D);e&lt;t.length;e++){var r=t[e];D[r]===u&amp;&amp;delete D[r]}},listLanguages:function(){return Object.keys(n)},getLanguage:y,registerAliases:b,autoDetection:v,inherit:V,addPlugin:function(u){(function(u){u[&quot;before:highlightBlock&quot;]&amp;&amp;!u[&quot;before:highlightElement&quot;]&amp;&amp;(u[&quot;before:highlightElement&quot;]=function(e){u[&quot;before:highlightBlock&quot;](Object.assign({block:e.el},e))}),u[&quot;after:highlightBlock&quot;]&amp;&amp;!u[&quot;after:highlightElement&quot;]&amp;&amp;(u[&quot;after:highlightElement&quot;]=function(e){u[&quot;after:highlightBlock&quot;](Object.assign({block:e.el},e))})})(u),r.push(u)}}),e.debugMode=function(){o=!1},e.safeMode=function(){o=!0},e.versionString=&quot;11.7.0&quot;,e.regex={concat:E,lookahead:l,either:d,optional:C,anyNumberOfTimes:F},O)&quot;object&quot;==_typeof(O[_])&amp;&amp;u.exports(O[_]);return Object.assign(e,O),e}({})}();function _typeof(u){return(_typeof=&quot;function&quot;==typeof Symbol&amp;&amp;&quot;symbol&quot;==typeof Symbol.iterator?function(u){return typeof u}:function(u){return u&amp;&amp;&quot;function&quot;==typeof Symbol&amp;&amp;u.constructor===Symbol&amp;&amp;u!==Symbol.prototype?&quot;symbol&quot;:typeof u})(u)}function _classCallCheck(u,e){if(!(u instanceof e))throw new TypeError(&quot;Cannot call a class as a function&quot;)}function _defineProperties(u,e){for(var t=0;t&lt;e.length;t++){var n=e[t];n.enumerable=n.enumerable||!1,n.configurable=!0,&quot;value&quot;in n&amp;&amp;(n.writable=!0),Object.defineProperty(u,_toPropertyKey(n.key),n)}}function _createClass(u,e,t){return e&amp;&amp;_defineProperties(u.prototype,e),t&amp;&amp;_defineProperties(u,t),Object.defineProperty(u,&quot;prototype&quot;,{writable:!1}),u}function _toPropertyKey(u){var e=_toPrimitive(u,&quot;string&quot;);return&quot;symbol&quot;===_typeof(e)?e:String(e)}function _toPrimitive(u,e){if(&quot;object&quot;!==_typeof(u)||null===u)return u;var t=u[Symbol.toPrimitive];if(void 0!==t){var n=t.call(u,e||&quot;default&quot;);if(&quot;object&quot;!==_typeof(n))return n;throw new TypeError(&quot;@@toPrimitive must return a primitive value.&quot;)}return(&quot;string&quot;===e?String:Number)(u)}&quot;object&quot;==(&quot;undefined&quot;==typeof exports?&quot;undefined&quot;:_typeof(exports))&amp;&amp;&quot;undefined&quot;!=typeof module&amp;&amp;(module.exports=hljs),function(){var u=function(u){var e=u.regex,t=/(?:[A-Z_a-z\\xAA\\xB5\\xBA\\xC0-\\xD6\\xD8-\\xF6\\xF8-\\u02C1\\u02C6-\\u02D1\\u02E0-\\u02E4\\u02EC\\u02EE\\u0370-\\u0374\\u0376\\u0377\\u037B-\\u037D\\u037F\\u0386\\u0388-\\u038A\\u038C\\u038E-\\u03A1\\u03A3-\\u03F5\\u03F7-\\u0481\\u048A-\\u052F\\u0531-\\u0556\\u0559\\u0560-\\u0588\\u05D0-\\u05EA\\u05EF-\\u05F2\\u0620-\\u064A\\u066E\\u066F\\u0671-\\u06D3\\u06D5\\u06E5\\u06E6\\u06EE\\u06EF\\u06FA-\\u06FC\\u06FF\\u0710\\u0712-\\u072F\\u074D-\\u07A5\\u07B1\\u07CA-\\u07EA\\u07F4\\u07F5\\u07FA\\u0800-\\u0815\\u081A\\u0824\\u0828\\u0840-\\u0858\\u0860-\\u086A\\u0870-\\u0887\\u0889-\\u088E\\u08A0-\\u08C9\\u0904-\\u0939\\u093D\\u0950\\u0958-\\u0961\\u0971-\\u0980\\u0985-\\u098C\\u098F\\u0990\\u0993-\\u09A8\\u09AA-\\u09B0\\u09B2\\u09B6-\\u09B9\\u09BD\\u09CE\\u09DC\\u09DD\\u09DF-\\u09E1\\u09F0\\u09F1\\u09FC\\u0A05-\\u0A0A\\u0A0F\\u0A10\\u0A13-\\u0A28\\u0A2A-\\u0A30\\u0A32\\u0A33\\u0A35\\u0A36\\u0A38\\u0A39\\u0A59-\\u0A5C\\u0A5E\\u0A72-\\u0A74\\u0A85-\\u0A8D\\u0A8F-\\u0A91\\u0A93-\\u0AA8\\u0AAA-\\u0AB0\\u0AB2\\u0AB3\\u0AB5-\\u0AB9\\u0ABD\\u0AD0\\u0AE0\\u0AE1\\u0AF9\\u0B05-\\u0B0C\\u0B0F\\u0B10\\u0B13-\\u0B28\\u0B2A-\\u0B30\\u0B32\\u0B33\\u0B35-\\u0B39\\u0B3D\\u0B5C\\u0B5D\\u0B5F-\\u0B61\\u0B71\\u0B83\\u0B85-\\u0B8A\\u0B8E-\\u0B90\\u0B92-\\u0B95\\u0B99\\u0B9A\\u0B9C\\u0B9E\\u0B9F\\u0BA3\\u0BA4\\u0BA8-\\u0BAA\\u0BAE-\\u0BB9\\u0BD0\\u0C05-\\u0C0C\\u0C0E-\\u0C10\\u0C12-\\u0C28\\u0C2A-\\u0C39\\u0C3D\\u0C58-\\u0C5A\\u0C5D\\u0C60\\u0C61\\u0C80\\u0C85-\\u0C8C\\u0C8E-\\u0C90\\u0C92-\\u0CA8\\u0CAA-\\u0CB3\\u0CB5-\\u0CB9\\u0CBD\\u0CDD\\u0CDE\\u0CE0\\u0CE1\\u0CF1\\u0CF2\\u0D04-\\u0D0C\\u0D0E-\\u0D10\\u0D12-\\u0D3A\\u0D3D\\u0D4E\\u0D54-\\u0D56\\u0D5F-\\u0D61\\u0D7A-\\u0D7F\\u0D85-\\u0D96\\u0D9A-\\u0DB1\\u0DB3-\\u0DBB\\u0DBD\\u0DC0-\\u0DC6\\u0E01-\\u0E30\\u0E32\\u0E40-\\u0E46\\u0E81\\u0E82\\u0E84\\u0E86-\\u0E8A\\u0E8C-\\u0EA3\\u0EA5\\u0EA7-\\u0EB0\\u0EB2\\u0EBD\\u0EC0-\\u0EC4\\u0EC6\\u0EDC-\\u0EDF\\u0F00\\u0F40-\\u0F47\\u0F49-\\u0F6C\\u0F88-\\u0F8C\\u1000-\\u102A\\u103F\\u1050-\\u1055\\u105A-\\u105D\\u1061\\u1065\\u1066\\u106E-\\u1070\\u1075-\\u1081\\u108E\\u10A0-\\u10C5\\u10C7\\u10CD\\u10D0-\\u10FA\\u10FC-\\u1248\\u124A-\\u124D\\u1250-\\u1256\\u1258\\u125A-\\u125D\\u1260-\\u1288\\u128A-\\u128D\\u1290-\\u12B0\\u12B2-\\u12B5\\u12B8-\\u12BE\\u12C0\\u12C2-\\u12C5\\u12C8-\\u12D6\\u12D8-\\u1310\\u1312-\\u1315\\u1318-\\u135A\\u1380-\\u138F\\u13A0-\\u13F5\\u13F8-\\u13FD\\u1401-\\u166C\\u166F-\\u167F\\u1681-\\u169A\\u16A0-\\u16EA\\u16EE-\\u16F8\\u1700-\\u1711\\u171F-\\u1731\\u1740-\\u1751\\u1760-\\u176C\\u176E-\\u1770\\u1780-\\u17B3\\u17D7\\u17DC\\u1820-\\u1878\\u1880-\\u18A8\\u18AA\\u18B0-\\u18F5\\u1900-\\u191E\\u1950-\\u196D\\u1970-\\u1974\\u1980-\\u19AB\\u19B0-\\u19C9\\u1A00-\\u1A16\\u1A20-\\u1A54\\u1AA7\\u1B05-\\u1B33\\u1B45-\\u1B4C\\u1B83-\\u1BA0\\u1BAE\\u1BAF\\u1BBA-\\u1BE5\\u1C00-\\u1C23\\u1C4D-\\u1C4F\\u1C5A-\\u1C7D\\u1C80-\\u1C88\\u1C90-\\u1CBA\\u1CBD-\\u1CBF\\u1CE9-\\u1CEC\\u1CEE-\\u1CF3\\u1CF5\\u1CF6\\u1CFA\\u1D00-\\u1DBF\\u1E00-\\u1F15\\u1F18-\\u1F1D\\u1F20-\\u1F45\\u1F48-\\u1F4D\\u1F50-\\u1F57\\u1F59\\u1F5B\\u1F5D\\u1F5F-\\u1F7D\\u1F80-\\u1FB4\\u1FB6-\\u1FBC\\u1FBE\\u1FC2-\\u1FC4\\u1FC6-\\u1FCC\\u1FD0-\\u1FD3\\u1FD6-\\u1FDB\\u1FE0-\\u1FEC\\u1FF2-\\u1FF4\\u1FF6-\\u1FFC\\u2071\\u207F\\u2090-\\u209C\\u2102\\u2107\\u210A-\\u2113\\u2115\\u2118-\\u211D\\u2124\\u2126\\u2128\\u212A-\\u2139\\u213C-\\u213F\\u2145-\\u2149\\u214E\\u2160-\\u2188\\u2C00-\\u2CE4\\u2CEB-\\u2CEE\\u2CF2\\u2CF3\\u2D00-\\u2D25\\u2D27\\u2D2D\\u2D30-\\u2D67\\u2D6F\\u2D80-\\u2D96\\u2DA0-\\u2DA6\\u2DA8-\\u2DAE\\u2DB0-\\u2DB6\\u2DB8-\\u2DBE\\u2DC0-\\u2DC6\\u2DC8-\\u2DCE\\u2DD0-\\u2DD6\\u2DD8-\\u2DDE\\u3005-\\u3007\\u3021-\\u3029\\u3031-\\u3035\\u3038-\\u303C\\u3041-\\u3096\\u309D-\\u309F\\u30A1-\\u30FA\\u30FC-\\u30FF\\u3105-\\u312F\\u3131-\\u318E\\u31A0-\\u31BF\\u31F0-\\u31FF\\u3400-\\u4DBF\\u4E00-\\uA48C\\uA4D0-\\uA4FD\\uA500-\\uA60C\\uA610-\\uA61F\\uA62A\\uA62B\\uA640-\\uA66E\\uA67F-\\uA69D\\uA6A0-\\uA6EF\\uA717-\\uA71F\\uA722-\\uA788\\uA78B-\\uA7CA\\uA7D0\\uA7D1\\uA7D3\\uA7D5-\\uA7D9\\uA7F2-\\uA801\\uA803-\\uA805\\uA807-\\uA80A\\uA80C-\\uA822\\uA840-\\uA873\\uA882-\\uA8B3\\uA8F2-\\uA8F7\\uA8FB\\uA8FD\\uA8FE\\uA90A-\\uA925\\uA930-\\uA946\\uA960-\\uA97C\\uA984-\\uA9B2\\uA9CF\\uA9E0-\\uA9E4\\uA9E6-\\uA9EF\\uA9FA-\\uA9FE\\uAA00-\\uAA28\\uAA40-\\uAA42\\uAA44-\\uAA4B\\uAA60-\\uAA76\\uAA7A\\uAA7E-\\uAAAF\\uAAB1\\uAAB5\\uAAB6\\uAAB9-\\uAABD\\uAAC0\\uAAC2\\uAADB-\\uAADD\\uAAE0-\\uAAEA\\uAAF2-\\uAAF4\\uAB01-\\uAB06\\uAB09-\\uAB0E\\uAB11-\\uAB16\\uAB20-\\uAB26\\uAB28-\\uAB2E\\uAB30-\\uAB5A\\uAB5C-\\uAB69\\uAB70-\\uABE2\\uAC00-\\uD7A3\\uD7B0-\\uD7C6\\uD7CB-\\uD7FB\\uF900-\\uFA6D\\uFA70-\\uFAD9\\uFB00-\\uFB06\\uFB13-\\uFB17\\uFB1D\\uFB1F-\\uFB28\\uFB2A-\\uFB36\\uFB38-\\uFB3C\\uFB3E\\uFB40\\uFB41\\uFB43\\uFB44\\uFB46-\\uFBB1\\uFBD3-\\uFC5D\\uFC64-\\uFD3D\\uFD50-\\uFD8F\\uFD92-\\uFDC7\\uFDF0-\\uFDF9\\uFE71\\uFE73\\uFE77\\uFE79\\uFE7B\\uFE7D\\uFE7F-\\uFEFC\\uFF21-\\uFF3A\\uFF41-\\uFF5A\\uFF66-\\uFF9D\\uFFA0-\\uFFBE\\uFFC2-\\uFFC7\\uFFCA-\\uFFCF\\uFFD2-\\uFFD7\\uFFDA-\\uFFDC]|\\uD800[\\uDC00-\\uDC0B\\uDC0D-\\uDC26\\uDC28-\\uDC3A\\uDC3C\\uDC3D\\uDC3F-\\uDC4D\\uDC50-\\uDC5D\\uDC80-\\uDCFA\\uDD40-\\uDD74\\uDE80-\\uDE9C\\uDEA0-\\uDED0\\uDF00-\\uDF1F\\uDF2D-\\uDF4A\\uDF50-\\uDF75\\uDF80-\\uDF9D\\uDFA0-\\uDFC3\\uDFC8-\\uDFCF\\uDFD1-\\uDFD5]|\\uD801[\\uDC00-\\uDC9D\\uDCB0-\\uDCD3\\uDCD8-\\uDCFB\\uDD00-\\uDD27\\uDD30-\\uDD63\\uDD70-\\uDD7A\\uDD7C-\\uDD8A\\uDD8C-\\uDD92\\uDD94\\uDD95\\uDD97-\\uDDA1\\uDDA3-\\uDDB1\\uDDB3-\\uDDB9\\uDDBB\\uDDBC\\uDE00-\\uDF36\\uDF40-\\uDF55\\uDF60-\\uDF67\\uDF80-\\uDF85\\uDF87-\\uDFB0\\uDFB2-\\uDFBA]|\\uD802[\\uDC00-\\uDC05\\uDC08\\uDC0A-\\uDC35\\uDC37\\uDC38\\uDC3C\\uDC3F-\\uDC55\\uDC60-\\uDC76\\uDC80-\\uDC9E\\uDCE0-\\uDCF2\\uDCF4\\uDCF5\\uDD00-\\uDD15\\uDD20-\\uDD39\\uDD80-\\uDDB7\\uDDBE\\uDDBF\\uDE00\\uDE10-\\uDE13\\uDE15-\\uDE17\\uDE19-\\uDE35\\uDE60-\\uDE7C\\uDE80-\\uDE9C\\uDEC0-\\uDEC7\\uDEC9-\\uDEE4\\uDF00-\\uDF35\\uDF40-\\uDF55\\uDF60-\\uDF72\\uDF80-\\uDF91]|\\uD803[\\uDC00-\\uDC48\\uDC80-\\uDCB2\\uDCC0-\\uDCF2\\uDD00-\\uDD23\\uDE80-\\uDEA9\\uDEB0\\uDEB1\\uDF00-\\uDF1C\\uDF27\\uDF30-\\uDF45\\uDF70-\\uDF81\\uDFB0-\\uDFC4\\uDFE0-\\uDFF6]|\\uD804[\\uDC03-\\uDC37\\uDC71\\uDC72\\uDC75\\uDC83-\\uDCAF\\uDCD0-\\uDCE8\\uDD03-\\uDD26\\uDD44\\uDD47\\uDD50-\\uDD72\\uDD76\\uDD83-\\uDDB2\\uDDC1-\\uDDC4\\uDDDA\\uDDDC\\uDE00-\\uDE11\\uDE13-\\uDE2B\\uDE3F\\uDE40\\uDE80-\\uDE86\\uDE88\\uDE8A-\\uDE8D\\uDE8F-\\uDE9D\\uDE9F-\\uDEA8\\uDEB0-\\uDEDE\\uDF05-\\uDF0C\\uDF0F\\uDF10\\uDF13-\\uDF28\\uDF2A-\\uDF30\\uDF32\\uDF33\\uDF35-\\uDF39\\uDF3D\\uDF50\\uDF5D-\\uDF61]|\\uD805[\\uDC00-\\uDC34\\uDC47-\\uDC4A\\uDC5F-\\uDC61\\uDC80-\\uDCAF\\uDCC4\\uDCC5\\uDCC7\\uDD80-\\uDDAE\\uDDD8-\\uDDDB\\uDE00-\\uDE2F\\uDE44\\uDE80-\\uDEAA\\uDEB8\\uDF00-\\uDF1A\\uDF40-\\uDF46]|\\uD806[\\uDC00-\\uDC2B\\uDCA0-\\uDCDF\\uDCFF-\\uDD06\\uDD09\\uDD0C-\\uDD13\\uDD15\\uDD16\\uDD18-\\uDD2F\\uDD3F\\uDD41\\uDDA0-\\uDDA7\\uDDAA-\\uDDD0\\uDDE1\\uDDE3\\uDE00\\uDE0B-\\uDE32\\uDE3A\\uDE50\\uDE5C-\\uDE89\\uDE9D\\uDEB0-\\uDEF8]|\\uD807[\\uDC00-\\uDC08\\uDC0A-\\uDC2E\\uDC40\\uDC72-\\uDC8F\\uDD00-\\uDD06\\uDD08\\uDD09\\uDD0B-\\uDD30\\uDD46\\uDD60-\\uDD65\\uDD67\\uDD68\\uDD6A-\\uDD89\\uDD98\\uDEE0-\\uDEF2\\uDF02\\uDF04-\\uDF10\\uDF12-\\uDF33\\uDFB0]|\\uD808[\\uDC00-\\uDF99]|\\uD809[\\uDC00-\\uDC6E\\uDC80-\\uDD43]|\\uD80B[\\uDF90-\\uDFF0]|[\\uD80C\\uD81C-\\uD820\\uD822\\uD840-\\uD868\\uD86A-\\uD86C\\uD86F-\\uD872\\uD874-\\uD879\\uD880-\\uD883\\uD885-\\uD887][\\uDC00-\\uDFFF]|\\uD80D[\\uDC00-\\uDC2F\\uDC41-\\uDC46]|\\uD811[\\uDC00-\\uDE46]|\\uD81A[\\uDC00-\\uDE38\\uDE40-\\uDE5E\\uDE70-\\uDEBE\\uDED0-\\uDEED\\uDF00-\\uDF2F\\uDF40-\\uDF43\\uDF63-\\uDF77\\uDF7D-\\uDF8F]|\\uD81B[\\uDE40-\\uDE7F\\uDF00-\\uDF4A\\uDF50\\uDF93-\\uDF9F\\uDFE0\\uDFE1\\uDFE3]|\\uD821[\\uDC00-\\uDFF7]|\\uD823[\\uDC00-\\uDCD5\\uDD00-\\uDD08]|\\uD82B[\\uDFF0-\\uDFF3\\uDFF5-\\uDFFB\\uDFFD\\uDFFE]|\\uD82C[\\uDC00-\\uDD22\\uDD32\\uDD50-\\uDD52\\uDD55\\uDD64-\\uDD67\\uDD70-\\uDEFB]|\\uD82F[\\uDC00-\\uDC6A\\uDC70-\\uDC7C\\uDC80-\\uDC88\\uDC90-\\uDC99]|\\uD835[\\uDC00-\\uDC54\\uDC56-\\uDC9C\\uDC9E\\uDC9F\\uDCA2\\uDCA5\\uDCA6\\uDCA9-\\uDCAC\\uDCAE-\\uDCB9\\uDCBB\\uDCBD-\\uDCC3\\uDCC5-\\uDD05\\uDD07-\\uDD0A\\uDD0D-\\uDD14\\uDD16-\\uDD1C\\uDD1E-\\uDD39\\uDD3B-\\uDD3E\\uDD40-\\uDD44\\uDD46\\uDD4A-\\uDD50\\uDD52-\\uDEA5\\uDEA8-\\uDEC0\\uDEC2-\\uDEDA\\uDEDC-\\uDEFA\\uDEFC-\\uDF14\\uDF16-\\uDF34\\uDF36-\\uDF4E\\uDF50-\\uDF6E\\uDF70-\\uDF88\\uDF8A-\\uDFA8\\uDFAA-\\uDFC2\\uDFC4-\\uDFCB]|\\uD837[\\uDF00-\\uDF1E\\uDF25-\\uDF2A]|\\uD838[\\uDC30-\\uDC6D\\uDD00-\\uDD2C\\uDD37-\\uDD3D\\uDD4E\\uDE90-\\uDEAD\\uDEC0-\\uDEEB]|\\uD839[\\uDCD0-\\uDCEB\\uDFE0-\\uDFE6\\uDFE8-\\uDFEB\\uDFED\\uDFEE\\uDFF0-\\uDFFE]|\\uD83A[\\uDC00-\\uDCC4\\uDD00-\\uDD43\\uDD4B]|\\uD83B[\\uDE00-\\uDE03\\uDE05-\\uDE1F\\uDE21\\uDE22\\uDE24\\uDE27\\uDE29-\\uDE32\\uDE34-\\uDE37\\uDE39\\uDE3B\\uDE42\\uDE47\\uDE49\\uDE4B\\uDE4D-\\uDE4F\\uDE51\\uDE52\\uDE54\\uDE57\\uDE59\\uDE5B\\uDE5D\\uDE5F\\uDE61\\uDE62\\uDE64\\uDE67-\\uDE6A\\uDE6C-\\uDE72\\uDE74-\\uDE77\\uDE79-\\uDE7C\\uDE7E\\uDE80-\\uDE89\\uDE8B-\\uDE9B\\uDEA1-\\uDEA3\\uDEA5-\\uDEA9\\uDEAB-\\uDEBB]|\\uD869[\\uDC00-\\uDEDF\\uDF00-\\uDFFF]|\\uD86D[\\uDC00-\\uDF39\\uDF40-\\uDFFF]|\\uD86E[\\uDC00-\\uDC1D\\uDC20-\\uDFFF]|\\uD873[\\uDC00-\\uDEA1\\uDEB0-\\uDFFF]|\\uD87A[\\uDC00-\\uDFE0]|\\uD87E[\\uDC00-\\uDE1D]|\\uD884[\\uDC00-\\uDF4A\\uDF50-\\uDFFF]|\\uD888[\\uDC00-\\uDFAF])(?:[0-9A-Z_a-z\\xAA\\xB5\\xB7\\xBA\\xC0-\\xD6\\xD8-\\xF6\\xF8-\\u02C1\\u02C6-\\u02D1\\u02E0-\\u02E4\\u02EC\\u02EE\\u0300-\\u0374\\u0376\\u0377\\u037B-\\u037D\\u037F\\u0386-\\u038A\\u038C\\u038E-\\u03A1\\u03A3-\\u03F5\\u03F7-\\u0481\\u0483-\\u0487\\u048A-\\u052F\\u0531-\\u0556\\u0559\\u0560-\\u0588\\u0591-\\u05BD\\u05BF\\u05C1\\u05C2\\u05C4\\u05C5\\u05C7\\u05D0-\\u05EA\\u05EF-\\u05F2\\u0610-\\u061A\\u0620-\\u0669\\u066E-\\u06D3\\u06D5-\\u06DC\\u06DF-\\u06E8\\u06EA-\\u06FC\\u06FF\\u0710-\\u074A\\u074D-\\u07B1\\u07C0-\\u07F5\\u07FA\\u07FD\\u0800-\\u082D\\u0840-\\u085B\\u0860-\\u086A\\u0870-\\u0887\\u0889-\\u088E\\u0898-\\u08E1\\u08E3-\\u0963\\u0966-\\u096F\\u0971-\\u0983\\u0985-\\u098C\\u098F\\u0990\\u0993-\\u09A8\\u09AA-\\u09B0\\u09B2\\u09B6-\\u09B9\\u09BC-\\u09C4\\u09C7\\u09C8\\u09CB-\\u09CE\\u09D7\\u09DC\\u09DD\\u09DF-\\u09E3\\u09E6-\\u09F1\\u09FC\\u09FE\\u0A01-\\u0A03\\u0A05-\\u0A0A\\u0A0F\\u0A10\\u0A13-\\u0A28\\u0A2A-\\u0A30\\u0A32\\u0A33\\u0A35\\u0A36\\u0A38\\u0A39\\u0A3C\\u0A3E-\\u0A42\\u0A47\\u0A48\\u0A4B-\\u0A4D\\u0A51\\u0A59-\\u0A5C\\u0A5E\\u0A66-\\u0A75\\u0A81-\\u0A83\\u0A85-\\u0A8D\\u0A8F-\\u0A91\\u0A93-\\u0AA8\\u0AAA-\\u0AB0\\u0AB2\\u0AB3\\u0AB5-\\u0AB9\\u0ABC-\\u0AC5\\u0AC7-\\u0AC9\\u0ACB-\\u0ACD\\u0AD0\\u0AE0-\\u0AE3\\u0AE6-\\u0AEF\\u0AF9-\\u0AFF\\u0B01-\\u0B03\\u0B05-\\u0B0C\\u0B0F\\u0B10\\u0B13-\\u0B28\\u0B2A-\\u0B30\\u0B32\\u0B33\\u0B35-\\u0B39\\u0B3C-\\u0B44\\u0B47\\u0B48\\u0B4B-\\u0B4D\\u0B55-\\u0B57\\u0B5C\\u0B5D\\u0B5F-\\u0B63\\u0B66-\\u0B6F\\u0B71\\u0B82\\u0B83\\u0B85-\\u0B8A\\u0B8E-\\u0B90\\u0B92-\\u0B95\\u0B99\\u0B9A\\u0B9C\\u0B9E\\u0B9F\\u0BA3\\u0BA4\\u0BA8-\\u0BAA\\u0BAE-\\u0BB9\\u0BBE-\\u0BC2\\u0BC6-\\u0BC8\\u0BCA-\\u0BCD\\u0BD0\\u0BD7\\u0BE6-\\u0BEF\\u0C00-\\u0C0C\\u0C0E-\\u0C10\\u0C12-\\u0C28\\u0C2A-\\u0C39\\u0C3C-\\u0C44\\u0C46-\\u0C48\\u0C4A-\\u0C4D\\u0C55\\u0C56\\u0C58-\\u0C5A\\u0C5D\\u0C60-\\u0C63\\u0C66-\\u0C6F\\u0C80-\\u0C83\\u0C85-\\u0C8C\\u0C8E-\\u0C90\\u0C92-\\u0CA8\\u0CAA-\\u0CB3\\u0CB5-\\u0CB9\\u0CBC-\\u0CC4\\u0CC6-\\u0CC8\\u0CCA-\\u0CCD\\u0CD5\\u0CD6\\u0CDD\\u0CDE\\u0CE0-\\u0CE3\\u0CE6-\\u0CEF\\u0CF1-\\u0CF3\\u0D00-\\u0D0C\\u0D0E-\\u0D10\\u0D12-\\u0D44\\u0D46-\\u0D48\\u0D4A-\\u0D4E\\u0D54-\\u0D57\\u0D5F-\\u0D63\\u0D66-\\u0D6F\\u0D7A-\\u0D7F\\u0D81-\\u0D83\\u0D85-\\u0D96\\u0D9A-\\u0DB1\\u0DB3-\\u0DBB\\u0DBD\\u0DC0-\\u0DC6\\u0DCA\\u0DCF-\\u0DD4\\u0DD6\\u0DD8-\\u0DDF\\u0DE6-\\u0DEF\\u0DF2\\u0DF3\\u0E01-\\u0E3A\\u0E40-\\u0E4E\\u0E50-\\u0E59\\u0E81\\u0E82\\u0E84\\u0E86-\\u0E8A\\u0E8C-\\u0EA3\\u0EA5\\u0EA7-\\u0EBD\\u0EC0-\\u0EC4\\u0EC6\\u0EC8-\\u0ECE\\u0ED0-\\u0ED9\\u0EDC-\\u0EDF\\u0F00\\u0F18\\u0F19\\u0F20-\\u0F29\\u0F35\\u0F37\\u0F39\\u0F3E-\\u0F47\\u0F49-\\u0F6C\\u0F71-\\u0F84\\u0F86-\\u0F97\\u0F99-\\u0FBC\\u0FC6\\u1000-\\u1049\\u1050-\\u109D\\u10A0-\\u10C5\\u10C7\\u10CD\\u10D0-\\u10FA\\u10FC-\\u1248\\u124A-\\u124D\\u1250-\\u1256\\u1258\\u125A-\\u125D\\u1260-\\u1288\\u128A-\\u128D\\u1290-\\u12B0\\u12B2-\\u12B5\\u12B8-\\u12BE\\u12C0\\u12C2-\\u12C5\\u12C8-\\u12D6\\u12D8-\\u1310\\u1312-\\u1315\\u1318-\\u135A\\u135D-\\u135F\\u1369-\\u1371\\u1380-\\u138F\\u13A0-\\u13F5\\u13F8-\\u13FD\\u1401-\\u166C\\u166F-\\u167F\\u1681-\\u169A\\u16A0-\\u16EA\\u16EE-\\u16F8\\u1700-\\u1715\\u171F-\\u1734\\u1740-\\u1753\\u1760-\\u176C\\u176E-\\u1770\\u1772\\u1773\\u1780-\\u17D3\\u17D7\\u17DC\\u17DD\\u17E0-\\u17E9\\u180B-\\u180D\\u180F-\\u1819\\u1820-\\u1878\\u1880-\\u18AA\\u18B0-\\u18F5\\u1900-\\u191E\\u1920-\\u192B\\u1930-\\u193B\\u1946-\\u196D\\u1970-\\u1974\\u1980-\\u19AB\\u19B0-\\u19C9\\u19D0-\\u19DA\\u1A00-\\u1A1B\\u1A20-\\u1A5E\\u1A60-\\u1A7C\\u1A7F-\\u1A89\\u1A90-\\u1A99\\u1AA7\\u1AB0-\\u1ABD\\u1ABF-\\u1ACE\\u1B00-\\u1B4C\\u1B50-\\u1B59\\u1B6B-\\u1B73\\u1B80-\\u1BF3\\u1C00-\\u1C37\\u1C40-\\u1C49\\u1C4D-\\u1C7D\\u1C80-\\u1C88\\u1C90-\\u1CBA\\u1CBD-\\u1CBF\\u1CD0-\\u1CD2\\u1CD4-\\u1CFA\\u1D00-\\u1F15\\u1F18-\\u1F1D\\u1F20-\\u1F45\\u1F48-\\u1F4D\\u1F50-\\u1F57\\u1F59\\u1F5B\\u1F5D\\u1F5F-\\u1F7D\\u1F80-\\u1FB4\\u1FB6-\\u1FBC\\u1FBE\\u1FC2-\\u1FC4\\u1FC6-\\u1FCC\\u1FD0-\\u1FD3\\u1FD6-\\u1FDB\\u1FE0-\\u1FEC\\u1FF2-\\u1FF4\\u1FF6-\\u1FFC\\u203F\\u2040\\u2054\\u2071\\u207F\\u2090-\\u209C\\u20D0-\\u20DC\\u20E1\\u20E5-\\u20F0\\u2102\\u2107\\u210A-\\u2113\\u2115\\u2118-\\u211D\\u2124\\u2126\\u2128\\u212A-\\u2139\\u213C-\\u213F\\u2145-\\u2149\\u214E\\u2160-\\u2188\\u2C00-\\u2CE4\\u2CEB-\\u2CF3\\u2D00-\\u2D25\\u2D27\\u2D2D\\u2D30-\\u2D67\\u2D6F\\u2D7F-\\u2D96\\u2DA0-\\u2DA6\\u2DA8-\\u2DAE\\u2DB0-\\u2DB6\\u2DB8-\\u2DBE\\u2DC0-\\u2DC6\\u2DC8-\\u2DCE\\u2DD0-\\u2DD6\\u2DD8-\\u2DDE\\u2DE0-\\u2DFF\\u3005-\\u3007\\u3021-\\u302F\\u3031-\\u3035\\u3038-\\u303C\\u3041-\\u3096\\u3099\\u309A\\u309D-\\u309F\\u30A1-\\u30FA\\u30FC-\\u30FF\\u3105-\\u312F\\u3131-\\u318E\\u31A0-\\u31BF\\u31F0-\\u31FF\\u3400-\\u4DBF\\u4E00-\\uA48C\\uA4D0-\\uA4FD\\uA500-\\uA60C\\uA610-\\uA62B\\uA640-\\uA66F\\uA674-\\uA67D\\uA67F-\\uA6F1\\uA717-\\uA71F\\uA722-\\uA788\\uA78B-\\uA7CA\\uA7D0\\uA7D1\\uA7D3\\uA7D5-\\uA7D9\\uA7F2-\\uA827\\uA82C\\uA840-\\uA873\\uA880-\\uA8C5\\uA8D0-\\uA8D9\\uA8E0-\\uA8F7\\uA8FB\\uA8FD-\\uA92D\\uA930-\\uA953\\uA960-\\uA97C\\uA980-\\uA9C0\\uA9CF-\\uA9D9\\uA9E0-\\uA9FE\\uAA00-\\uAA36\\uAA40-\\uAA4D\\uAA50-\\uAA59\\uAA60-\\uAA76\\uAA7A-\\uAAC2\\uAADB-\\uAADD\\uAAE0-\\uAAEF\\uAAF2-\\uAAF6\\uAB01-\\uAB06\\uAB09-\\uAB0E\\uAB11-\\uAB16\\uAB20-\\uAB26\\uAB28-\\uAB2E\\uAB30-\\uAB5A\\uAB5C-\\uAB69\\uAB70-\\uABEA\\uABEC\\uABED\\uABF0-\\uABF9\\uAC00-\\uD7A3\\uD7B0-\\uD7C6\\uD7CB-\\uD7FB\\uF900-\\uFA6D\\uFA70-\\uFAD9\\uFB00-\\uFB06\\uFB13-\\uFB17\\uFB1D-\\uFB28\\uFB2A-\\uFB36\\uFB38-\\uFB3C\\uFB3E\\uFB40\\uFB41\\uFB43\\uFB44\\uFB46-\\uFBB1\\uFBD3-\\uFC5D\\uFC64-\\uFD3D\\uFD50-\\uFD8F\\uFD92-\\uFDC7\\uFDF0-\\uFDF9\\uFE00-\\uFE0F\\uFE20-\\uFE2F\\uFE33\\uFE34\\uFE4D-\\uFE4F\\uFE71\\uFE73\\uFE77\\uFE79\\uFE7B\\uFE7D\\uFE7F-\\uFEFC\\uFF10-\\uFF19\\uFF21-\\uFF3A\\uFF3F\\uFF41-\\uFF5A\\uFF66-\\uFFBE\\uFFC2-\\uFFC7\\uFFCA-\\uFFCF\\uFFD2-\\uFFD7\\uFFDA-\\uFFDC]|\\uD800[\\uDC00-\\uDC0B\\uDC0D-\\uDC26\\uDC28-\\uDC3A\\uDC3C\\uDC3D\\uDC3F-\\uDC4D\\uDC50-\\uDC5D\\uDC80-\\uDCFA\\uDD40-\\uDD74\\uDDFD\\uDE80-\\uDE9C\\uDEA0-\\uDED0\\uDEE0\\uDF00-\\uDF1F\\uDF2D-\\uDF4A\\uDF50-\\uDF7A\\uDF80-\\uDF9D\\uDFA0-\\uDFC3\\uDFC8-\\uDFCF\\uDFD1-\\uDFD5]|\\uD801[\\uDC00-\\uDC9D\\uDCA0-\\uDCA9\\uDCB0-\\uDCD3\\uDCD8-\\uDCFB\\uDD00-\\uDD27\\uDD30-\\uDD63\\uDD70-\\uDD7A\\uDD7C-\\uDD8A\\uDD8C-\\uDD92\\uDD94\\uDD95\\uDD97-\\uDDA1\\uDDA3-\\uDDB1\\uDDB3-\\uDDB9\\uDDBB\\uDDBC\\uDE00-\\uDF36\\uDF40-\\uDF55\\uDF60-\\uDF67\\uDF80-\\uDF85\\uDF87-\\uDFB0\\uDFB2-\\uDFBA]|\\uD802[\\uDC00-\\uDC05\\uDC08\\uDC0A-\\uDC35\\uDC37\\uDC38\\uDC3C\\uDC3F-\\uDC55\\uDC60-\\uDC76\\uDC80-\\uDC9E\\uDCE0-\\uDCF2\\uDCF4\\uDCF5\\uDD00-\\uDD15\\uDD20-\\uDD39\\uDD80-\\uDDB7\\uDDBE\\uDDBF\\uDE00-\\uDE03\\uDE05\\uDE06\\uDE0C-\\uDE13\\uDE15-\\uDE17\\uDE19-\\uDE35\\uDE38-\\uDE3A\\uDE3F\\uDE60-\\uDE7C\\uDE80-\\uDE9C\\uDEC0-\\uDEC7\\uDEC9-\\uDEE6\\uDF00-\\uDF35\\uDF40-\\uDF55\\uDF60-\\uDF72\\uDF80-\\uDF91]|\\uD803[\\uDC00-\\uDC48\\uDC80-\\uDCB2\\uDCC0-\\uDCF2\\uDD00-\\uDD27\\uDD30-\\uDD39\\uDE80-\\uDEA9\\uDEAB\\uDEAC\\uDEB0\\uDEB1\\uDEFD-\\uDF1C\\uDF27\\uDF30-\\uDF50\\uDF70-\\uDF85\\uDFB0-\\uDFC4\\uDFE0-\\uDFF6]|\\uD804[\\uDC00-\\uDC46\\uDC66-\\uDC75\\uDC7F-\\uDCBA\\uDCC2\\uDCD0-\\uDCE8\\uDCF0-\\uDCF9\\uDD00-\\uDD34\\uDD36-\\uDD3F\\uDD44-\\uDD47\\uDD50-\\uDD73\\uDD76\\uDD80-\\uDDC4\\uDDC9-\\uDDCC\\uDDCE-\\uDDDA\\uDDDC\\uDE00-\\uDE11\\uDE13-\\uDE37\\uDE3E-\\uDE41\\uDE80-\\uDE86\\uDE88\\uDE8A-\\uDE8D\\uDE8F-\\uDE9D\\uDE9F-\\uDEA8\\uDEB0-\\uDEEA\\uDEF0-\\uDEF9\\uDF00-\\uDF03\\uDF05-\\uDF0C\\uDF0F\\uDF10\\uDF13-\\uDF28\\uDF2A-\\uDF30\\uDF32\\uDF33\\uDF35-\\uDF39\\uDF3B-\\uDF44\\uDF47\\uDF48\\uDF4B-\\uDF4D\\uDF50\\uDF57\\uDF5D-\\uDF63\\uDF66-\\uDF6C\\uDF70-\\uDF74]|\\uD805[\\uDC00-\\uDC4A\\uDC50-\\uDC59\\uDC5E-\\uDC61\\uDC80-\\uDCC5\\uDCC7\\uDCD0-\\uDCD9\\uDD80-\\uDDB5\\uDDB8-\\uDDC0\\uDDD8-\\uDDDD\\uDE00-\\uDE40\\uDE44\\uDE50-\\uDE59\\uDE80-\\uDEB8\\uDEC0-\\uDEC9\\uDF00-\\uDF1A\\uDF1D-\\uDF2B\\uDF30-\\uDF39\\uDF40-\\uDF46]|\\uD806[\\uDC00-\\uDC3A\\uDCA0-\\uDCE9\\uDCFF-\\uDD06\\uDD09\\uDD0C-\\uDD13\\uDD15\\uDD16\\uDD18-\\uDD35\\uDD37\\uDD38\\uDD3B-\\uDD43\\uDD50-\\uDD59\\uDDA0-\\uDDA7\\uDDAA-\\uDDD7\\uDDDA-\\uDDE1\\uDDE3\\uDDE4\\uDE00-\\uDE3E\\uDE47\\uDE50-\\uDE99\\uDE9D\\uDEB0-\\uDEF8]|\\uD807[\\uDC00-\\uDC08\\uDC0A-\\uDC36\\uDC38-\\uDC40\\uDC50-\\uDC59\\uDC72-\\uDC8F\\uDC92-\\uDCA7\\uDCA9-\\uDCB6\\uDD00-\\uDD06\\uDD08\\uDD09\\uDD0B-\\uDD36\\uDD3A\\uDD3C\\uDD3D\\uDD3F-\\uDD47\\uDD50-\\uDD59\\uDD60-\\uDD65\\uDD67\\uDD68\\uDD6A-\\uDD8E\\uDD90\\uDD91\\uDD93-\\uDD98\\uDDA0-\\uDDA9\\uDEE0-\\uDEF6\\uDF00-\\uDF10\\uDF12-\\uDF3A\\uDF3E-\\uDF42\\uDF50-\\uDF59\\uDFB0]|\\uD808[\\uDC00-\\uDF99]|\\uD809[\\uDC00-\\uDC6E\\uDC80-\\uDD43]|\\uD80B[\\uDF90-\\uDFF0]|[\\uD80C\\uD81C-\\uD820\\uD822\\uD840-\\uD868\\uD86A-\\uD86C\\uD86F-\\uD872\\uD874-\\uD879\\uD880-\\uD883\\uD885-\\uD887][\\uDC00-\\uDFFF]|\\uD80D[\\uDC00-\\uDC2F\\uDC40-\\uDC55]|\\uD811[\\uDC00-\\uDE46]|\\uD81A[\\uDC00-\\uDE38\\uDE40-\\uDE5E\\uDE60-\\uDE69\\uDE70-\\uDEBE\\uDEC0-\\uDEC9\\uDED0-\\uDEED\\uDEF0-\\uDEF4\\uDF00-\\uDF36\\uDF40-\\uDF43\\uDF50-\\uDF59\\uDF63-\\uDF77\\uDF7D-\\uDF8F]|\\uD81B[\\uDE40-\\uDE7F\\uDF00-\\uDF4A\\uDF4F-\\uDF87\\uDF8F-\\uDF9F\\uDFE0\\uDFE1\\uDFE3\\uDFE4\\uDFF0\\uDFF1]|\\uD821[\\uDC00-\\uDFF7]|\\uD823[\\uDC00-\\uDCD5\\uDD00-\\uDD08]|\\uD82B[\\uDFF0-\\uDFF3\\uDFF5-\\uDFFB\\uDFFD\\uDFFE]|\\uD82C[\\uDC00-\\uDD22\\uDD32\\uDD50-\\uDD52\\uDD55\\uDD64-\\uDD67\\uDD70-\\uDEFB]|\\uD82F[\\uDC00-\\uDC6A\\uDC70-\\uDC7C\\uDC80-\\uDC88\\uDC90-\\uDC99\\uDC9D\\uDC9E]|\\uD833[\\uDF00-\\uDF2D\\uDF30-\\uDF46]|\\uD834[\\uDD65-\\uDD69\\uDD6D-\\uDD72\\uDD7B-\\uDD82\\uDD85-\\uDD8B\\uDDAA-\\uDDAD\\uDE42-\\uDE44]|\\uD835[\\uDC00-\\uDC54\\uDC56-\\uDC9C\\uDC9E\\uDC9F\\uDCA2\\uDCA5\\uDCA6\\uDCA9-\\uDCAC\\uDCAE-\\uDCB9\\uDCBB\\uDCBD-\\uDCC3\\uDCC5-\\uDD05\\uDD07-\\uDD0A\\uDD0D-\\uDD14\\uDD16-\\uDD1C\\uDD1E-\\uDD39\\uDD3B-\\uDD3E\\uDD40-\\uDD44\\uDD46\\uDD4A-\\uDD50\\uDD52-\\uDEA5\\uDEA8-\\uDEC0\\uDEC2-\\uDEDA\\uDEDC-\\uDEFA\\uDEFC-\\uDF14\\uDF16-\\uDF34\\uDF36-\\uDF4E\\uDF50-\\uDF6E\\uDF70-\\uDF88\\uDF8A-\\uDFA8\\uDFAA-\\uDFC2\\uDFC4-\\uDFCB\\uDFCE-\\uDFFF]|\\uD836[\\uDE00-\\uDE36\\uDE3B-\\uDE6C\\uDE75\\uDE84\\uDE9B-\\uDE9F\\uDEA1-\\uDEAF]|\\uD837[\\uDF00-\\uDF1E\\uDF25-\\uDF2A]|\\uD838[\\uDC00-\\uDC06\\uDC08-\\uDC18\\uDC1B-\\uDC21\\uDC23\\uDC24\\uDC26-\\uDC2A\\uDC30-\\uDC6D\\uDC8F\\uDD00-\\uDD2C\\uDD30-\\uDD3D\\uDD40-\\uDD49\\uDD4E\\uDE90-\\uDEAE\\uDEC0-\\uDEF9]|\\uD839[\\uDCD0-\\uDCF9\\uDFE0-\\uDFE6\\uDFE8-\\uDFEB\\uDFED\\uDFEE\\uDFF0-\\uDFFE]|\\uD83A[\\uDC00-\\uDCC4\\uDCD0-\\uDCD6\\uDD00-\\uDD4B\\uDD50-\\uDD59]|\\uD83B[\\uDE00-\\uDE03\\uDE05-\\uDE1F\\uDE21\\uDE22\\uDE24\\uDE27\\uDE29-\\uDE32\\uDE34-\\uDE37\\uDE39\\uDE3B\\uDE42\\uDE47\\uDE49\\uDE4B\\uDE4D-\\uDE4F\\uDE51\\uDE52\\uDE54\\uDE57\\uDE59\\uDE5B\\uDE5D\\uDE5F\\uDE61\\uDE62\\uDE64\\uDE67-\\uDE6A\\uDE6C-\\uDE72\\uDE74-\\uDE77\\uDE79-\\uDE7C\\uDE7E\\uDE80-\\uDE89\\uDE8B-\\uDE9B\\uDEA1-\\uDEA3\\uDEA5-\\uDEA9\\uDEAB-\\uDEBB]|\\uD83E[\\uDFF0-\\uDFF9]|\\uD869[\\uDC00-\\uDEDF\\uDF00-\\uDFFF]|\\uD86D[\\uDC00-\\uDF39\\uDF40-\\uDFFF]|\\uD86E[\\uDC00-\\uDC1D\\uDC20-\\uDFFF]|\\uD873[\\uDC00-\\uDEA1\\uDEB0-\\uDFFF]|\\uD87A[\\uDC00-\\uDFE0]|\\uD87E[\\uDC00-\\uDE1D]|\\uD884[\\uDC00-\\uDF4A\\uDF50-\\uDFFF]|\\uD888[\\uDC00-\\uDFAF]|\\uDB40[\\uDD00-\\uDDEF])*/,n=[&quot;and&quot;,&quot;as&quot;,&quot;assert&quot;,&quot;async&quot;,&quot;await&quot;,&quot;break&quot;,&quot;case&quot;,&quot;class&quot;,&quot;continue&quot;,&quot;def&quot;,&quot;del&quot;,&quot;elif&quot;,&quot;else&quot;,&quot;except&quot;,&quot;finally&quot;,&quot;for&quot;,&quot;from&quot;,&quot;global&quot;,&quot;if&quot;,&quot;import&quot;,&quot;in&quot;,&quot;is&quot;,&quot;lambda&quot;,&quot;match&quot;,&quot;nonlocal|10&quot;,&quot;not&quot;,&quot;or&quot;,&quot;pass&quot;,&quot;raise&quot;,&quot;return&quot;,&quot;try&quot;,&quot;while&quot;,&quot;with&quot;,&quot;yield&quot;],D={$pattern:/[A-Za-z]\\w+|__\\w+__/,keyword:n,built_in:[&quot;__import__&quot;,&quot;abs&quot;,&quot;all&quot;,&quot;any&quot;,&quot;ascii&quot;,&quot;bin&quot;,&quot;bool&quot;,&quot;breakpoint&quot;,&quot;bytearray&quot;,&quot;bytes&quot;,&quot;callable&quot;,&quot;chr&quot;,&quot;classmethod&quot;,&quot;compile&quot;,&quot;complex&quot;,&quot;delattr&quot;,&quot;dict&quot;,&quot;dir&quot;,&quot;divmod&quot;,&quot;enumerate&quot;,&quot;eval&quot;,&quot;exec&quot;,&quot;filter&quot;,&quot;float&quot;,&quot;format&quot;,&quot;frozenset&quot;,&quot;getattr&quot;,&quot;globals&quot;,&quot;hasattr&quot;,&quot;hash&quot;,&quot;help&quot;,&quot;hex&quot;,&quot;id&quot;,&quot;input&quot;,&quot;int&quot;,&quot;isinstance&quot;,&quot;issubclass&quot;,&quot;iter&quot;,&quot;len&quot;,&quot;list&quot;,&quot;locals&quot;,&quot;map&quot;,&quot;max&quot;,&quot;memoryview&quot;,&quot;min&quot;,&quot;next&quot;,&quot;object&quot;,&quot;oct&quot;,&quot;open&quot;,&quot;ord&quot;,&quot;pow&quot;,&quot;print&quot;,&quot;property&quot;,&quot;range&quot;,&quot;repr&quot;,&quot;reversed&quot;,&quot;round&quot;,&quot;set&quot;,&quot;setattr&quot;,&quot;slice&quot;,&quot;sorted&quot;,&quot;staticmethod&quot;,&quot;str&quot;,&quot;sum&quot;,&quot;super&quot;,&quot;tuple&quot;,&quot;type&quot;,&quot;vars&quot;,&quot;zip&quot;],literal:[&quot;__debug__&quot;,&quot;Ellipsis&quot;,&quot;False&quot;,&quot;None&quot;,&quot;NotImplemented&quot;,&quot;True&quot;],type:[&quot;Any&quot;,&quot;Callable&quot;,&quot;Coroutine&quot;,&quot;Dict&quot;,&quot;List&quot;,&quot;Literal&quot;,&quot;Generic&quot;,&quot;Optional&quot;,&quot;Sequence&quot;,&quot;Set&quot;,&quot;Tuple&quot;,&quot;Type&quot;,&quot;Union&quot;]},r={className:&quot;meta&quot;,begin:/^(&gt;&gt;&gt;|\\.\\.\\.) /},o={className:&quot;subst&quot;,begin:/\\{/,end:/\\}/,keywords:D,illegal:/#/},i={begin:/\\{\\{/,relevance:0},a={className:&quot;string&quot;,contains:[u.BACKSLASH_ESCAPE],variants:[{begin:/([uU]|[bB]|[rR]|[bB][rR]|[rR][bB])?&#x27;&#x27;&#x27;/,end:/&#x27;&#x27;&#x27;/,contains:[u.BACKSLASH_ESCAPE,r],relevance:10},{begin:/([uU]|[bB]|[rR]|[bB][rR]|[rR][bB])?&quot;&quot;&quot;/,end:/&quot;&quot;&quot;/,contains:[u.BACKSLASH_ESCAPE,r],relevance:10},{begin:/([fF][rR]|[rR][fF]|[fF])&#x27;&#x27;&#x27;/,end:/&#x27;&#x27;&#x27;/,contains:[u.BACKSLASH_ESCAPE,r,i,o]},{begin:/([fF][rR]|[rR][fF]|[fF])&quot;&quot;&quot;/,end:/&quot;&quot;&quot;/,contains:[u.BACKSLASH_ESCAPE,r,i,o]},{begin:/([uU]|[rR])&#x27;/,end:/&#x27;/,relevance:10},{begin:/([uU]|[rR])&quot;/,end:/&quot;/,relevance:10},{begin:/([bB]|[bB][rR]|[rR][bB])&#x27;/,end:/&#x27;/},{begin:/([bB]|[bB][rR]|[rR][bB])&quot;/,end:/&quot;/},{begin:/([fF][rR]|[rR][fF]|[fF])&#x27;/,end:/&#x27;/,contains:[u.BACKSLASH_ESCAPE,i,o]},{begin:/([fF][rR]|[rR][fF]|[fF])&quot;/,end:/&quot;/,contains:[u.BACKSLASH_ESCAPE,i,o]},u.APOS_STRING_MODE,u.QUOTE_STRING_MODE]},c=&quot;[0-9](_?[0-9])*&quot;,s=&quot;(\\\\b(&quot;.concat(c,&quot;))?\\\\.(&quot;).concat(c,&quot;)|\\\\b(&quot;).concat(c,&quot;)\\\\.&quot;),l=&quot;\\\\b|&quot;+n.join(&quot;|&quot;),F={className:&quot;number&quot;,relevance:0,variants:[{begin:&quot;(\\\\b(&quot;.concat(c,&quot;)|(&quot;).concat(s,&quot;))[eE][+-]?(&quot;).concat(c,&quot;)[jJ]?(?=&quot;).concat(l,&quot;)&quot;)},{begin:&quot;(&quot;.concat(s,&quot;)[jJ]?&quot;)},{begin:&quot;\\\\b([1-9](_?[0-9])*|0+(_?0)*)[lLjJ]?(?=&quot;.concat(l,&quot;)&quot;)},{begin:&quot;\\\\b0[bB](_?[01])+[lL]?(?=&quot;.concat(l,&quot;)&quot;)},{begin:&quot;\\\\b0[oO](_?[0-7])+[lL]?(?=&quot;.concat(l,&quot;)&quot;)},{begin:&quot;\\\\b0[xX](_?[0-9a-fA-F])+[lL]?(?=&quot;.concat(l,&quot;)&quot;)},{begin:&quot;\\\\b(&quot;.concat(c,&quot;)[jJ](?=&quot;).concat(l,&quot;)&quot;)}]},C={className:&quot;comment&quot;,begin:e.lookahead(/# type:/),end:/$/,keywords:D,contains:[{begin:/# type:/},{begin:/#/,end:/\\b\\B/,endsWithParent:!0}]},E={className:&quot;params&quot;,variants:[{className:&quot;&quot;,begin:/\\(\\s*\\)/,skip:!0},{begin:/\\(/,end:/\\)/,excludeBegin:!0,excludeEnd:!0,keywords:D,contains:[&quot;self&quot;,r,F,a,u.HASH_COMMENT_MODE]}]};return o.contains=[a,F,r],{name:&quot;Python&quot;,aliases:[&quot;py&quot;,&quot;gyp&quot;,&quot;ipython&quot;],unicodeRegex:!0,keywords:D,illegal:/(&lt;\\/|-&gt;|\\?)|=&gt;/,contains:[r,F,{begin:/\\bself\\b/},{beginKeywords:&quot;if&quot;,relevance:0},a,C,u.HASH_COMMENT_MODE,{match:[/\\bdef/,/\\s+/,t],scope:{1:&quot;keyword&quot;,3:&quot;title.function&quot;},contains:[E]},{variants:[{match:[/\\bclass/,/\\s+/,t,/\\s*/,/\\(\\s*/,t,/\\s*\\)/]},{match:[/\\bclass/,/\\s+/,t]}],scope:{1:&quot;keyword&quot;,3:&quot;title.class&quot;,6:&quot;title.class.inherited&quot;}},{className:&quot;meta&quot;,begin:/^[\\t ]*@/,end:/(?=#)|$/,contains:[F,E,a]}]}};hljs.registerLanguage(&quot;python&quot;,u)}();var CopyButtonPlugin=function(){function u(){var e=arguments.length&gt;0&amp;&amp;void 0!==arguments[0]?arguments[0]:{};_classCallCheck(this,u),self.hook=e.hook,self.callback=e.callback}return _createClass(u,[{key:&quot;after:highlightElement&quot;,value:function(u){var e=u.el,t=u.text,n=Object.assign(document.createElement(&quot;button&quot;),{innerHTML:&quot;Copy&quot;,className:&quot;hljs-copy-button&quot;});n.dataset.copied=!1,e.parentElement.classList.add(&quot;hljs-copy-wrapper&quot;),e.parentElement.appendChild(n),e.parentElement.style.setProperty(&quot;--hljs-theme-background&quot;,window.getComputedStyle(e).backgroundColor),n.onclick=function(){if(navigator.clipboard){var u=t;hook&amp;&amp;&quot;function&quot;==typeof hook&amp;&amp;(u=hook(t,e)||t),navigator.clipboard.writeText(u).then(function(){n.innerHTML=&quot; Copied! &quot;,n.dataset.copied=!0;var u=Object.assign(document.createElement(&quot;div&quot;),{role:&quot;status&quot;,className:&quot;hljs-copy-alert&quot;,innerHTML:&quot;Copied to clipboard&quot;});e.parentElement.appendChild(u),setTimeout(function(){n.innerHTML=&quot;Copy&quot;,n.dataset.copied=!1,e.parentElement.removeChild(u),u=null},2e3)}).then(function(){if(&quot;function&quot;==typeof callback)return callback(u,e)})}}}}]),u}();!function(){hljs.addPlugin(new CopyButtonPlugin),hljs.highlightAll(),document.querySelectorAll(&quot;#gsk-scan .gsk-issue&quot;).forEach(function(u){u.addEventListener(&quot;click&quot;,function(e){e.preventDefault(),u.classList.toggle(&quot;open&quot;),u.classList.toggle(&quot;bg-zinc-700&quot;)})});var u=document.querySelectorAll(&quot;#gsk-scan [role=&#x27;tabpanel&#x27;]&quot;),e=document.querySelectorAll(&quot;#gsk-scan [data-tab-target]&quot;);e.forEach(function(t){t.addEventListener(&quot;click&quot;,function(n){n.preventDefault();var D=t.getAttribute(&quot;data-tab-target&quot;);u.forEach(function(u){u.classList.add(&quot;hidden&quot;)}),e.forEach(function(u){u.classList.remove(&quot;active&quot;)}),t.classList.add(&quot;active&quot;),document.getElementById(D).classList.remove(&quot;hidden&quot;)})})}();\n",
       "&lt;/script&gt;\n",
       "\n",
       "&lt;/body&gt;\n",
       "\n",
       "&lt;/html&gt;\" style=\"width: 100%; border: none;\" class=\"gsk-scan\"></iframe>\n",
       "<script>\n",
       "\"use strict\";\n",
       "\n",
       "function _typeof(obj) { \"@babel/helpers - typeof\"; return _typeof = \"function\" == typeof Symbol && \"symbol\" == typeof Symbol.iterator ? function (obj) { return typeof obj; } : function (obj) { return obj && \"function\" == typeof Symbol && obj.constructor === Symbol && obj !== Symbol.prototype ? \"symbol\" : typeof obj; }, _typeof(obj); }\n",
       "/*! iFrame Resizer (iframeSizer.min.js ) - v4.3.5 - 2023-03-08\n",
       " *  Desc: Force cross domain iframes to size to content.\n",
       " *  Requires: iframeResizer.contentWindow.min.js to be loaded into the target frame.\n",
       " *  Copyright: (c) 2023 David J. Bradshaw - dave@bradshaw.net\n",
       " *  License: MIT\n",
       " */\n",
       "!function (d) {\n",
       "  var c, u, a, v, x, I, M, r, f, k, i, l, z;\n",
       "  function m() {\n",
       "    return window.MutationObserver || window.WebKitMutationObserver || window.MozMutationObserver;\n",
       "  }\n",
       "  function F(e, n, i) {\n",
       "    e.addEventListener(n, i, !1);\n",
       "  }\n",
       "  function B(e, n, i) {\n",
       "    e.removeEventListener(n, i, !1);\n",
       "  }\n",
       "  function p(e) {\n",
       "    return x + \"[\" + (n = \"Host page: \" + (e = e), n = window.top !== window.self ? window.parentIFrame && window.parentIFrame.getId ? window.parentIFrame.getId() + \": \" + e : \"Nested host page: \" + e : n) + \"]\";\n",
       "    var n;\n",
       "  }\n",
       "  function t(e) {\n",
       "    return k[e] ? k[e].log : u;\n",
       "  }\n",
       "  function O(e, n) {\n",
       "    o(\"log\", e, n, t(e));\n",
       "  }\n",
       "  function E(e, n) {\n",
       "    o(\"info\", e, n, t(e));\n",
       "  }\n",
       "  function R(e, n) {\n",
       "    o(\"warn\", e, n, !0);\n",
       "  }\n",
       "  function o(e, n, i, t) {\n",
       "    !0 === t && \"object\" == _typeof(window.console) && console[e](p(n), i);\n",
       "  }\n",
       "  function w(e) {\n",
       "    function i() {\n",
       "      t(\"Height\"), t(\"Width\"), P(function () {\n",
       "        H(w), C(b), l(\"onResized\", w);\n",
       "      }, w, \"init\");\n",
       "    }\n",
       "    function n() {\n",
       "      var e = p.slice(I).split(\":\"),\n",
       "        n = e[1] ? parseInt(e[1], 10) : 0,\n",
       "        i = k[e[0]] && k[e[0]].iframe,\n",
       "        t = getComputedStyle(i);\n",
       "      return {\n",
       "        iframe: i,\n",
       "        id: e[0],\n",
       "        height: n + function (e) {\n",
       "          if (\"border-box\" !== e.boxSizing) return 0;\n",
       "          var n = e.paddingTop ? parseInt(e.paddingTop, 10) : 0,\n",
       "            e = e.paddingBottom ? parseInt(e.paddingBottom, 10) : 0;\n",
       "          return n + e;\n",
       "        }(t) + function (e) {\n",
       "          if (\"border-box\" !== e.boxSizing) return 0;\n",
       "          var n = e.borderTopWidth ? parseInt(e.borderTopWidth, 10) : 0,\n",
       "            e = e.borderBottomWidth ? parseInt(e.borderBottomWidth, 10) : 0;\n",
       "          return n + e;\n",
       "        }(t),\n",
       "        width: e[2],\n",
       "        type: e[3]\n",
       "      };\n",
       "    }\n",
       "    function t(e) {\n",
       "      var n = Number(k[b][\"max\" + e]),\n",
       "        i = Number(k[b][\"min\" + e]),\n",
       "        e = e.toLowerCase(),\n",
       "        t = Number(w[e]);\n",
       "      O(b, \"Checking \" + e + \" is in range \" + i + \"-\" + n), t < i && (t = i, O(b, \"Set \" + e + \" to min value\")), n < t && (t = n, O(b, \"Set \" + e + \" to max value\")), w[e] = \"\" + t;\n",
       "    }\n",
       "    function o() {\n",
       "      var t = e.origin,\n",
       "        o = k[b] && k[b].checkOrigin;\n",
       "      if (o && \"\" + t != \"null\" && !function () {\n",
       "        if (o.constructor !== Array) return e = k[b] && k[b].remoteHost, O(b, \"Checking connection is from: \" + e), t === e;\n",
       "        var e,\n",
       "          n = 0,\n",
       "          i = !1;\n",
       "        for (O(b, \"Checking connection is from allowed list of origins: \" + o); n < o.length; n++) if (o[n] === t) {\n",
       "          i = !0;\n",
       "          break;\n",
       "        }\n",
       "        return i;\n",
       "      }()) throw new Error(\"Unexpected message received from: \" + t + \" for \" + w.iframe.id + \". Message was: \" + e.data + \". This error can be disabled by setting the checkOrigin: false option or by providing of array of trusted domains.\");\n",
       "      return 1;\n",
       "    }\n",
       "    function a(e) {\n",
       "      return p.slice(p.indexOf(\":\") + v + e);\n",
       "    }\n",
       "    function s(i, t) {\n",
       "      var e, n, o;\n",
       "      e = function e() {\n",
       "        var e, n;\n",
       "        A(\"Send Page Info\", \"pageInfo:\" + (e = document.body.getBoundingClientRect(), n = w.iframe.getBoundingClientRect(), JSON.stringify({\n",
       "          iframeHeight: n.height,\n",
       "          iframeWidth: n.width,\n",
       "          clientHeight: Math.max(document.documentElement.clientHeight, window.innerHeight || 0),\n",
       "          clientWidth: Math.max(document.documentElement.clientWidth, window.innerWidth || 0),\n",
       "          offsetTop: parseInt(n.top - e.top, 10),\n",
       "          offsetLeft: parseInt(n.left - e.left, 10),\n",
       "          scrollTop: window.pageYOffset,\n",
       "          scrollLeft: window.pageXOffset,\n",
       "          documentHeight: document.documentElement.clientHeight,\n",
       "          documentWidth: document.documentElement.clientWidth,\n",
       "          windowHeight: window.innerHeight,\n",
       "          windowWidth: window.innerWidth\n",
       "        })), i, t);\n",
       "      }, n = 32, z[o = t] || (z[o] = setTimeout(function () {\n",
       "        z[o] = null, e();\n",
       "      }, n));\n",
       "    }\n",
       "    function r(e) {\n",
       "      e = e.getBoundingClientRect();\n",
       "      return W(b), {\n",
       "        x: Math.floor(Number(e.left) + Number(M.x)),\n",
       "        y: Math.floor(Number(e.top) + Number(M.y))\n",
       "      };\n",
       "    }\n",
       "    function d(e) {\n",
       "      var n = e ? r(w.iframe) : {\n",
       "          x: 0,\n",
       "          y: 0\n",
       "        },\n",
       "        i = {\n",
       "          x: Number(w.width) + n.x,\n",
       "          y: Number(w.height) + n.y\n",
       "        };\n",
       "      O(b, \"Reposition requested from iFrame (offset x:\" + n.x + \" y:\" + n.y + \")\"), window.top === window.self ? (M = i, c(), O(b, \"--\")) : window.parentIFrame ? window.parentIFrame[\"scrollTo\" + (e ? \"Offset\" : \"\")](i.x, i.y) : R(b, \"Unable to scroll to requested position, window.parentIFrame not found\");\n",
       "    }\n",
       "    function c() {\n",
       "      !1 === l(\"onScroll\", M) ? S() : C(b);\n",
       "    }\n",
       "    function u(e) {\n",
       "      var e = e.split(\"#\")[1] || \"\",\n",
       "        n = decodeURIComponent(e),\n",
       "        n = document.getElementById(n) || document.getElementsByName(n)[0];\n",
       "      n ? (n = r(n), O(b, \"Moving to in page link (#\" + e + \") at x: \" + n.x + \" y: \" + n.y), M = {\n",
       "        x: n.x,\n",
       "        y: n.y\n",
       "      }, c(), O(b, \"--\")) : window.top === window.self ? O(b, \"In page link #\" + e + \" not found\") : window.parentIFrame ? window.parentIFrame.moveToAnchor(e) : O(b, \"In page link #\" + e + \" not found and window.parentIFrame not found\");\n",
       "    }\n",
       "    function f(e) {\n",
       "      var n,\n",
       "        i = {};\n",
       "      i = 0 === Number(w.width) && 0 === Number(w.height) ? {\n",
       "        x: (n = a(9).split(\":\"))[1],\n",
       "        y: n[0]\n",
       "      } : {\n",
       "        x: w.width,\n",
       "        y: w.height\n",
       "      }, l(e, {\n",
       "        iframe: w.iframe,\n",
       "        screenX: Number(i.x),\n",
       "        screenY: Number(i.y),\n",
       "        type: w.type\n",
       "      });\n",
       "    }\n",
       "    function l(e, n) {\n",
       "      return T(b, e, n);\n",
       "    }\n",
       "    function m() {\n",
       "      switch (k[b] && k[b].firstRun && k[b] && (k[b].firstRun = !1), w.type) {\n",
       "        case \"close\":\n",
       "          N(w.iframe);\n",
       "          break;\n",
       "        case \"message\":\n",
       "          n = a(6), O(b, \"onMessage passed: {iframe: \" + w.iframe.id + \", message: \" + n + \"}\"), l(\"onMessage\", {\n",
       "            iframe: w.iframe,\n",
       "            message: JSON.parse(n)\n",
       "          }), O(b, \"--\");\n",
       "          break;\n",
       "        case \"mouseenter\":\n",
       "          f(\"onMouseEnter\");\n",
       "          break;\n",
       "        case \"mouseleave\":\n",
       "          f(\"onMouseLeave\");\n",
       "          break;\n",
       "        case \"autoResize\":\n",
       "          k[b].autoResize = JSON.parse(a(9));\n",
       "          break;\n",
       "        case \"scrollTo\":\n",
       "          d(!1);\n",
       "          break;\n",
       "        case \"scrollToOffset\":\n",
       "          d(!0);\n",
       "          break;\n",
       "        case \"pageInfo\":\n",
       "          s(k[b] && k[b].iframe, b), r = b, e(\"Add \", F), k[r] && (k[r].stopPageInfo = o);\n",
       "          break;\n",
       "        case \"pageInfoStop\":\n",
       "          k[b] && k[b].stopPageInfo && (k[b].stopPageInfo(), delete k[b].stopPageInfo);\n",
       "          break;\n",
       "        case \"inPageLink\":\n",
       "          u(a(9));\n",
       "          break;\n",
       "        case \"reset\":\n",
       "          j(w);\n",
       "          break;\n",
       "        case \"init\":\n",
       "          i(), l(\"onInit\", w.iframe);\n",
       "          break;\n",
       "        default:\n",
       "          0 === Number(w.width) && 0 === Number(w.height) ? R(\"Unsupported message received (\" + w.type + \"), this is likely due to the iframe containing a later version of iframe-resizer than the parent page\") : i();\n",
       "      }\n",
       "      function e(n, i) {\n",
       "        function t() {\n",
       "          k[r] ? s(k[r].iframe, r) : o();\n",
       "        }\n",
       "        [\"scroll\", \"resize\"].forEach(function (e) {\n",
       "          O(r, n + e + \" listener for sendPageInfo\"), i(window, e, t);\n",
       "        });\n",
       "      }\n",
       "      function o() {\n",
       "        e(\"Remove \", B);\n",
       "      }\n",
       "      var r, n;\n",
       "    }\n",
       "    var g,\n",
       "      h,\n",
       "      p = e.data,\n",
       "      w = {},\n",
       "      b = null;\n",
       "    if (\"[iFrameResizerChild]Ready\" === p) for (var y in k) A(\"iFrame requested init\", L(y), k[y].iframe, y);else x === (\"\" + p).slice(0, I) && p.slice(I).split(\":\")[0] in k ? (w = n(), b = w.id, k[b] && (k[b].loaded = !0), (h = w.type in {\n",
       "      \"true\": 1,\n",
       "      \"false\": 1,\n",
       "      undefined: 1\n",
       "    }) && O(b, \"Ignoring init message from meta parent page\"), !h && (h = !0, k[g = b] || (h = !1, R(w.type + \" No settings for \" + g + \". Message was: \" + p)), h) && (O(b, \"Received: \" + p), g = !0, null === w.iframe && (R(b, \"IFrame (\" + w.id + \") not found\"), g = !1), g && o() && m())) : E(b, \"Ignored: \" + p);\n",
       "  }\n",
       "  function T(e, n, i) {\n",
       "    var t = null,\n",
       "      o = null;\n",
       "    if (k[e]) {\n",
       "      if (\"function\" != typeof (t = k[e][n])) throw new TypeError(n + \" on iFrame[\" + e + \"] is not a function\");\n",
       "      o = t(i);\n",
       "    }\n",
       "    return o;\n",
       "  }\n",
       "  function g(e) {\n",
       "    e = e.id;\n",
       "    delete k[e];\n",
       "  }\n",
       "  function N(e) {\n",
       "    var n = e.id;\n",
       "    if (!1 === T(n, \"onClose\", n)) O(n, \"Close iframe cancelled by onClose event\");else {\n",
       "      O(n, \"Removing iFrame: \" + n);\n",
       "      try {\n",
       "        e.parentNode && e.parentNode.removeChild(e);\n",
       "      } catch (e) {\n",
       "        R(e);\n",
       "      }\n",
       "      T(n, \"onClosed\", n), O(n, \"--\"), g(e);\n",
       "    }\n",
       "  }\n",
       "  function W(e) {\n",
       "    null === M && O(e, \"Get page position: \" + (M = {\n",
       "      x: window.pageXOffset === d ? document.documentElement.scrollLeft : window.pageXOffset,\n",
       "      y: window.pageYOffset === d ? document.documentElement.scrollTop : window.pageYOffset\n",
       "    }).x + \",\" + M.y);\n",
       "  }\n",
       "  function C(e) {\n",
       "    null !== M && (window.scrollTo(M.x, M.y), O(e, \"Set page position: \" + M.x + \",\" + M.y), S());\n",
       "  }\n",
       "  function S() {\n",
       "    M = null;\n",
       "  }\n",
       "  function j(e) {\n",
       "    O(e.id, \"Size reset requested by \" + (\"init\" === e.type ? \"host page\" : \"iFrame\")), W(e.id), P(function () {\n",
       "      H(e), A(\"reset\", \"reset\", e.iframe, e.id);\n",
       "    }, e, \"reset\");\n",
       "  }\n",
       "  function H(o) {\n",
       "    function i(e) {\n",
       "      var n;\n",
       "      function i() {\n",
       "        Object.keys(k).forEach(function (e) {\n",
       "          function n(e) {\n",
       "            return \"0px\" === (k[i] && k[i].iframe.style[e]);\n",
       "          }\n",
       "          var i;\n",
       "          k[i = e] && null !== k[i].iframe.offsetParent && (n(\"height\") || n(\"width\")) && A(\"Visibility change\", \"resize\", k[i].iframe, i);\n",
       "        });\n",
       "      }\n",
       "      function t(e) {\n",
       "        O(\"window\", \"Mutation observed: \" + e[0].target + \" \" + e[0].type), h(i, 16);\n",
       "      }\n",
       "      !a && \"0\" === o[e] && (a = !0, O(r, \"Hidden iFrame detected, creating visibility listener\"), e = m()) && (n = document.querySelector(\"body\"), new e(t).observe(n, {\n",
       "        attributes: !0,\n",
       "        attributeOldValue: !1,\n",
       "        characterData: !0,\n",
       "        characterDataOldValue: !1,\n",
       "        childList: !0,\n",
       "        subtree: !0\n",
       "      }));\n",
       "    }\n",
       "    function e(e) {\n",
       "      var n;\n",
       "      n = e, o.id ? (o.iframe.style[n] = o[n] + \"px\", O(o.id, \"IFrame (\" + r + \") \" + n + \" set to \" + o[n] + \"px\")) : O(\"undefined\", \"messageData id not set\"), i(e);\n",
       "    }\n",
       "    var r = o.iframe.id;\n",
       "    k[r] && (k[r].sizeHeight && e(\"height\"), k[r].sizeWidth) && e(\"width\");\n",
       "  }\n",
       "  function P(e, n, i) {\n",
       "    i !== n.type && r && !window.jasmine ? (O(n.id, \"Requesting animation frame\"), r(e)) : e();\n",
       "  }\n",
       "  function A(n, i, t, o, e) {\n",
       "    function r() {\n",
       "      var e;\n",
       "      t && \"contentWindow\" in t && null !== t.contentWindow ? (e = k[o] && k[o].targetOrigin, O(o, \"[\" + n + \"] Sending msg to iframe[\" + o + \"] (\" + i + \") targetOrigin: \" + e), t.contentWindow.postMessage(x + i, e)) : R(o, \"[\" + n + \"] IFrame(\" + o + \") not found\");\n",
       "    }\n",
       "    function a() {\n",
       "      e && k[o] && k[o].warningTimeout && (k[o].msgTimeout = setTimeout(function () {\n",
       "        !k[o] || k[o].loaded || s || (s = !0, R(o, \"IFrame has not responded within \" + k[o].warningTimeout / 1e3 + \" seconds. Check iFrameResizer.contentWindow.js has been loaded in iFrame. This message can be ignored if everything is working, or you can set the warningTimeout option to a higher value or zero to suppress this warning.\"));\n",
       "      }, k[o].warningTimeout));\n",
       "    }\n",
       "    var s = !1;\n",
       "    o = o || t.id, k[o] && (r(), a());\n",
       "  }\n",
       "  function L(e) {\n",
       "    return e + \":\" + k[e].bodyMarginV1 + \":\" + k[e].sizeWidth + \":\" + k[e].log + \":\" + k[e].interval + \":\" + k[e].enablePublicMethods + \":\" + k[e].autoResize + \":\" + k[e].bodyMargin + \":\" + k[e].heightCalculationMethod + \":\" + k[e].bodyBackground + \":\" + k[e].bodyPadding + \":\" + k[e].tolerance + \":\" + k[e].inPageLinks + \":\" + k[e].resizeFrom + \":\" + k[e].widthCalculationMethod + \":\" + k[e].mouseEvents;\n",
       "  }\n",
       "  function s(t, i) {\n",
       "    function e(i) {\n",
       "      var e = m();\n",
       "      e && (e = e, t.parentNode) && new e(function (e) {\n",
       "        e.forEach(function (e) {\n",
       "          Array.prototype.slice.call(e.removedNodes).forEach(function (e) {\n",
       "            e === t && N(t);\n",
       "          });\n",
       "        });\n",
       "      }).observe(t.parentNode, {\n",
       "        childList: !0\n",
       "      }), F(t, \"load\", function () {\n",
       "        var e, n;\n",
       "        A(\"iFrame.onload\", i, t, d, !0), e = k[r] && k[r].firstRun, n = k[r] && k[r].heightCalculationMethod in f, !e && n && j({\n",
       "          iframe: t,\n",
       "          height: 0,\n",
       "          width: 0,\n",
       "          type: \"init\"\n",
       "        });\n",
       "      }), A(\"init\", i, t, d, !0);\n",
       "    }\n",
       "    function o(e) {\n",
       "      var n = e.split(\"Callback\");\n",
       "      2 === n.length && (this[n = \"on\" + n[0].charAt(0).toUpperCase() + n[0].slice(1)] = this[e], delete this[e], R(r, \"Deprecated: '\" + e + \"' has been renamed '\" + n + \"'. The old method will be removed in the next major version.\"));\n",
       "    }\n",
       "    function n(e) {\n",
       "      if (e = e || {}, k[r] = Object.create(null), k[r].iframe = t, k[r].firstRun = !0, k[r].remoteHost = t.src && t.src.split(\"/\").slice(0, 3).join(\"/\"), \"object\" != _typeof(e)) throw new TypeError(\"Options is not an object\");\n",
       "      Object.keys(e).forEach(o, e);\n",
       "      var n,\n",
       "        i = e;\n",
       "      for (n in l) Object.prototype.hasOwnProperty.call(l, n) && (k[r][n] = (Object.prototype.hasOwnProperty.call(i, n) ? i : l)[n]);\n",
       "      k[r] && (k[r].targetOrigin = !0 !== k[r].checkOrigin || \"\" === (e = k[r].remoteHost) || null !== e.match(/^(about:blank|javascript:|file:\\/\\/)/) ? \"*\" : e);\n",
       "    }\n",
       "    var r = function (e) {\n",
       "      if (\"string\" != typeof e) throw new TypeError(\"Invaild id for iFrame. Expected String\");\n",
       "      var n;\n",
       "      return \"\" === e && (t.id = (n = i && i.id || l.id + c++, null !== document.getElementById(n) && (n += c++), e = n), u = (i || {}).log, O(e, \"Added missing iframe ID: \" + e + \" (\" + t.src + \")\")), e;\n",
       "    }(t.id);\n",
       "    if (r in k && \"iFrameResizer\" in t) R(r, \"Ignored iFrame, already setup.\");else {\n",
       "      switch (n(i), O(r, \"IFrame scrolling \" + (k[r] && k[r].scrolling ? \"enabled\" : \"disabled\") + \" for \" + r), t.style.overflow = !1 === (k[r] && k[r].scrolling) ? \"hidden\" : \"auto\", k[r] && k[r].scrolling) {\n",
       "        case \"omit\":\n",
       "          break;\n",
       "        case !0:\n",
       "          t.scrolling = \"yes\";\n",
       "          break;\n",
       "        case !1:\n",
       "          t.scrolling = \"no\";\n",
       "          break;\n",
       "        default:\n",
       "          t.scrolling = k[r] ? k[r].scrolling : \"no\";\n",
       "      }\n",
       "      s(\"Height\"), s(\"Width\"), a(\"maxHeight\"), a(\"minHeight\"), a(\"maxWidth\"), a(\"minWidth\"), \"number\" != typeof (k[r] && k[r].bodyMargin) && \"0\" !== (k[r] && k[r].bodyMargin) || (k[r].bodyMarginV1 = k[r].bodyMargin, k[r].bodyMargin = k[r].bodyMargin + \"px\"), e(L(r)), k[r] && (k[r].iframe.iFrameResizer = {\n",
       "        close: N.bind(null, k[r].iframe),\n",
       "        removeListeners: g.bind(null, k[r].iframe),\n",
       "        resize: A.bind(null, \"Window resize\", \"resize\", k[r].iframe),\n",
       "        moveToAnchor: function moveToAnchor(e) {\n",
       "          A(\"Move to anchor\", \"moveToAnchor:\" + e, k[r].iframe, r);\n",
       "        },\n",
       "        sendMessage: function sendMessage(e) {\n",
       "          A(\"Send Message\", \"message:\" + (e = JSON.stringify(e)), k[r].iframe, r);\n",
       "        }\n",
       "      });\n",
       "    }\n",
       "    function a(e) {\n",
       "      var n = k[r][e];\n",
       "      1 / 0 !== n && 0 !== n && (t.style[e] = \"number\" == typeof n ? n + \"px\" : n, O(r, \"Set \" + e + \" = \" + t.style[e]));\n",
       "    }\n",
       "    function s(e) {\n",
       "      if (k[r][\"min\" + e] > k[r][\"max\" + e]) throw new Error(\"Value for min\" + e + \" can not be greater than max\" + e);\n",
       "    }\n",
       "  }\n",
       "  function h(e, n) {\n",
       "    null === i && (i = setTimeout(function () {\n",
       "      i = null, e();\n",
       "    }, n));\n",
       "  }\n",
       "  function e() {\n",
       "    \"hidden\" !== document.visibilityState && (O(\"document\", \"Trigger event: Visibility change\"), h(function () {\n",
       "      b(\"Tab Visible\", \"resize\");\n",
       "    }, 16));\n",
       "  }\n",
       "  function b(i, t) {\n",
       "    Object.keys(k).forEach(function (e) {\n",
       "      var n;\n",
       "      k[n = e] && \"parent\" === k[n].resizeFrom && k[n].autoResize && !k[n].firstRun && A(i, t, k[e].iframe, e);\n",
       "    });\n",
       "  }\n",
       "  function y() {\n",
       "    F(window, \"message\", w), F(window, \"resize\", function () {\n",
       "      var e;\n",
       "      O(\"window\", \"Trigger event: \" + (e = \"resize\")), h(function () {\n",
       "        b(\"Window \" + e, \"resize\");\n",
       "      }, 16);\n",
       "    }), F(document, \"visibilitychange\", e), F(document, \"-webkit-visibilitychange\", e);\n",
       "  }\n",
       "  function n() {\n",
       "    function t(e, n) {\n",
       "      if (n) {\n",
       "        if (!n.tagName) throw new TypeError(\"Object is not a valid DOM element\");\n",
       "        if (\"IFRAME\" !== n.tagName.toUpperCase()) throw new TypeError(\"Expected <IFRAME> tag, found <\" + n.tagName + \">\");\n",
       "        s(n, e), o.push(n);\n",
       "      }\n",
       "    }\n",
       "    for (var o, e = [\"moz\", \"webkit\", \"o\", \"ms\"], n = 0; n < e.length && !r; n += 1) r = window[e[n] + \"RequestAnimationFrame\"];\n",
       "    return r ? r = r.bind(window) : O(\"setup\", \"RequestAnimationFrame not supported\"), y(), function (e, n) {\n",
       "      var i;\n",
       "      switch (o = [], (i = e) && i.enablePublicMethods && R(\"enablePublicMethods option has been removed, public methods are now always available in the iFrame\"), _typeof(n)) {\n",
       "        case \"undefined\":\n",
       "        case \"string\":\n",
       "          Array.prototype.forEach.call(document.querySelectorAll(n || \"iframe\"), t.bind(d, e));\n",
       "          break;\n",
       "        case \"object\":\n",
       "          t(e, n);\n",
       "          break;\n",
       "        default:\n",
       "          throw new TypeError(\"Unexpected data type (\" + _typeof(n) + \")\");\n",
       "      }\n",
       "      return o;\n",
       "    };\n",
       "  }\n",
       "  function q(e) {\n",
       "    e.fn ? e.fn.iFrameResize || (e.fn.iFrameResize = function (i) {\n",
       "      return this.filter(\"iframe\").each(function (e, n) {\n",
       "        s(n, i);\n",
       "      }).end();\n",
       "    }) : E(\"\", \"Unable to bind to jQuery, it is not fully loaded.\");\n",
       "  }\n",
       "  \"undefined\" != typeof window && (c = 0, a = u = !1, v = \"message\".length, I = (x = \"[iFrameSizer]\").length, M = null, r = window.requestAnimationFrame, f = Object.freeze({\n",
       "    max: 1,\n",
       "    scroll: 1,\n",
       "    bodyScroll: 1,\n",
       "    documentElementScroll: 1\n",
       "  }), k = {}, i = null, l = Object.freeze({\n",
       "    autoResize: !0,\n",
       "    bodyBackground: null,\n",
       "    bodyMargin: null,\n",
       "    bodyMarginV1: 8,\n",
       "    bodyPadding: null,\n",
       "    checkOrigin: !0,\n",
       "    inPageLinks: !1,\n",
       "    enablePublicMethods: !0,\n",
       "    heightCalculationMethod: \"bodyOffset\",\n",
       "    id: \"iFrameResizer\",\n",
       "    interval: 32,\n",
       "    log: !1,\n",
       "    maxHeight: 1 / 0,\n",
       "    maxWidth: 1 / 0,\n",
       "    minHeight: 0,\n",
       "    minWidth: 0,\n",
       "    mouseEvents: !0,\n",
       "    resizeFrom: \"parent\",\n",
       "    scrolling: !1,\n",
       "    sizeHeight: !0,\n",
       "    sizeWidth: !1,\n",
       "    warningTimeout: 5e3,\n",
       "    tolerance: 0,\n",
       "    widthCalculationMethod: \"scroll\",\n",
       "    onClose: function onClose() {\n",
       "      return !0;\n",
       "    },\n",
       "    onClosed: function onClosed() {},\n",
       "    onInit: function onInit() {},\n",
       "    onMessage: function onMessage() {\n",
       "      R(\"onMessage function not defined\");\n",
       "    },\n",
       "    onMouseEnter: function onMouseEnter() {},\n",
       "    onMouseLeave: function onMouseLeave() {},\n",
       "    onResized: function onResized() {},\n",
       "    onScroll: function onScroll() {\n",
       "      return !0;\n",
       "    }\n",
       "  }), z = {}, window.jQuery !== d && q(window.jQuery), \"function\" == typeof define && define.amd ? define([], n) : \"object\" == (typeof module === \"undefined\" ? \"undefined\" : _typeof(module)) && \"object\" == _typeof(module.exports) && (module.exports = n()), window.iFrameResize = window.iFrameResize || n());\n",
       "}();\n",
       "(function(){iFrameResize({ checkOrigin: false }, '#scan-11498157920');})();\n",
       "</script>"
      ]
     },
     "metadata": {},
     "output_type": "display_data"
    }
   ],
   "source": [
    "display(results)"
   ]
  },
  {
   "cell_type": "code",
   "execution_count": null,
   "id": "06301377",
   "metadata": {},
   "outputs": [],
   "source": []
  }
 ],
 "metadata": {
  "kernelspec": {
   "display_name": "Python 3.10.10 64-bit",
   "language": "python",
   "name": "python3"
  },
  "language_info": {
   "codemirror_mode": {
    "name": "ipython",
    "version": 3
   },
   "file_extension": ".py",
   "mimetype": "text/x-python",
   "name": "python",
   "nbconvert_exporter": "python",
   "pygments_lexer": "ipython3",
   "version": "3.10.10"
  },
  "toc": {
   "base_numbering": 1,
   "nav_menu": {},
   "number_sections": true,
   "sideBar": true,
   "skip_h1_title": false,
   "title_cell": "Table of Contents",
   "title_sidebar": "Contents",
   "toc_cell": false,
   "toc_position": {},
   "toc_section_display": true,
   "toc_window_display": false
  },
  "varInspector": {
   "cols": {
    "lenName": 16,
    "lenType": 16,
    "lenVar": 40
   },
   "kernels_config": {
    "python": {
     "delete_cmd_postfix": "",
     "delete_cmd_prefix": "del ",
     "library": "var_list.py",
     "varRefreshCmd": "print(var_dic_list())"
    },
    "r": {
     "delete_cmd_postfix": ") ",
     "delete_cmd_prefix": "rm(",
     "library": "var_list.r",
     "varRefreshCmd": "cat(var_dic_list()) "
    }
   },
   "types_to_exclude": [
    "module",
    "function",
    "builtin_function_or_method",
    "instance",
    "_Feature"
   ],
   "window_display": false
  },
  "vscode": {
   "interpreter": {
    "hash": "bd385fe162c5ca0c84973b7dd5c518456272446b2b64e67c2a69f949ca7a1754"
   }
  }
 },
 "nbformat": 4,
 "nbformat_minor": 5
}
